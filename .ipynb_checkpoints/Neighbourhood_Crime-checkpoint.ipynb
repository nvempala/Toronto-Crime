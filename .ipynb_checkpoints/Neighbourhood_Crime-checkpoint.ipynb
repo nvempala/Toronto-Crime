{
 "cells": [
  {
   "cell_type": "markdown",
   "metadata": {},
   "source": [
    "# Crime in Toronto's Neighbourhoods\n",
    "\n",
    "\n",
    "This is an ongoing project that uses data from Toronto's [Open Data](http://www1.toronto.ca/wps/portal/contentonly?vgnextoid=9e56e03bb8d1e310VgnVCM10000071d60f89RCRD), which consists of over 200 datasets provided by the City of Toronto. These datasets are organized into 15 different categories.\n",
    "\n",
    "Toronto is considered to be a safe city in comparison to other big cities. In an article in the Economist (2015), Toronto was ranked as the safest major city in North America and the eighth safest major city in the world, as cited in [Wikipedia](https://en.wikipedia.org/wiki/Crime_in_Toronto).\n",
    "\n",
    "Despite being a relatively safer city, Toronto has its fair share of crime. The city consists of 140 officially recognized neighbourhoods along with several other unofficial, smaller neighbourhoods. As is the case with any big city, some neighbourhoods are considered to be less safe than others. Several reasons are attributed to higher crime – lower income, lower literacy and access to education, unemployment leading to illegal drug activity etc. An analysis of crime and neighbourhood data within Toronto will provide us with a good understanding of how many of these assumptions are true and to what degree. It might additionally reveal hidden patterns, trends or relationships between some independent variables and our dependent variable (e.g. major crimes) that would not be obvious. \n",
    "\n",
    "For this project, I will focus only on crime in Toronto’s 140 official neighbourhoods, and explore the following topics in no particular order. \n",
    "\n",
    "1) I will provide a summarized visualization of all the major crimes in Toronto. I might have to do some type of normalization (e.g. divide the number of crimes in a neighbourhood by the population of that neighbourhood).\n",
    "\n",
    "2) I will compare 3-5 most crime prone neighbourhoods against 3-5 least crime prone neighbourhoods.\n",
    " \n",
    "3) What is the difference in these neighbourhoods as regards median household income and education? Which is the most prominent age group of people? Does this in any way affect crime?\n",
    "\n",
    "4) My dataset provides me with data only for two years – 2008 and 2011. I plan to compare crime data for both years. Has anything changed from 2008 to 2011?\n",
    "\n",
    "5) What is the neighbourhood with the most change?\n",
    "\n",
    "6) What could be the reasons for this change? Can the data give us an answer?\n",
    "\n",
    "7) Finally, I will try to come up with something predictive (using machine learning). This would be more speculative as the data does not afford any type of validation, given that I have only two years of data. But this would still be helpful as a predictive tool in the current climate of ongoing gentrification projects in Toronto since the last 4-5 years, coinciding with a significant increase in the construction of large-to-midsize condominium buildings in various neighbourhoods, undoubtedly changing the social demographics of the city.\n",
    "\n",
    "#### Import all the libraries"
   ]
  },
  {
   "cell_type": "code",
   "execution_count": 1,
   "metadata": {
    "collapsed": true
   },
   "outputs": [],
   "source": [
    "import numpy as np\n",
    "import pandas as pd\n",
    "import matplotlib.pyplot as plt\n",
    "import seaborn as sns"
   ]
  },
  {
   "cell_type": "markdown",
   "metadata": {},
   "source": [
    "#### Seaborn settings"
   ]
  },
  {
   "cell_type": "code",
   "execution_count": 2,
   "metadata": {
    "collapsed": true
   },
   "outputs": [],
   "source": [
    "# seaborn setting\n",
    "sns.set_palette(\"deep\", desat=.6)\n",
    "sns.set_context(rc={\"figure.figsize\": (8,4)})"
   ]
  },
  {
   "cell_type": "markdown",
   "metadata": {},
   "source": [
    "#### Read the data files as pandas dataframes"
   ]
  },
  {
   "cell_type": "code",
   "execution_count": 3,
   "metadata": {
    "collapsed": false
   },
   "outputs": [],
   "source": [
    "c = pd.read_csv('TorontoCrime2011.csv')\n",
    "d = pd.read_csv('TorontoDemographics2011.csv')\n",
    "\n",
    "# Also read in the 2008 data files\n",
    "c2 = pd.read_csv('TorontoCrime2008.csv')\n",
    "d2 = pd.read_csv('TorontoDemographics2008.csv')"
   ]
  },
  {
   "cell_type": "markdown",
   "metadata": {},
   "source": [
    "#### Let's take a quick look at the top few rows of the 2011 and 2008 Toronto Crime dataframes."
   ]
  },
  {
   "cell_type": "code",
   "execution_count": 4,
   "metadata": {
    "collapsed": false
   },
   "outputs": [
    {
     "data": {
      "text/html": [
       "<div>\n",
       "<table border=\"1\" class=\"dataframe\">\n",
       "  <thead>\n",
       "    <tr style=\"text-align: right;\">\n",
       "      <th></th>\n",
       "      <th>Neighbourhood</th>\n",
       "      <th>Neighbourhood Id</th>\n",
       "      <th>Arsons</th>\n",
       "      <th>Assaults</th>\n",
       "      <th>Break &amp; Enters</th>\n",
       "      <th>Drug Arrests</th>\n",
       "      <th>Fire Medical Calls</th>\n",
       "      <th>Fire Vehicle Incidents</th>\n",
       "      <th>Fires &amp; Fire Alarms</th>\n",
       "      <th>Hazardous Incidents</th>\n",
       "      <th>Murders</th>\n",
       "      <th>Robberies</th>\n",
       "      <th>Sexual Assaults</th>\n",
       "      <th>Thefts</th>\n",
       "      <th>Total Major Crime Incidents</th>\n",
       "      <th>Vehicle Thefts</th>\n",
       "    </tr>\n",
       "  </thead>\n",
       "  <tbody>\n",
       "    <tr>\n",
       "      <th>0</th>\n",
       "      <td>West Humber-Clairville</td>\n",
       "      <td>1</td>\n",
       "      <td>4</td>\n",
       "      <td>390</td>\n",
       "      <td>175</td>\n",
       "      <td>62</td>\n",
       "      <td>1321</td>\n",
       "      <td>502</td>\n",
       "      <td>705</td>\n",
       "      <td>210</td>\n",
       "      <td>0</td>\n",
       "      <td>82</td>\n",
       "      <td>68</td>\n",
       "      <td>54</td>\n",
       "      <td>1119</td>\n",
       "      <td>288</td>\n",
       "    </tr>\n",
       "    <tr>\n",
       "      <th>1</th>\n",
       "      <td>Mount Olive-Silverstone-Jamestown</td>\n",
       "      <td>2</td>\n",
       "      <td>3</td>\n",
       "      <td>316</td>\n",
       "      <td>61</td>\n",
       "      <td>90</td>\n",
       "      <td>1016</td>\n",
       "      <td>59</td>\n",
       "      <td>361</td>\n",
       "      <td>176</td>\n",
       "      <td>1</td>\n",
       "      <td>78</td>\n",
       "      <td>75</td>\n",
       "      <td>7</td>\n",
       "      <td>690</td>\n",
       "      <td>62</td>\n",
       "    </tr>\n",
       "    <tr>\n",
       "      <th>2</th>\n",
       "      <td>Thistletown-Beaumond Heights</td>\n",
       "      <td>3</td>\n",
       "      <td>0</td>\n",
       "      <td>85</td>\n",
       "      <td>36</td>\n",
       "      <td>16</td>\n",
       "      <td>323</td>\n",
       "      <td>48</td>\n",
       "      <td>90</td>\n",
       "      <td>34</td>\n",
       "      <td>0</td>\n",
       "      <td>17</td>\n",
       "      <td>24</td>\n",
       "      <td>2</td>\n",
       "      <td>192</td>\n",
       "      <td>12</td>\n",
       "    </tr>\n",
       "    <tr>\n",
       "      <th>3</th>\n",
       "      <td>Rexdale-Kipling</td>\n",
       "      <td>4</td>\n",
       "      <td>0</td>\n",
       "      <td>59</td>\n",
       "      <td>32</td>\n",
       "      <td>15</td>\n",
       "      <td>305</td>\n",
       "      <td>34</td>\n",
       "      <td>94</td>\n",
       "      <td>55</td>\n",
       "      <td>1</td>\n",
       "      <td>16</td>\n",
       "      <td>20</td>\n",
       "      <td>3</td>\n",
       "      <td>164</td>\n",
       "      <td>18</td>\n",
       "    </tr>\n",
       "    <tr>\n",
       "      <th>4</th>\n",
       "      <td>Elms-Old Rexdale</td>\n",
       "      <td>5</td>\n",
       "      <td>1</td>\n",
       "      <td>77</td>\n",
       "      <td>25</td>\n",
       "      <td>14</td>\n",
       "      <td>321</td>\n",
       "      <td>71</td>\n",
       "      <td>107</td>\n",
       "      <td>43</td>\n",
       "      <td>0</td>\n",
       "      <td>23</td>\n",
       "      <td>5</td>\n",
       "      <td>19</td>\n",
       "      <td>185</td>\n",
       "      <td>22</td>\n",
       "    </tr>\n",
       "  </tbody>\n",
       "</table>\n",
       "</div>"
      ],
      "text/plain": [
       "                       Neighbourhood  Neighbourhood Id  Arsons  Assaults  \\\n",
       "0             West Humber-Clairville                 1       4       390   \n",
       "1  Mount Olive-Silverstone-Jamestown                 2       3       316   \n",
       "2       Thistletown-Beaumond Heights                 3       0        85   \n",
       "3                    Rexdale-Kipling                 4       0        59   \n",
       "4                   Elms-Old Rexdale                 5       1        77   \n",
       "\n",
       "   Break & Enters  Drug Arrests  Fire Medical Calls  Fire Vehicle Incidents  \\\n",
       "0             175            62                1321                     502   \n",
       "1              61            90                1016                      59   \n",
       "2              36            16                 323                      48   \n",
       "3              32            15                 305                      34   \n",
       "4              25            14                 321                      71   \n",
       "\n",
       "   Fires & Fire Alarms  Hazardous Incidents  Murders  Robberies  \\\n",
       "0                  705                  210        0         82   \n",
       "1                  361                  176        1         78   \n",
       "2                   90                   34        0         17   \n",
       "3                   94                   55        1         16   \n",
       "4                  107                   43        0         23   \n",
       "\n",
       "   Sexual Assaults  Thefts  Total Major Crime Incidents  Vehicle Thefts  \n",
       "0               68      54                         1119             288  \n",
       "1               75       7                          690              62  \n",
       "2               24       2                          192              12  \n",
       "3               20       3                          164              18  \n",
       "4                5      19                          185              22  "
      ]
     },
     "execution_count": 4,
     "metadata": {},
     "output_type": "execute_result"
    }
   ],
   "source": [
    "#2011 dataframe\n",
    "c.head()"
   ]
  },
  {
   "cell_type": "code",
   "execution_count": 5,
   "metadata": {
    "collapsed": false,
    "scrolled": true
   },
   "outputs": [
    {
     "data": {
      "text/html": [
       "<div>\n",
       "<table border=\"1\" class=\"dataframe\">\n",
       "  <thead>\n",
       "    <tr style=\"text-align: right;\">\n",
       "      <th></th>\n",
       "      <th>Neighbourhood</th>\n",
       "      <th>Neighbourhood Id</th>\n",
       "      <th>Ambulance Calls</th>\n",
       "      <th>Ambulance Referrals</th>\n",
       "      <th>Arsons</th>\n",
       "      <th>Assaults</th>\n",
       "      <th>Break &amp; Enters</th>\n",
       "      <th>Drug Arrests</th>\n",
       "      <th>Fire Vehicle Incidents</th>\n",
       "      <th>Firearms Incidents</th>\n",
       "      <th>Fires &amp; Fire Alarms</th>\n",
       "      <th>Hazardous Incidents</th>\n",
       "      <th>Murders</th>\n",
       "      <th>Robberies</th>\n",
       "      <th>Sexual Assaults</th>\n",
       "      <th>TCHC Safety Incidents</th>\n",
       "      <th>Thefts</th>\n",
       "      <th>Vehicle Thefts</th>\n",
       "    </tr>\n",
       "  </thead>\n",
       "  <tbody>\n",
       "    <tr>\n",
       "      <th>0</th>\n",
       "      <td>West Humber-Clairville</td>\n",
       "      <td>1</td>\n",
       "      <td>3613</td>\n",
       "      <td>10</td>\n",
       "      <td>4</td>\n",
       "      <td>272</td>\n",
       "      <td>193</td>\n",
       "      <td>88</td>\n",
       "      <td>674</td>\n",
       "      <td>3</td>\n",
       "      <td>135</td>\n",
       "      <td>269</td>\n",
       "      <td>1</td>\n",
       "      <td>85</td>\n",
       "      <td>21</td>\n",
       "      <td>62</td>\n",
       "      <td>42</td>\n",
       "      <td>341</td>\n",
       "    </tr>\n",
       "    <tr>\n",
       "      <th>1</th>\n",
       "      <td>Mount Olive-Silverstone-Jamestown</td>\n",
       "      <td>2</td>\n",
       "      <td>2229</td>\n",
       "      <td>5</td>\n",
       "      <td>0</td>\n",
       "      <td>269</td>\n",
       "      <td>88</td>\n",
       "      <td>145</td>\n",
       "      <td>52</td>\n",
       "      <td>11</td>\n",
       "      <td>70</td>\n",
       "      <td>163</td>\n",
       "      <td>0</td>\n",
       "      <td>80</td>\n",
       "      <td>23</td>\n",
       "      <td>426</td>\n",
       "      <td>6</td>\n",
       "      <td>113</td>\n",
       "    </tr>\n",
       "    <tr>\n",
       "      <th>2</th>\n",
       "      <td>Thistletown-Beaumond Heights</td>\n",
       "      <td>3</td>\n",
       "      <td>793</td>\n",
       "      <td>5</td>\n",
       "      <td>0</td>\n",
       "      <td>66</td>\n",
       "      <td>30</td>\n",
       "      <td>27</td>\n",
       "      <td>20</td>\n",
       "      <td>0</td>\n",
       "      <td>26</td>\n",
       "      <td>48</td>\n",
       "      <td>0</td>\n",
       "      <td>23</td>\n",
       "      <td>5</td>\n",
       "      <td>89</td>\n",
       "      <td>2</td>\n",
       "      <td>16</td>\n",
       "    </tr>\n",
       "    <tr>\n",
       "      <th>3</th>\n",
       "      <td>Rexdale-Kipling</td>\n",
       "      <td>4</td>\n",
       "      <td>664</td>\n",
       "      <td>5</td>\n",
       "      <td>0</td>\n",
       "      <td>49</td>\n",
       "      <td>28</td>\n",
       "      <td>17</td>\n",
       "      <td>14</td>\n",
       "      <td>0</td>\n",
       "      <td>26</td>\n",
       "      <td>64</td>\n",
       "      <td>0</td>\n",
       "      <td>16</td>\n",
       "      <td>6</td>\n",
       "      <td>48</td>\n",
       "      <td>0</td>\n",
       "      <td>25</td>\n",
       "    </tr>\n",
       "    <tr>\n",
       "      <th>4</th>\n",
       "      <td>Elms-Old Rexdale</td>\n",
       "      <td>5</td>\n",
       "      <td>836</td>\n",
       "      <td>3</td>\n",
       "      <td>2</td>\n",
       "      <td>49</td>\n",
       "      <td>22</td>\n",
       "      <td>8</td>\n",
       "      <td>45</td>\n",
       "      <td>1</td>\n",
       "      <td>23</td>\n",
       "      <td>52</td>\n",
       "      <td>0</td>\n",
       "      <td>26</td>\n",
       "      <td>3</td>\n",
       "      <td>138</td>\n",
       "      <td>2</td>\n",
       "      <td>17</td>\n",
       "    </tr>\n",
       "  </tbody>\n",
       "</table>\n",
       "</div>"
      ],
      "text/plain": [
       "                       Neighbourhood  Neighbourhood Id  Ambulance Calls  \\\n",
       "0             West Humber-Clairville                 1             3613   \n",
       "1  Mount Olive-Silverstone-Jamestown                 2             2229   \n",
       "2       Thistletown-Beaumond Heights                 3              793   \n",
       "3                    Rexdale-Kipling                 4              664   \n",
       "4                   Elms-Old Rexdale                 5              836   \n",
       "\n",
       "   Ambulance Referrals  Arsons  Assaults  Break & Enters  Drug Arrests  \\\n",
       "0                   10       4       272             193            88   \n",
       "1                    5       0       269              88           145   \n",
       "2                    5       0        66              30            27   \n",
       "3                    5       0        49              28            17   \n",
       "4                    3       2        49              22             8   \n",
       "\n",
       "   Fire Vehicle Incidents  Firearms Incidents  Fires & Fire Alarms  \\\n",
       "0                     674                   3                  135   \n",
       "1                      52                  11                   70   \n",
       "2                      20                   0                   26   \n",
       "3                      14                   0                   26   \n",
       "4                      45                   1                   23   \n",
       "\n",
       "   Hazardous Incidents  Murders  Robberies  Sexual Assaults  \\\n",
       "0                  269        1         85               21   \n",
       "1                  163        0         80               23   \n",
       "2                   48        0         23                5   \n",
       "3                   64        0         16                6   \n",
       "4                   52        0         26                3   \n",
       "\n",
       "   TCHC Safety Incidents  Thefts  Vehicle Thefts  \n",
       "0                     62      42             341  \n",
       "1                    426       6             113  \n",
       "2                     89       2              16  \n",
       "3                     48       0              25  \n",
       "4                    138       2              17  "
      ]
     },
     "execution_count": 5,
     "metadata": {},
     "output_type": "execute_result"
    }
   ],
   "source": [
    "#2008 dataframe\n",
    "c2.head()\n",
    "#c2.shape()"
   ]
  },
  {
   "cell_type": "markdown",
   "metadata": {},
   "source": [
    "We notice a few differences between the crime datasets for 2008 and 2011, where 2008 does not have a column for total major crimes. Now, let's take a look at the top few rows of the 2011 and 2008 Toronto Demographics dataframes."
   ]
  },
  {
   "cell_type": "code",
   "execution_count": 6,
   "metadata": {
    "collapsed": false
   },
   "outputs": [
    {
     "data": {
      "text/html": [
       "<div>\n",
       "<table border=\"1\" class=\"dataframe\">\n",
       "  <thead>\n",
       "    <tr style=\"text-align: right;\">\n",
       "      <th></th>\n",
       "      <th>Neighbourhood</th>\n",
       "      <th>Neighbourhood Id</th>\n",
       "      <th>Total Area</th>\n",
       "      <th>Total Population</th>\n",
       "      <th>Pop - Males</th>\n",
       "      <th>Pop - Females</th>\n",
       "      <th>Pop 0 - 4 years</th>\n",
       "      <th>Pop 5 - 9 years</th>\n",
       "      <th>Pop 10 - 14 years</th>\n",
       "      <th>Pop 15 -19 years</th>\n",
       "      <th>...</th>\n",
       "      <th>Language - Chinese</th>\n",
       "      <th>Language - Italian</th>\n",
       "      <th>Language - Korean</th>\n",
       "      <th>Language - Persian (Farsi)</th>\n",
       "      <th>Language - Portuguese</th>\n",
       "      <th>Language - Russian</th>\n",
       "      <th>Language - Spanish</th>\n",
       "      <th>Language - Tagalog</th>\n",
       "      <th>Language - Tamil</th>\n",
       "      <th>Language - Urdu</th>\n",
       "    </tr>\n",
       "  </thead>\n",
       "  <tbody>\n",
       "    <tr>\n",
       "      <th>0</th>\n",
       "      <td>West Humber-Clairville</td>\n",
       "      <td>1</td>\n",
       "      <td>30.09</td>\n",
       "      <td>34100</td>\n",
       "      <td>17095</td>\n",
       "      <td>17000</td>\n",
       "      <td>1865</td>\n",
       "      <td>1950</td>\n",
       "      <td>2155</td>\n",
       "      <td>2550</td>\n",
       "      <td>...</td>\n",
       "      <td>475</td>\n",
       "      <td>925</td>\n",
       "      <td>95</td>\n",
       "      <td>160</td>\n",
       "      <td>205</td>\n",
       "      <td>15</td>\n",
       "      <td>1100</td>\n",
       "      <td>850</td>\n",
       "      <td>715</td>\n",
       "      <td>715</td>\n",
       "    </tr>\n",
       "    <tr>\n",
       "      <th>1</th>\n",
       "      <td>Mount Olive-Silverstone-Jamestown</td>\n",
       "      <td>2</td>\n",
       "      <td>4.60</td>\n",
       "      <td>32790</td>\n",
       "      <td>16015</td>\n",
       "      <td>16765</td>\n",
       "      <td>2575</td>\n",
       "      <td>2535</td>\n",
       "      <td>2555</td>\n",
       "      <td>2620</td>\n",
       "      <td>...</td>\n",
       "      <td>275</td>\n",
       "      <td>750</td>\n",
       "      <td>60</td>\n",
       "      <td>350</td>\n",
       "      <td>115</td>\n",
       "      <td>50</td>\n",
       "      <td>820</td>\n",
       "      <td>345</td>\n",
       "      <td>1420</td>\n",
       "      <td>1075</td>\n",
       "    </tr>\n",
       "    <tr>\n",
       "      <th>2</th>\n",
       "      <td>Thistletown-Beaumond Heights</td>\n",
       "      <td>3</td>\n",
       "      <td>3.40</td>\n",
       "      <td>10140</td>\n",
       "      <td>4920</td>\n",
       "      <td>5225</td>\n",
       "      <td>575</td>\n",
       "      <td>580</td>\n",
       "      <td>670</td>\n",
       "      <td>675</td>\n",
       "      <td>...</td>\n",
       "      <td>95</td>\n",
       "      <td>705</td>\n",
       "      <td>35</td>\n",
       "      <td>115</td>\n",
       "      <td>105</td>\n",
       "      <td>15</td>\n",
       "      <td>570</td>\n",
       "      <td>130</td>\n",
       "      <td>120</td>\n",
       "      <td>300</td>\n",
       "    </tr>\n",
       "    <tr>\n",
       "      <th>3</th>\n",
       "      <td>Rexdale-Kipling</td>\n",
       "      <td>4</td>\n",
       "      <td>2.50</td>\n",
       "      <td>10485</td>\n",
       "      <td>5035</td>\n",
       "      <td>5455</td>\n",
       "      <td>495</td>\n",
       "      <td>520</td>\n",
       "      <td>570</td>\n",
       "      <td>665</td>\n",
       "      <td>...</td>\n",
       "      <td>95</td>\n",
       "      <td>475</td>\n",
       "      <td>30</td>\n",
       "      <td>95</td>\n",
       "      <td>145</td>\n",
       "      <td>30</td>\n",
       "      <td>700</td>\n",
       "      <td>180</td>\n",
       "      <td>70</td>\n",
       "      <td>215</td>\n",
       "    </tr>\n",
       "    <tr>\n",
       "      <th>4</th>\n",
       "      <td>Elms-Old Rexdale</td>\n",
       "      <td>5</td>\n",
       "      <td>2.90</td>\n",
       "      <td>9550</td>\n",
       "      <td>4615</td>\n",
       "      <td>4935</td>\n",
       "      <td>670</td>\n",
       "      <td>720</td>\n",
       "      <td>720</td>\n",
       "      <td>725</td>\n",
       "      <td>...</td>\n",
       "      <td>90</td>\n",
       "      <td>510</td>\n",
       "      <td>55</td>\n",
       "      <td>285</td>\n",
       "      <td>80</td>\n",
       "      <td>30</td>\n",
       "      <td>670</td>\n",
       "      <td>195</td>\n",
       "      <td>60</td>\n",
       "      <td>140</td>\n",
       "    </tr>\n",
       "  </tbody>\n",
       "</table>\n",
       "<p>5 rows × 39 columns</p>\n",
       "</div>"
      ],
      "text/plain": [
       "                       Neighbourhood  Neighbourhood Id  Total Area  \\\n",
       "0             West Humber-Clairville                 1       30.09   \n",
       "1  Mount Olive-Silverstone-Jamestown                 2        4.60   \n",
       "2       Thistletown-Beaumond Heights                 3        3.40   \n",
       "3                    Rexdale-Kipling                 4        2.50   \n",
       "4                   Elms-Old Rexdale                 5        2.90   \n",
       "\n",
       "   Total Population  Pop - Males  Pop - Females  Pop 0 - 4 years  \\\n",
       "0             34100        17095          17000             1865   \n",
       "1             32790        16015          16765             2575   \n",
       "2             10140         4920           5225              575   \n",
       "3             10485         5035           5455              495   \n",
       "4              9550         4615           4935              670   \n",
       "\n",
       "   Pop 5 - 9 years  Pop 10 - 14 years  Pop 15 -19 years         ...          \\\n",
       "0             1950               2155              2550         ...           \n",
       "1             2535               2555              2620         ...           \n",
       "2              580                670               675         ...           \n",
       "3              520                570               665         ...           \n",
       "4              720                720               725         ...           \n",
       "\n",
       "      Language - Chinese     Language - Italian     Language - Korean  \\\n",
       "0                    475                    925                    95   \n",
       "1                    275                    750                    60   \n",
       "2                     95                    705                    35   \n",
       "3                     95                    475                    30   \n",
       "4                     90                    510                    55   \n",
       "\n",
       "      Language - Persian (Farsi)     Language - Portuguese  \\\n",
       "0                            160                       205   \n",
       "1                            350                       115   \n",
       "2                            115                       105   \n",
       "3                             95                       145   \n",
       "4                            285                        80   \n",
       "\n",
       "      Language - Russian     Language - Spanish     Language - Tagalog  \\\n",
       "0                     15                   1100                    850   \n",
       "1                     50                    820                    345   \n",
       "2                     15                    570                    130   \n",
       "3                     30                    700                    180   \n",
       "4                     30                    670                    195   \n",
       "\n",
       "      Language - Tamil     Language - Urdu  \n",
       "0                  715                 715  \n",
       "1                 1420                1075  \n",
       "2                  120                 300  \n",
       "3                   70                 215  \n",
       "4                   60                 140  \n",
       "\n",
       "[5 rows x 39 columns]"
      ]
     },
     "execution_count": 6,
     "metadata": {},
     "output_type": "execute_result"
    }
   ],
   "source": [
    "# 2011 dataframe\n",
    "d.head()"
   ]
  },
  {
   "cell_type": "code",
   "execution_count": 7,
   "metadata": {
    "collapsed": false
   },
   "outputs": [
    {
     "data": {
      "text/html": [
       "<div>\n",
       "<table border=\"1\" class=\"dataframe\">\n",
       "  <thead>\n",
       "    <tr style=\"text-align: right;\">\n",
       "      <th></th>\n",
       "      <th>Neighbourhood</th>\n",
       "      <th>Neighbourhood Id</th>\n",
       "      <th>Total Area</th>\n",
       "      <th>Total Population</th>\n",
       "      <th>Pop - Males</th>\n",
       "      <th>Pop - Females</th>\n",
       "      <th>Pop 0 - 4 years</th>\n",
       "      <th>Pop 5 - 9 years</th>\n",
       "      <th>Pop 10 - 14 years</th>\n",
       "      <th>Pop 15 -19 years</th>\n",
       "      <th>...</th>\n",
       "      <th>Home Repairs Needed</th>\n",
       "      <th>Tenant Average Rent</th>\n",
       "      <th>Low Income Families</th>\n",
       "      <th>Low Income Singles</th>\n",
       "      <th>Low Income Children</th>\n",
       "      <th>Family Income Category</th>\n",
       "      <th>Average Family Income</th>\n",
       "      <th>Household Income Category</th>\n",
       "      <th>Pre-Tax Household Income</th>\n",
       "      <th>After-Tax Household Income</th>\n",
       "    </tr>\n",
       "  </thead>\n",
       "  <tbody>\n",
       "    <tr>\n",
       "      <th>0</th>\n",
       "      <td>West Humber-Clairville</td>\n",
       "      <td>1</td>\n",
       "      <td>30.09</td>\n",
       "      <td>32265</td>\n",
       "      <td>16295</td>\n",
       "      <td>15960</td>\n",
       "      <td>2005</td>\n",
       "      <td>2135</td>\n",
       "      <td>2325</td>\n",
       "      <td>2180</td>\n",
       "      <td>...</td>\n",
       "      <td>365</td>\n",
       "      <td>850</td>\n",
       "      <td>7720</td>\n",
       "      <td>725</td>\n",
       "      <td>643</td>\n",
       "      <td>7720</td>\n",
       "      <td>67240</td>\n",
       "      <td>8960</td>\n",
       "      <td>63415</td>\n",
       "      <td>63977</td>\n",
       "    </tr>\n",
       "    <tr>\n",
       "      <th>1</th>\n",
       "      <td>Mount Olive-Silverstone-Jamestown</td>\n",
       "      <td>2</td>\n",
       "      <td>4.60</td>\n",
       "      <td>32130</td>\n",
       "      <td>15900</td>\n",
       "      <td>16230</td>\n",
       "      <td>2680</td>\n",
       "      <td>2680</td>\n",
       "      <td>2685</td>\n",
       "      <td>2285</td>\n",
       "      <td>...</td>\n",
       "      <td>980</td>\n",
       "      <td>875</td>\n",
       "      <td>7715</td>\n",
       "      <td>1177</td>\n",
       "      <td>1206</td>\n",
       "      <td>7720</td>\n",
       "      <td>52745</td>\n",
       "      <td>9265</td>\n",
       "      <td>48145</td>\n",
       "      <td>49601</td>\n",
       "    </tr>\n",
       "    <tr>\n",
       "      <th>2</th>\n",
       "      <td>Thistletown-Beaumond Heights</td>\n",
       "      <td>3</td>\n",
       "      <td>3.40</td>\n",
       "      <td>9925</td>\n",
       "      <td>4900</td>\n",
       "      <td>5035</td>\n",
       "      <td>615</td>\n",
       "      <td>625</td>\n",
       "      <td>645</td>\n",
       "      <td>630</td>\n",
       "      <td>...</td>\n",
       "      <td>185</td>\n",
       "      <td>875</td>\n",
       "      <td>2520</td>\n",
       "      <td>305</td>\n",
       "      <td>161</td>\n",
       "      <td>2520</td>\n",
       "      <td>71300</td>\n",
       "      <td>3150</td>\n",
       "      <td>55030</td>\n",
       "      <td>54910</td>\n",
       "    </tr>\n",
       "    <tr>\n",
       "      <th>3</th>\n",
       "      <td>Rexdale-Kipling</td>\n",
       "      <td>4</td>\n",
       "      <td>2.50</td>\n",
       "      <td>10725</td>\n",
       "      <td>5205</td>\n",
       "      <td>5525</td>\n",
       "      <td>580</td>\n",
       "      <td>645</td>\n",
       "      <td>665</td>\n",
       "      <td>640</td>\n",
       "      <td>...</td>\n",
       "      <td>300</td>\n",
       "      <td>835</td>\n",
       "      <td>2780</td>\n",
       "      <td>653</td>\n",
       "      <td>135</td>\n",
       "      <td>2775</td>\n",
       "      <td>65215</td>\n",
       "      <td>3880</td>\n",
       "      <td>52430</td>\n",
       "      <td>53779</td>\n",
       "    </tr>\n",
       "    <tr>\n",
       "      <th>4</th>\n",
       "      <td>Elms-Old Rexdale</td>\n",
       "      <td>5</td>\n",
       "      <td>2.90</td>\n",
       "      <td>9440</td>\n",
       "      <td>4615</td>\n",
       "      <td>4820</td>\n",
       "      <td>725</td>\n",
       "      <td>700</td>\n",
       "      <td>745</td>\n",
       "      <td>655</td>\n",
       "      <td>...</td>\n",
       "      <td>320</td>\n",
       "      <td>895</td>\n",
       "      <td>2560</td>\n",
       "      <td>255</td>\n",
       "      <td>328</td>\n",
       "      <td>2555</td>\n",
       "      <td>56515</td>\n",
       "      <td>3130</td>\n",
       "      <td>53780</td>\n",
       "      <td>55054</td>\n",
       "    </tr>\n",
       "  </tbody>\n",
       "</table>\n",
       "<p>5 rows × 85 columns</p>\n",
       "</div>"
      ],
      "text/plain": [
       "                       Neighbourhood  Neighbourhood Id  Total Area  \\\n",
       "0             West Humber-Clairville                 1       30.09   \n",
       "1  Mount Olive-Silverstone-Jamestown                 2        4.60   \n",
       "2       Thistletown-Beaumond Heights                 3        3.40   \n",
       "3                    Rexdale-Kipling                 4        2.50   \n",
       "4                   Elms-Old Rexdale                 5        2.90   \n",
       "\n",
       "   Total Population  Pop - Males  Pop - Females  Pop 0 - 4 years  \\\n",
       "0             32265        16295          15960             2005   \n",
       "1             32130        15900          16230             2680   \n",
       "2              9925         4900           5035              615   \n",
       "3             10725         5205           5525              580   \n",
       "4              9440         4615           4820              725   \n",
       "\n",
       "   Pop 5 - 9 years  Pop 10 - 14 years  Pop 15 -19 years  \\\n",
       "0             2135               2325              2180   \n",
       "1             2680               2685              2285   \n",
       "2              625                645               630   \n",
       "3              645                665               640   \n",
       "4              700                745               655   \n",
       "\n",
       "               ...                Home Repairs Needed  Tenant Average Rent  \\\n",
       "0              ...                                365                  850   \n",
       "1              ...                                980                  875   \n",
       "2              ...                                185                  875   \n",
       "3              ...                                300                  835   \n",
       "4              ...                                320                  895   \n",
       "\n",
       "   Low Income Families  Low Income Singles  Low Income Children  \\\n",
       "0                 7720                 725                  643   \n",
       "1                 7715                1177                 1206   \n",
       "2                 2520                 305                  161   \n",
       "3                 2780                 653                  135   \n",
       "4                 2560                 255                  328   \n",
       "\n",
       "   Family Income Category     Average Family Income  \\\n",
       "0                    7720                     67240   \n",
       "1                    7720                     52745   \n",
       "2                    2520                     71300   \n",
       "3                    2775                     65215   \n",
       "4                    2555                     56515   \n",
       "\n",
       "   Household Income Category     Pre-Tax Household Income  \\\n",
       "0                       8960                        63415   \n",
       "1                       9265                        48145   \n",
       "2                       3150                        55030   \n",
       "3                       3880                        52430   \n",
       "4                       3130                        53780   \n",
       "\n",
       "      After-Tax Household Income  \n",
       "0                          63977  \n",
       "1                          49601  \n",
       "2                          54910  \n",
       "3                          53779  \n",
       "4                          55054  \n",
       "\n",
       "[5 rows x 85 columns]"
      ]
     },
     "execution_count": 7,
     "metadata": {},
     "output_type": "execute_result"
    }
   ],
   "source": [
    "# 2008 dataframe\n",
    "# We notice that the 2008 dataset has more columns\n",
    "d2.head()"
   ]
  },
  {
   "cell_type": "markdown",
   "metadata": {},
   "source": [
    "**We can do a quick check to see if there are any missing values in the data**"
   ]
  },
  {
   "cell_type": "code",
   "execution_count": 8,
   "metadata": {
    "collapsed": false
   },
   "outputs": [
    {
     "name": "stdout",
     "output_type": "stream",
     "text": [
      "2011 Crime data has no missing values. Dataframe dimensions are(140, 16)\n",
      "2011 Demographics data has no missing values. Dataframe dimensions are(140, 39)\n",
      "2008 Crime data has no missing values. Dataframe dimensions are(140, 18)\n",
      "2008 Demographics data has no missing values. Dataframe dimensions are(140, 85)\n"
     ]
    }
   ],
   "source": [
    "# Drop any missing values, and check to see if any rows have been dropped\n",
    "if c.shape == c.dropna().shape:\n",
    "    print \"2011 Crime data has no missing values. Dataframe dimensions are\" + str(c.shape)\n",
    "if d.shape == d.dropna().shape:\n",
    "    print \"2011 Demographics data has no missing values. Dataframe dimensions are\" + str(d.shape)\n",
    "if c2.shape == c2.dropna().shape:\n",
    "    print \"2008 Crime data has no missing values. Dataframe dimensions are\" + str(c2.shape)\n",
    "if d2.shape == d2.dropna().shape:\n",
    "    print \"2008 Demographics data has no missing values. Dataframe dimensions are\" + str(d2.shape)"
   ]
  },
  {
   "cell_type": "markdown",
   "metadata": {},
   "source": [
    "**The rows for all these dataframes are listed by neighbourhood. The 140 rows indicate all official neighbourhoods of Toronto. We noticed a difference between the crime datasets in 2011 and 2008, which is reflected in the dimensions and in the column names. We can take a quick look at all the columns to get an idea.**"
   ]
  },
  {
   "cell_type": "code",
   "execution_count": 9,
   "metadata": {
    "collapsed": false
   },
   "outputs": [
    {
     "data": {
      "text/plain": [
       "Index([u'Neighbourhood', u'Neighbourhood Id', u'Arsons', u'Assaults',\n",
       "       u'Break & Enters', u'Drug Arrests', u'Fire Medical Calls',\n",
       "       u'Fire Vehicle Incidents', u'Fires & Fire Alarms',\n",
       "       u'Hazardous Incidents', u'Murders', u'Robberies', u'Sexual Assaults',\n",
       "       u'Thefts', u'Total Major Crime Incidents', u'Vehicle Thefts'],\n",
       "      dtype='object')"
      ]
     },
     "execution_count": 9,
     "metadata": {},
     "output_type": "execute_result"
    }
   ],
   "source": [
    "c.columns #2011"
   ]
  },
  {
   "cell_type": "code",
   "execution_count": 10,
   "metadata": {
    "collapsed": false
   },
   "outputs": [
    {
     "data": {
      "text/plain": [
       "Index([u'Neighbourhood', u'Neighbourhood Id', u'Ambulance Calls',\n",
       "       u'Ambulance Referrals', u'Arsons', u'Assaults', u'Break & Enters',\n",
       "       u'Drug Arrests', u'Fire Vehicle Incidents', u'Firearms Incidents',\n",
       "       u'Fires & Fire Alarms', u'Hazardous Incidents', u'Murders',\n",
       "       u'Robberies', u'Sexual Assaults', u'TCHC Safety Incidents', u'Thefts',\n",
       "       u'Vehicle Thefts'],\n",
       "      dtype='object')"
      ]
     },
     "execution_count": 10,
     "metadata": {},
     "output_type": "execute_result"
    }
   ],
   "source": [
    "c2.columns #2008"
   ]
  },
  {
   "cell_type": "markdown",
   "metadata": {
    "collapsed": true
   },
   "source": [
    "**To make data access and manipulation easier, we can change the column names to shorter, manageable ones.**"
   ]
  },
  {
   "cell_type": "code",
   "execution_count": 11,
   "metadata": {
    "collapsed": false
   },
   "outputs": [
    {
     "data": {
      "text/html": [
       "<div>\n",
       "<table border=\"1\" class=\"dataframe\">\n",
       "  <thead>\n",
       "    <tr style=\"text-align: right;\">\n",
       "      <th></th>\n",
       "      <th>N</th>\n",
       "      <th>NId</th>\n",
       "      <th>Ars</th>\n",
       "      <th>Ass</th>\n",
       "      <th>BE</th>\n",
       "      <th>DA</th>\n",
       "      <th>FMC</th>\n",
       "      <th>FVI</th>\n",
       "      <th>FFA</th>\n",
       "      <th>HI</th>\n",
       "      <th>M</th>\n",
       "      <th>R</th>\n",
       "      <th>SA</th>\n",
       "      <th>T</th>\n",
       "      <th>TMCI</th>\n",
       "      <th>VT</th>\n",
       "    </tr>\n",
       "  </thead>\n",
       "  <tbody>\n",
       "    <tr>\n",
       "      <th>135</th>\n",
       "      <td>West Hill</td>\n",
       "      <td>136</td>\n",
       "      <td>3</td>\n",
       "      <td>387</td>\n",
       "      <td>102</td>\n",
       "      <td>87</td>\n",
       "      <td>1145</td>\n",
       "      <td>78</td>\n",
       "      <td>338</td>\n",
       "      <td>142</td>\n",
       "      <td>1</td>\n",
       "      <td>71</td>\n",
       "      <td>52</td>\n",
       "      <td>3</td>\n",
       "      <td>749</td>\n",
       "      <td>46</td>\n",
       "    </tr>\n",
       "    <tr>\n",
       "      <th>136</th>\n",
       "      <td>Woburn</td>\n",
       "      <td>137</td>\n",
       "      <td>2</td>\n",
       "      <td>412</td>\n",
       "      <td>128</td>\n",
       "      <td>77</td>\n",
       "      <td>1469</td>\n",
       "      <td>219</td>\n",
       "      <td>504</td>\n",
       "      <td>223</td>\n",
       "      <td>3</td>\n",
       "      <td>107</td>\n",
       "      <td>29</td>\n",
       "      <td>7</td>\n",
       "      <td>808</td>\n",
       "      <td>45</td>\n",
       "    </tr>\n",
       "    <tr>\n",
       "      <th>137</th>\n",
       "      <td>Eglinton East</td>\n",
       "      <td>138</td>\n",
       "      <td>0</td>\n",
       "      <td>239</td>\n",
       "      <td>88</td>\n",
       "      <td>48</td>\n",
       "      <td>720</td>\n",
       "      <td>76</td>\n",
       "      <td>223</td>\n",
       "      <td>111</td>\n",
       "      <td>1</td>\n",
       "      <td>66</td>\n",
       "      <td>17</td>\n",
       "      <td>10</td>\n",
       "      <td>492</td>\n",
       "      <td>23</td>\n",
       "    </tr>\n",
       "    <tr>\n",
       "      <th>138</th>\n",
       "      <td>Scarborough Village</td>\n",
       "      <td>139</td>\n",
       "      <td>1</td>\n",
       "      <td>226</td>\n",
       "      <td>93</td>\n",
       "      <td>31</td>\n",
       "      <td>652</td>\n",
       "      <td>35</td>\n",
       "      <td>180</td>\n",
       "      <td>94</td>\n",
       "      <td>1</td>\n",
       "      <td>62</td>\n",
       "      <td>31</td>\n",
       "      <td>3</td>\n",
       "      <td>474</td>\n",
       "      <td>27</td>\n",
       "    </tr>\n",
       "    <tr>\n",
       "      <th>139</th>\n",
       "      <td>Guildwood</td>\n",
       "      <td>140</td>\n",
       "      <td>0</td>\n",
       "      <td>44</td>\n",
       "      <td>32</td>\n",
       "      <td>9</td>\n",
       "      <td>284</td>\n",
       "      <td>24</td>\n",
       "      <td>48</td>\n",
       "      <td>48</td>\n",
       "      <td>0</td>\n",
       "      <td>14</td>\n",
       "      <td>7</td>\n",
       "      <td>2</td>\n",
       "      <td>113</td>\n",
       "      <td>5</td>\n",
       "    </tr>\n",
       "  </tbody>\n",
       "</table>\n",
       "</div>"
      ],
      "text/plain": [
       "                       N  NId  Ars  Ass   BE  DA   FMC  FVI  FFA   HI  M    R  \\\n",
       "135            West Hill  136    3  387  102  87  1145   78  338  142  1   71   \n",
       "136               Woburn  137    2  412  128  77  1469  219  504  223  3  107   \n",
       "137        Eglinton East  138    0  239   88  48   720   76  223  111  1   66   \n",
       "138  Scarborough Village  139    1  226   93  31   652   35  180   94  1   62   \n",
       "139            Guildwood  140    0   44   32   9   284   24   48   48  0   14   \n",
       "\n",
       "     SA   T  TMCI  VT  \n",
       "135  52   3   749  46  \n",
       "136  29   7   808  45  \n",
       "137  17  10   492  23  \n",
       "138  31   3   474  27  \n",
       "139   7   2   113   5  "
      ]
     },
     "execution_count": 11,
     "metadata": {},
     "output_type": "execute_result"
    }
   ],
   "source": [
    "# Rename columns of 2011 crime dataframe\n",
    "c.rename(columns={'Neighbourhood':'N','Neighbourhood Id':'NId','Arsons':'Ars','Assaults':'Ass',\n",
    "       'Break & Enters':'BE','Drug Arrests':'DA','Fire Medical Calls':'FMC',\n",
    "       'Fire Vehicle Incidents':'FVI','Fires & Fire Alarms':'FFA',\n",
    "       'Hazardous Incidents':'HI','Murders':'M','Robberies':'R','Sexual Assaults':'SA',\n",
    "       'Thefts':'T','Total Major Crime Incidents':'TMCI','Vehicle Thefts':'VT'}, inplace=True)\n",
    "c.tail()"
   ]
  },
  {
   "cell_type": "code",
   "execution_count": 12,
   "metadata": {
    "collapsed": false
   },
   "outputs": [
    {
     "data": {
      "text/html": [
       "<div>\n",
       "<table border=\"1\" class=\"dataframe\">\n",
       "  <thead>\n",
       "    <tr style=\"text-align: right;\">\n",
       "      <th></th>\n",
       "      <th>N</th>\n",
       "      <th>NId</th>\n",
       "      <th>AC2</th>\n",
       "      <th>AR2</th>\n",
       "      <th>Ars2</th>\n",
       "      <th>Ass2</th>\n",
       "      <th>BE2</th>\n",
       "      <th>DA2</th>\n",
       "      <th>FVI2</th>\n",
       "      <th>FI2</th>\n",
       "      <th>FFA2</th>\n",
       "      <th>HI2</th>\n",
       "      <th>M2</th>\n",
       "      <th>R2</th>\n",
       "      <th>SA2</th>\n",
       "      <th>TCHCSI2</th>\n",
       "      <th>T2</th>\n",
       "      <th>VT2</th>\n",
       "    </tr>\n",
       "  </thead>\n",
       "  <tbody>\n",
       "    <tr>\n",
       "      <th>135</th>\n",
       "      <td>West Hill</td>\n",
       "      <td>136</td>\n",
       "      <td>2323</td>\n",
       "      <td>10</td>\n",
       "      <td>3</td>\n",
       "      <td>357</td>\n",
       "      <td>90</td>\n",
       "      <td>179</td>\n",
       "      <td>74</td>\n",
       "      <td>7</td>\n",
       "      <td>111</td>\n",
       "      <td>181</td>\n",
       "      <td>0</td>\n",
       "      <td>59</td>\n",
       "      <td>28</td>\n",
       "      <td>721</td>\n",
       "      <td>9</td>\n",
       "      <td>70</td>\n",
       "    </tr>\n",
       "    <tr>\n",
       "      <th>136</th>\n",
       "      <td>Woburn</td>\n",
       "      <td>137</td>\n",
       "      <td>3607</td>\n",
       "      <td>29</td>\n",
       "      <td>2</td>\n",
       "      <td>325</td>\n",
       "      <td>129</td>\n",
       "      <td>72</td>\n",
       "      <td>254</td>\n",
       "      <td>9</td>\n",
       "      <td>118</td>\n",
       "      <td>196</td>\n",
       "      <td>1</td>\n",
       "      <td>78</td>\n",
       "      <td>17</td>\n",
       "      <td>373</td>\n",
       "      <td>15</td>\n",
       "      <td>152</td>\n",
       "    </tr>\n",
       "    <tr>\n",
       "      <th>137</th>\n",
       "      <td>Eglinton East</td>\n",
       "      <td>138</td>\n",
       "      <td>1500</td>\n",
       "      <td>8</td>\n",
       "      <td>1</td>\n",
       "      <td>171</td>\n",
       "      <td>83</td>\n",
       "      <td>105</td>\n",
       "      <td>92</td>\n",
       "      <td>5</td>\n",
       "      <td>67</td>\n",
       "      <td>104</td>\n",
       "      <td>2</td>\n",
       "      <td>45</td>\n",
       "      <td>10</td>\n",
       "      <td>285</td>\n",
       "      <td>3</td>\n",
       "      <td>92</td>\n",
       "    </tr>\n",
       "    <tr>\n",
       "      <th>138</th>\n",
       "      <td>Scarborough Village</td>\n",
       "      <td>139</td>\n",
       "      <td>1364</td>\n",
       "      <td>10</td>\n",
       "      <td>1</td>\n",
       "      <td>170</td>\n",
       "      <td>52</td>\n",
       "      <td>74</td>\n",
       "      <td>37</td>\n",
       "      <td>7</td>\n",
       "      <td>62</td>\n",
       "      <td>95</td>\n",
       "      <td>3</td>\n",
       "      <td>35</td>\n",
       "      <td>8</td>\n",
       "      <td>276</td>\n",
       "      <td>3</td>\n",
       "      <td>57</td>\n",
       "    </tr>\n",
       "    <tr>\n",
       "      <th>139</th>\n",
       "      <td>Guildwood</td>\n",
       "      <td>140</td>\n",
       "      <td>688</td>\n",
       "      <td>0</td>\n",
       "      <td>0</td>\n",
       "      <td>50</td>\n",
       "      <td>30</td>\n",
       "      <td>20</td>\n",
       "      <td>17</td>\n",
       "      <td>0</td>\n",
       "      <td>33</td>\n",
       "      <td>51</td>\n",
       "      <td>0</td>\n",
       "      <td>12</td>\n",
       "      <td>2</td>\n",
       "      <td>0</td>\n",
       "      <td>0</td>\n",
       "      <td>12</td>\n",
       "    </tr>\n",
       "  </tbody>\n",
       "</table>\n",
       "</div>"
      ],
      "text/plain": [
       "                       N  NId   AC2  AR2  Ars2  Ass2  BE2  DA2  FVI2  FI2  \\\n",
       "135            West Hill  136  2323   10     3   357   90  179    74    7   \n",
       "136               Woburn  137  3607   29     2   325  129   72   254    9   \n",
       "137        Eglinton East  138  1500    8     1   171   83  105    92    5   \n",
       "138  Scarborough Village  139  1364   10     1   170   52   74    37    7   \n",
       "139            Guildwood  140   688    0     0    50   30   20    17    0   \n",
       "\n",
       "     FFA2  HI2  M2  R2  SA2  TCHCSI2  T2  VT2  \n",
       "135   111  181   0  59   28      721   9   70  \n",
       "136   118  196   1  78   17      373  15  152  \n",
       "137    67  104   2  45   10      285   3   92  \n",
       "138    62   95   3  35    8      276   3   57  \n",
       "139    33   51   0  12    2        0   0   12  "
      ]
     },
     "execution_count": 12,
     "metadata": {},
     "output_type": "execute_result"
    }
   ],
   "source": [
    "# Rename columns of 2008 crime dataframe. Column names comparable to 2011 will have suffix \"2\"\n",
    "c2.rename(columns={'Neighbourhood':'N','Neighbourhood Id':'NId','Ambulance Calls':'AC2',\n",
    "       'Ambulance Referrals':'AR2','Arsons':'Ars2','Assaults':'Ass2','Break & Enters':'BE2',\n",
    "       'Drug Arrests':'DA2','Fire Vehicle Incidents':'FVI2','Firearms Incidents':'FI2',\n",
    "       'Fires & Fire Alarms':'FFA2','Hazardous Incidents':'HI2','Murders':'M2',\n",
    "       'Robberies':'R2','Sexual Assaults':'SA2','TCHC Safety Incidents':'TCHCSI2','Thefts':'T2',\n",
    "       'Vehicle Thefts':'VT2'},inplace=True)\n",
    "c2.tail()"
   ]
  },
  {
   "cell_type": "markdown",
   "metadata": {},
   "source": [
    "**Our focus for this data story will mainly be on major crime incidents.** \n",
    "\n",
    "**Eight categories of crimes fall under major crime - Assaults, Break & Enters, Drug Arrests, Murders, Robberies, Sexual Assaults, Thefts, and Vehicle Thefts.**\n",
    "\n",
    "**We notice that the 2008 crime dataframe does not have a column for total major crime incidents. So, let's add one.**"
   ]
  },
  {
   "cell_type": "code",
   "execution_count": 13,
   "metadata": {
    "collapsed": false
   },
   "outputs": [
    {
     "data": {
      "text/html": [
       "<div>\n",
       "<table border=\"1\" class=\"dataframe\">\n",
       "  <thead>\n",
       "    <tr style=\"text-align: right;\">\n",
       "      <th></th>\n",
       "      <th>N</th>\n",
       "      <th>NId</th>\n",
       "      <th>AC2</th>\n",
       "      <th>AR2</th>\n",
       "      <th>Ars2</th>\n",
       "      <th>Ass2</th>\n",
       "      <th>BE2</th>\n",
       "      <th>DA2</th>\n",
       "      <th>FVI2</th>\n",
       "      <th>FI2</th>\n",
       "      <th>FFA2</th>\n",
       "      <th>HI2</th>\n",
       "      <th>M2</th>\n",
       "      <th>R2</th>\n",
       "      <th>SA2</th>\n",
       "      <th>TCHCSI2</th>\n",
       "      <th>T2</th>\n",
       "      <th>VT2</th>\n",
       "      <th>TMCI2</th>\n",
       "    </tr>\n",
       "  </thead>\n",
       "  <tbody>\n",
       "    <tr>\n",
       "      <th>135</th>\n",
       "      <td>West Hill</td>\n",
       "      <td>136</td>\n",
       "      <td>2323</td>\n",
       "      <td>10</td>\n",
       "      <td>3</td>\n",
       "      <td>357</td>\n",
       "      <td>90</td>\n",
       "      <td>179</td>\n",
       "      <td>74</td>\n",
       "      <td>7</td>\n",
       "      <td>111</td>\n",
       "      <td>181</td>\n",
       "      <td>0</td>\n",
       "      <td>59</td>\n",
       "      <td>28</td>\n",
       "      <td>721</td>\n",
       "      <td>9</td>\n",
       "      <td>70</td>\n",
       "      <td>792</td>\n",
       "    </tr>\n",
       "    <tr>\n",
       "      <th>136</th>\n",
       "      <td>Woburn</td>\n",
       "      <td>137</td>\n",
       "      <td>3607</td>\n",
       "      <td>29</td>\n",
       "      <td>2</td>\n",
       "      <td>325</td>\n",
       "      <td>129</td>\n",
       "      <td>72</td>\n",
       "      <td>254</td>\n",
       "      <td>9</td>\n",
       "      <td>118</td>\n",
       "      <td>196</td>\n",
       "      <td>1</td>\n",
       "      <td>78</td>\n",
       "      <td>17</td>\n",
       "      <td>373</td>\n",
       "      <td>15</td>\n",
       "      <td>152</td>\n",
       "      <td>789</td>\n",
       "    </tr>\n",
       "    <tr>\n",
       "      <th>137</th>\n",
       "      <td>Eglinton East</td>\n",
       "      <td>138</td>\n",
       "      <td>1500</td>\n",
       "      <td>8</td>\n",
       "      <td>1</td>\n",
       "      <td>171</td>\n",
       "      <td>83</td>\n",
       "      <td>105</td>\n",
       "      <td>92</td>\n",
       "      <td>5</td>\n",
       "      <td>67</td>\n",
       "      <td>104</td>\n",
       "      <td>2</td>\n",
       "      <td>45</td>\n",
       "      <td>10</td>\n",
       "      <td>285</td>\n",
       "      <td>3</td>\n",
       "      <td>92</td>\n",
       "      <td>511</td>\n",
       "    </tr>\n",
       "    <tr>\n",
       "      <th>138</th>\n",
       "      <td>Scarborough Village</td>\n",
       "      <td>139</td>\n",
       "      <td>1364</td>\n",
       "      <td>10</td>\n",
       "      <td>1</td>\n",
       "      <td>170</td>\n",
       "      <td>52</td>\n",
       "      <td>74</td>\n",
       "      <td>37</td>\n",
       "      <td>7</td>\n",
       "      <td>62</td>\n",
       "      <td>95</td>\n",
       "      <td>3</td>\n",
       "      <td>35</td>\n",
       "      <td>8</td>\n",
       "      <td>276</td>\n",
       "      <td>3</td>\n",
       "      <td>57</td>\n",
       "      <td>402</td>\n",
       "    </tr>\n",
       "    <tr>\n",
       "      <th>139</th>\n",
       "      <td>Guildwood</td>\n",
       "      <td>140</td>\n",
       "      <td>688</td>\n",
       "      <td>0</td>\n",
       "      <td>0</td>\n",
       "      <td>50</td>\n",
       "      <td>30</td>\n",
       "      <td>20</td>\n",
       "      <td>17</td>\n",
       "      <td>0</td>\n",
       "      <td>33</td>\n",
       "      <td>51</td>\n",
       "      <td>0</td>\n",
       "      <td>12</td>\n",
       "      <td>2</td>\n",
       "      <td>0</td>\n",
       "      <td>0</td>\n",
       "      <td>12</td>\n",
       "      <td>126</td>\n",
       "    </tr>\n",
       "  </tbody>\n",
       "</table>\n",
       "</div>"
      ],
      "text/plain": [
       "                       N  NId   AC2  AR2  Ars2  Ass2  BE2  DA2  FVI2  FI2  \\\n",
       "135            West Hill  136  2323   10     3   357   90  179    74    7   \n",
       "136               Woburn  137  3607   29     2   325  129   72   254    9   \n",
       "137        Eglinton East  138  1500    8     1   171   83  105    92    5   \n",
       "138  Scarborough Village  139  1364   10     1   170   52   74    37    7   \n",
       "139            Guildwood  140   688    0     0    50   30   20    17    0   \n",
       "\n",
       "     FFA2  HI2  M2  R2  SA2  TCHCSI2  T2  VT2  TMCI2  \n",
       "135   111  181   0  59   28      721   9   70    792  \n",
       "136   118  196   1  78   17      373  15  152    789  \n",
       "137    67  104   2  45   10      285   3   92    511  \n",
       "138    62   95   3  35    8      276   3   57    402  \n",
       "139    33   51   0  12    2        0   0   12    126  "
      ]
     },
     "execution_count": 13,
     "metadata": {},
     "output_type": "execute_result"
    }
   ],
   "source": [
    "# We can add a column called \"Total Major Crime Incidents\" in the 2008 dataframe to facilitate comparisons\n",
    "c2['TMCI2'] = c2['Ass2'] + c2['BE2'] + c2['DA2'] + c2['M2'] + c2['R2'] + c2['SA2'] + c2['T2'] + c2['VT2'] \n",
    "c2.tail()"
   ]
  },
  {
   "cell_type": "markdown",
   "metadata": {},
   "source": [
    "**It might be the case that a certain neighbourhood has more major crimes just because of more people living in it. This would be a confounding variable. So, to compare crime data across each neighbourhood, and across two years (2008 and 2011 in our case), it makes sense to normalize the data by dividing each neighbourhood with its population. Let's use the demographic data for population.** "
   ]
  },
  {
   "cell_type": "code",
   "execution_count": 14,
   "metadata": {
    "collapsed": false
   },
   "outputs": [
    {
     "data": {
      "text/plain": [
       "Index([u'Neighbourhood', u'Neighbourhood Id', u'Total Area',\n",
       "       u'Total Population', u'Pop - Males', u'Pop - Females',\n",
       "       u'Pop 0 - 4 years', u'Pop 5 - 9 years', u'Pop 10 - 14 years',\n",
       "       u'Pop 15 -19 years', u'Pop 20 - 24 years', u'Pop  25 - 29 years',\n",
       "       u'Pop 30 - 34 years', u'Pop 35 - 39 years', u'Pop 40 - 44 years',\n",
       "       u'Pop 45 - 49 years', u'Pop 50 - 54 years', u'Pop 55 - 59 years',\n",
       "       u'Pop 60 - 64 years', u'Pop 65 - 69 years', u'Pop 70 - 74 years',\n",
       "       u'Pop 75 - 79 years', u'Pop 80 - 84 years', u'Pop 85 years and over',\n",
       "       u'Seniors 55 and over', u'Seniors 65 and over', u'Child 0-14',\n",
       "       u'Youth 15-24', u'Home Language Category', u'   Language - Chinese',\n",
       "       u'   Language - Italian', u'   Language - Korean',\n",
       "       u'   Language - Persian (Farsi)', u'   Language - Portuguese',\n",
       "       u'   Language - Russian', u'   Language - Spanish',\n",
       "       u'   Language - Tagalog', u'   Language - Tamil',\n",
       "       u'   Language - Urdu'],\n",
       "      dtype='object')"
      ]
     },
     "execution_count": 14,
     "metadata": {},
     "output_type": "execute_result"
    }
   ],
   "source": [
    "d.columns #2011"
   ]
  },
  {
   "cell_type": "code",
   "execution_count": 15,
   "metadata": {
    "collapsed": false
   },
   "outputs": [
    {
     "data": {
      "text/plain": [
       "Index([u'Neighbourhood', u'Neighbourhood Id', u'Total Area',\n",
       "       u'Total Population', u'Pop - Males', u'Pop - Females',\n",
       "       u'Pop 0 - 4 years', u'Pop 5 - 9 years', u'Pop 10 - 14 years',\n",
       "       u'Pop 15 -19 years', u'Pop 20 - 24 years', u'Pop  25 - 29 years',\n",
       "       u'Pop 30 - 34 years', u'Pop 35 - 39 years', u'Pop 40 - 44 years',\n",
       "       u'Pop 45 - 49 years', u'Pop 50 - 54 years', u'Pop 55 - 59 years',\n",
       "       u'Pop 60 - 64 years', u'Pop 65 - 69 years', u'Pop 70 - 74 years',\n",
       "       u'Pop 75 - 79 years', u'Pop 80 - 84 years', u'Pop 85 years and over',\n",
       "       u'Pop 6-12 years', u'Visible Minority Category', u'   Chinese',\n",
       "       u'   South Asian', u'   Black', u'   Filipino', u'   Latin American',\n",
       "       u'   Southeast Asian', u'   Arab', u'   West Asian', u'   Korean',\n",
       "       u'   Japanese', u'   Other Visible Minority',\n",
       "       u'   Multiple Visible Minority', u'   Not a Visible Minority',\n",
       "       u'Aboriginal', u'Home Language Category', u'   Language - Chinese',\n",
       "       u'   Language - Italian', u'   Language - Korean',\n",
       "       u'   Language - Persian (Farsi)', u'   Language - Portuguese',\n",
       "       u'   Language - Russian', u'   Language - Spanish',\n",
       "       u'   Language - Tagalog', u'   Language - Tamil', u'   Language - Urdu',\n",
       "       u'Mobility Category', u'   Non-Movers', u'   Movers',\n",
       "       u'Recent Immigrants Category', u'Recent Immigrants',\n",
       "       u'   Southern Asia', u'   South East Asia', u'   Eastern Asia',\n",
       "       u'   West Asia/Middle East', u'   Africa', u'   Europe',\n",
       "       u'   Caribbean/Central/S. America', u'Labour Force Category',\n",
       "       u'   In Labour Force', u'   Unemployed', u'   Not in Labour Force',\n",
       "       u'Less than grade 9', u'With College Certificate/Diploma',\n",
       "       u'With Bachelor Degree or Higher', u'Seniors Living Alone',\n",
       "       u'Total Tenants', u'High Shelter Costs', u'Owned Dwellings',\n",
       "       u'Rented Dwellings', u'Home Repairs Needed', u'Tenant Average Rent',\n",
       "       u'Low Income Families', u'Low Income Singles', u'Low Income Children',\n",
       "       u'Family Income Category', u'   Average Family Income',\n",
       "       u'Household Income Category', u'   Pre-Tax Household Income',\n",
       "       u'   After-Tax Household Income'],\n",
       "      dtype='object')"
      ]
     },
     "execution_count": 15,
     "metadata": {},
     "output_type": "execute_result"
    }
   ],
   "source": [
    "d2.columns #2008"
   ]
  },
  {
   "cell_type": "markdown",
   "metadata": {},
   "source": [
    "**We only need the total population for now, from each neighbourhood, to normalize the crime data.**"
   ]
  },
  {
   "cell_type": "code",
   "execution_count": 16,
   "metadata": {
    "collapsed": false
   },
   "outputs": [],
   "source": [
    "d.rename(columns={'Neighbourhood':'N','Neighbourhood Id':'NId','Total Population':'TPop'},inplace=True)\n",
    "d2.rename(columns={'Neighbourhood':'N','Neighbourhood Id':'NId','Total Population':'TPop2'},inplace=True)"
   ]
  },
  {
   "cell_type": "markdown",
   "metadata": {},
   "source": [
    "**Now we can compute the number of crimes in each neighbourhood per 1000 people for 2011 and 2008**"
   ]
  },
  {
   "cell_type": "code",
   "execution_count": 17,
   "metadata": {
    "collapsed": false
   },
   "outputs": [],
   "source": [
    "c_norm = c\n",
    "c2_norm = c2\n",
    "# Divide all the crime data columns by the total neighbourhood population and multiply by 1000\n",
    "c_norm.iloc[:,2:] = c.iloc[:,2:].div(d['TPop'], axis=0) * 1000\n",
    "c2_norm.iloc[:,2:] = c2.iloc[:,2:].div(d2['TPop2'], axis=0) * 1000"
   ]
  },
  {
   "cell_type": "code",
   "execution_count": 18,
   "metadata": {
    "collapsed": false
   },
   "outputs": [
    {
     "data": {
      "text/html": [
       "<div>\n",
       "<table border=\"1\" class=\"dataframe\">\n",
       "  <thead>\n",
       "    <tr style=\"text-align: right;\">\n",
       "      <th></th>\n",
       "      <th>N</th>\n",
       "      <th>NId</th>\n",
       "      <th>Ars</th>\n",
       "      <th>Ass</th>\n",
       "      <th>BE</th>\n",
       "      <th>DA</th>\n",
       "      <th>FMC</th>\n",
       "      <th>FVI</th>\n",
       "      <th>FFA</th>\n",
       "      <th>HI</th>\n",
       "      <th>M</th>\n",
       "      <th>R</th>\n",
       "      <th>SA</th>\n",
       "      <th>T</th>\n",
       "      <th>TMCI</th>\n",
       "      <th>VT</th>\n",
       "    </tr>\n",
       "  </thead>\n",
       "  <tbody>\n",
       "    <tr>\n",
       "      <th>0</th>\n",
       "      <td>West Humber-Clairville</td>\n",
       "      <td>1</td>\n",
       "      <td>0.117302</td>\n",
       "      <td>11.436950</td>\n",
       "      <td>5.131965</td>\n",
       "      <td>1.818182</td>\n",
       "      <td>38.739003</td>\n",
       "      <td>14.721408</td>\n",
       "      <td>20.674487</td>\n",
       "      <td>6.158358</td>\n",
       "      <td>0.000000</td>\n",
       "      <td>2.404692</td>\n",
       "      <td>1.994135</td>\n",
       "      <td>1.583578</td>\n",
       "      <td>32.815249</td>\n",
       "      <td>8.445748</td>\n",
       "    </tr>\n",
       "    <tr>\n",
       "      <th>1</th>\n",
       "      <td>Mount Olive-Silverstone-Jamestown</td>\n",
       "      <td>2</td>\n",
       "      <td>0.091491</td>\n",
       "      <td>9.637084</td>\n",
       "      <td>1.860323</td>\n",
       "      <td>2.744739</td>\n",
       "      <td>30.985056</td>\n",
       "      <td>1.799329</td>\n",
       "      <td>11.009454</td>\n",
       "      <td>5.367490</td>\n",
       "      <td>0.030497</td>\n",
       "      <td>2.378774</td>\n",
       "      <td>2.287283</td>\n",
       "      <td>0.213480</td>\n",
       "      <td>21.043001</td>\n",
       "      <td>1.890820</td>\n",
       "    </tr>\n",
       "    <tr>\n",
       "      <th>2</th>\n",
       "      <td>Thistletown-Beaumond Heights</td>\n",
       "      <td>3</td>\n",
       "      <td>0.000000</td>\n",
       "      <td>8.382643</td>\n",
       "      <td>3.550296</td>\n",
       "      <td>1.577909</td>\n",
       "      <td>31.854043</td>\n",
       "      <td>4.733728</td>\n",
       "      <td>8.875740</td>\n",
       "      <td>3.353057</td>\n",
       "      <td>0.000000</td>\n",
       "      <td>1.676529</td>\n",
       "      <td>2.366864</td>\n",
       "      <td>0.197239</td>\n",
       "      <td>18.934911</td>\n",
       "      <td>1.183432</td>\n",
       "    </tr>\n",
       "    <tr>\n",
       "      <th>3</th>\n",
       "      <td>Rexdale-Kipling</td>\n",
       "      <td>4</td>\n",
       "      <td>0.000000</td>\n",
       "      <td>5.627086</td>\n",
       "      <td>3.051979</td>\n",
       "      <td>1.430615</td>\n",
       "      <td>29.089175</td>\n",
       "      <td>3.242728</td>\n",
       "      <td>8.965188</td>\n",
       "      <td>5.245589</td>\n",
       "      <td>0.095374</td>\n",
       "      <td>1.525990</td>\n",
       "      <td>1.907487</td>\n",
       "      <td>0.286123</td>\n",
       "      <td>15.641392</td>\n",
       "      <td>1.716738</td>\n",
       "    </tr>\n",
       "    <tr>\n",
       "      <th>4</th>\n",
       "      <td>Elms-Old Rexdale</td>\n",
       "      <td>5</td>\n",
       "      <td>0.104712</td>\n",
       "      <td>8.062827</td>\n",
       "      <td>2.617801</td>\n",
       "      <td>1.465969</td>\n",
       "      <td>33.612565</td>\n",
       "      <td>7.434555</td>\n",
       "      <td>11.204188</td>\n",
       "      <td>4.502618</td>\n",
       "      <td>0.000000</td>\n",
       "      <td>2.408377</td>\n",
       "      <td>0.523560</td>\n",
       "      <td>1.989529</td>\n",
       "      <td>19.371728</td>\n",
       "      <td>2.303665</td>\n",
       "    </tr>\n",
       "  </tbody>\n",
       "</table>\n",
       "</div>"
      ],
      "text/plain": [
       "                                   N  NId       Ars        Ass        BE  \\\n",
       "0             West Humber-Clairville    1  0.117302  11.436950  5.131965   \n",
       "1  Mount Olive-Silverstone-Jamestown    2  0.091491   9.637084  1.860323   \n",
       "2       Thistletown-Beaumond Heights    3  0.000000   8.382643  3.550296   \n",
       "3                    Rexdale-Kipling    4  0.000000   5.627086  3.051979   \n",
       "4                   Elms-Old Rexdale    5  0.104712   8.062827  2.617801   \n",
       "\n",
       "         DA        FMC        FVI        FFA        HI         M         R  \\\n",
       "0  1.818182  38.739003  14.721408  20.674487  6.158358  0.000000  2.404692   \n",
       "1  2.744739  30.985056   1.799329  11.009454  5.367490  0.030497  2.378774   \n",
       "2  1.577909  31.854043   4.733728   8.875740  3.353057  0.000000  1.676529   \n",
       "3  1.430615  29.089175   3.242728   8.965188  5.245589  0.095374  1.525990   \n",
       "4  1.465969  33.612565   7.434555  11.204188  4.502618  0.000000  2.408377   \n",
       "\n",
       "         SA         T       TMCI        VT  \n",
       "0  1.994135  1.583578  32.815249  8.445748  \n",
       "1  2.287283  0.213480  21.043001  1.890820  \n",
       "2  2.366864  0.197239  18.934911  1.183432  \n",
       "3  1.907487  0.286123  15.641392  1.716738  \n",
       "4  0.523560  1.989529  19.371728  2.303665  "
      ]
     },
     "execution_count": 18,
     "metadata": {},
     "output_type": "execute_result"
    }
   ],
   "source": [
    "c_norm.head() #2011 crime data"
   ]
  },
  {
   "cell_type": "code",
   "execution_count": 19,
   "metadata": {
    "collapsed": false
   },
   "outputs": [
    {
     "data": {
      "text/html": [
       "<div>\n",
       "<table border=\"1\" class=\"dataframe\">\n",
       "  <thead>\n",
       "    <tr style=\"text-align: right;\">\n",
       "      <th></th>\n",
       "      <th>N</th>\n",
       "      <th>NId</th>\n",
       "      <th>AC2</th>\n",
       "      <th>AR2</th>\n",
       "      <th>Ars2</th>\n",
       "      <th>Ass2</th>\n",
       "      <th>BE2</th>\n",
       "      <th>DA2</th>\n",
       "      <th>FVI2</th>\n",
       "      <th>FI2</th>\n",
       "      <th>FFA2</th>\n",
       "      <th>HI2</th>\n",
       "      <th>M2</th>\n",
       "      <th>R2</th>\n",
       "      <th>SA2</th>\n",
       "      <th>TCHCSI2</th>\n",
       "      <th>T2</th>\n",
       "      <th>VT2</th>\n",
       "      <th>TMCI2</th>\n",
       "    </tr>\n",
       "  </thead>\n",
       "  <tbody>\n",
       "    <tr>\n",
       "      <th>0</th>\n",
       "      <td>West Humber-Clairville</td>\n",
       "      <td>1</td>\n",
       "      <td>111.978925</td>\n",
       "      <td>0.309933</td>\n",
       "      <td>0.123973</td>\n",
       "      <td>8.430188</td>\n",
       "      <td>5.981714</td>\n",
       "      <td>2.727414</td>\n",
       "      <td>20.889509</td>\n",
       "      <td>0.092980</td>\n",
       "      <td>4.184100</td>\n",
       "      <td>8.337208</td>\n",
       "      <td>0.030993</td>\n",
       "      <td>2.634434</td>\n",
       "      <td>0.650860</td>\n",
       "      <td>1.921587</td>\n",
       "      <td>1.301720</td>\n",
       "      <td>10.568728</td>\n",
       "      <td>32.326050</td>\n",
       "    </tr>\n",
       "    <tr>\n",
       "      <th>1</th>\n",
       "      <td>Mount Olive-Silverstone-Jamestown</td>\n",
       "      <td>2</td>\n",
       "      <td>69.374416</td>\n",
       "      <td>0.155618</td>\n",
       "      <td>0.000000</td>\n",
       "      <td>8.372238</td>\n",
       "      <td>2.738873</td>\n",
       "      <td>4.512916</td>\n",
       "      <td>1.618425</td>\n",
       "      <td>0.342359</td>\n",
       "      <td>2.178649</td>\n",
       "      <td>5.073140</td>\n",
       "      <td>0.000000</td>\n",
       "      <td>2.489885</td>\n",
       "      <td>0.715842</td>\n",
       "      <td>13.258637</td>\n",
       "      <td>0.186741</td>\n",
       "      <td>3.516962</td>\n",
       "      <td>22.533458</td>\n",
       "    </tr>\n",
       "    <tr>\n",
       "      <th>2</th>\n",
       "      <td>Thistletown-Beaumond Heights</td>\n",
       "      <td>3</td>\n",
       "      <td>79.899244</td>\n",
       "      <td>0.503778</td>\n",
       "      <td>0.000000</td>\n",
       "      <td>6.649874</td>\n",
       "      <td>3.022670</td>\n",
       "      <td>2.720403</td>\n",
       "      <td>2.015113</td>\n",
       "      <td>0.000000</td>\n",
       "      <td>2.619647</td>\n",
       "      <td>4.836272</td>\n",
       "      <td>0.000000</td>\n",
       "      <td>2.317380</td>\n",
       "      <td>0.503778</td>\n",
       "      <td>8.967254</td>\n",
       "      <td>0.201511</td>\n",
       "      <td>1.612091</td>\n",
       "      <td>17.027708</td>\n",
       "    </tr>\n",
       "    <tr>\n",
       "      <th>3</th>\n",
       "      <td>Rexdale-Kipling</td>\n",
       "      <td>4</td>\n",
       "      <td>61.911422</td>\n",
       "      <td>0.466200</td>\n",
       "      <td>0.000000</td>\n",
       "      <td>4.568765</td>\n",
       "      <td>2.610723</td>\n",
       "      <td>1.585082</td>\n",
       "      <td>1.305361</td>\n",
       "      <td>0.000000</td>\n",
       "      <td>2.424242</td>\n",
       "      <td>5.967366</td>\n",
       "      <td>0.000000</td>\n",
       "      <td>1.491841</td>\n",
       "      <td>0.559441</td>\n",
       "      <td>4.475524</td>\n",
       "      <td>0.000000</td>\n",
       "      <td>2.331002</td>\n",
       "      <td>13.146853</td>\n",
       "    </tr>\n",
       "    <tr>\n",
       "      <th>4</th>\n",
       "      <td>Elms-Old Rexdale</td>\n",
       "      <td>5</td>\n",
       "      <td>88.559322</td>\n",
       "      <td>0.317797</td>\n",
       "      <td>0.211864</td>\n",
       "      <td>5.190678</td>\n",
       "      <td>2.330508</td>\n",
       "      <td>0.847458</td>\n",
       "      <td>4.766949</td>\n",
       "      <td>0.105932</td>\n",
       "      <td>2.436441</td>\n",
       "      <td>5.508475</td>\n",
       "      <td>0.000000</td>\n",
       "      <td>2.754237</td>\n",
       "      <td>0.317797</td>\n",
       "      <td>14.618644</td>\n",
       "      <td>0.211864</td>\n",
       "      <td>1.800847</td>\n",
       "      <td>13.453390</td>\n",
       "    </tr>\n",
       "  </tbody>\n",
       "</table>\n",
       "</div>"
      ],
      "text/plain": [
       "                                   N  NId         AC2       AR2      Ars2  \\\n",
       "0             West Humber-Clairville    1  111.978925  0.309933  0.123973   \n",
       "1  Mount Olive-Silverstone-Jamestown    2   69.374416  0.155618  0.000000   \n",
       "2       Thistletown-Beaumond Heights    3   79.899244  0.503778  0.000000   \n",
       "3                    Rexdale-Kipling    4   61.911422  0.466200  0.000000   \n",
       "4                   Elms-Old Rexdale    5   88.559322  0.317797  0.211864   \n",
       "\n",
       "       Ass2       BE2       DA2       FVI2       FI2      FFA2       HI2  \\\n",
       "0  8.430188  5.981714  2.727414  20.889509  0.092980  4.184100  8.337208   \n",
       "1  8.372238  2.738873  4.512916   1.618425  0.342359  2.178649  5.073140   \n",
       "2  6.649874  3.022670  2.720403   2.015113  0.000000  2.619647  4.836272   \n",
       "3  4.568765  2.610723  1.585082   1.305361  0.000000  2.424242  5.967366   \n",
       "4  5.190678  2.330508  0.847458   4.766949  0.105932  2.436441  5.508475   \n",
       "\n",
       "         M2        R2       SA2    TCHCSI2        T2        VT2      TMCI2  \n",
       "0  0.030993  2.634434  0.650860   1.921587  1.301720  10.568728  32.326050  \n",
       "1  0.000000  2.489885  0.715842  13.258637  0.186741   3.516962  22.533458  \n",
       "2  0.000000  2.317380  0.503778   8.967254  0.201511   1.612091  17.027708  \n",
       "3  0.000000  1.491841  0.559441   4.475524  0.000000   2.331002  13.146853  \n",
       "4  0.000000  2.754237  0.317797  14.618644  0.211864   1.800847  13.453390  "
      ]
     },
     "execution_count": 19,
     "metadata": {},
     "output_type": "execute_result"
    }
   ],
   "source": [
    "c2_norm.head() #2008 crime data"
   ]
  },
  {
   "cell_type": "code",
   "execution_count": 20,
   "metadata": {
    "collapsed": false
   },
   "outputs": [
    {
     "data": {
      "text/html": [
       "<div>\n",
       "<table border=\"1\" class=\"dataframe\">\n",
       "  <thead>\n",
       "    <tr style=\"text-align: right;\">\n",
       "      <th></th>\n",
       "      <th>NId</th>\n",
       "      <th>Ars</th>\n",
       "      <th>Ass</th>\n",
       "      <th>BE</th>\n",
       "      <th>DA</th>\n",
       "      <th>FMC</th>\n",
       "      <th>FVI</th>\n",
       "      <th>FFA</th>\n",
       "      <th>HI</th>\n",
       "      <th>M</th>\n",
       "      <th>R</th>\n",
       "      <th>SA</th>\n",
       "      <th>T</th>\n",
       "      <th>TMCI</th>\n",
       "      <th>VT</th>\n",
       "    </tr>\n",
       "  </thead>\n",
       "  <tbody>\n",
       "    <tr>\n",
       "      <th>count</th>\n",
       "      <td>140.0000</td>\n",
       "      <td>140.000000</td>\n",
       "      <td>140.000000</td>\n",
       "      <td>140.000000</td>\n",
       "      <td>140.000000</td>\n",
       "      <td>140.000000</td>\n",
       "      <td>140.000000</td>\n",
       "      <td>140.000000</td>\n",
       "      <td>140.000000</td>\n",
       "      <td>140.000000</td>\n",
       "      <td>140.000000</td>\n",
       "      <td>140.000000</td>\n",
       "      <td>140.000000</td>\n",
       "      <td>140.000000</td>\n",
       "      <td>140.000000</td>\n",
       "    </tr>\n",
       "    <tr>\n",
       "      <th>mean</th>\n",
       "      <td>70.5000</td>\n",
       "      <td>0.060806</td>\n",
       "      <td>8.057472</td>\n",
       "      <td>4.113241</td>\n",
       "      <td>2.026643</td>\n",
       "      <td>34.380419</td>\n",
       "      <td>4.670153</td>\n",
       "      <td>12.966220</td>\n",
       "      <td>6.033728</td>\n",
       "      <td>0.019289</td>\n",
       "      <td>1.859598</td>\n",
       "      <td>0.958315</td>\n",
       "      <td>0.346375</td>\n",
       "      <td>18.899926</td>\n",
       "      <td>1.518993</td>\n",
       "    </tr>\n",
       "    <tr>\n",
       "      <th>std</th>\n",
       "      <td>40.5586</td>\n",
       "      <td>0.070187</td>\n",
       "      <td>4.659080</td>\n",
       "      <td>1.548878</td>\n",
       "      <td>2.146247</td>\n",
       "      <td>14.937431</td>\n",
       "      <td>3.003211</td>\n",
       "      <td>8.271300</td>\n",
       "      <td>2.104366</td>\n",
       "      <td>0.037732</td>\n",
       "      <td>1.113830</td>\n",
       "      <td>0.619382</td>\n",
       "      <td>0.298949</td>\n",
       "      <td>8.655682</td>\n",
       "      <td>1.194685</td>\n",
       "    </tr>\n",
       "    <tr>\n",
       "      <th>min</th>\n",
       "      <td>1.0000</td>\n",
       "      <td>0.000000</td>\n",
       "      <td>1.739130</td>\n",
       "      <td>1.300390</td>\n",
       "      <td>0.000000</td>\n",
       "      <td>13.194722</td>\n",
       "      <td>0.386349</td>\n",
       "      <td>3.798481</td>\n",
       "      <td>1.583211</td>\n",
       "      <td>0.000000</td>\n",
       "      <td>0.257400</td>\n",
       "      <td>0.089286</td>\n",
       "      <td>0.000000</td>\n",
       "      <td>7.092723</td>\n",
       "      <td>0.274600</td>\n",
       "    </tr>\n",
       "    <tr>\n",
       "      <th>25%</th>\n",
       "      <td>35.7500</td>\n",
       "      <td>0.000000</td>\n",
       "      <td>4.419568</td>\n",
       "      <td>2.947731</td>\n",
       "      <td>0.828803</td>\n",
       "      <td>25.980638</td>\n",
       "      <td>2.565404</td>\n",
       "      <td>8.416467</td>\n",
       "      <td>4.673796</td>\n",
       "      <td>0.000000</td>\n",
       "      <td>1.069989</td>\n",
       "      <td>0.516434</td>\n",
       "      <td>0.155055</td>\n",
       "      <td>12.407377</td>\n",
       "      <td>0.871931</td>\n",
       "    </tr>\n",
       "    <tr>\n",
       "      <th>50%</th>\n",
       "      <td>70.5000</td>\n",
       "      <td>0.058042</td>\n",
       "      <td>7.205346</td>\n",
       "      <td>3.851444</td>\n",
       "      <td>1.497455</td>\n",
       "      <td>31.418898</td>\n",
       "      <td>3.931834</td>\n",
       "      <td>10.760260</td>\n",
       "      <td>5.882035</td>\n",
       "      <td>0.000000</td>\n",
       "      <td>1.559647</td>\n",
       "      <td>0.825615</td>\n",
       "      <td>0.289292</td>\n",
       "      <td>17.225228</td>\n",
       "      <td>1.310282</td>\n",
       "    </tr>\n",
       "    <tr>\n",
       "      <th>75%</th>\n",
       "      <td>105.2500</td>\n",
       "      <td>0.094234</td>\n",
       "      <td>10.542619</td>\n",
       "      <td>5.145270</td>\n",
       "      <td>2.438344</td>\n",
       "      <td>38.636659</td>\n",
       "      <td>6.124180</td>\n",
       "      <td>13.926176</td>\n",
       "      <td>7.285228</td>\n",
       "      <td>0.030836</td>\n",
       "      <td>2.382644</td>\n",
       "      <td>1.297216</td>\n",
       "      <td>0.436619</td>\n",
       "      <td>22.990496</td>\n",
       "      <td>1.753712</td>\n",
       "    </tr>\n",
       "    <tr>\n",
       "      <th>max</th>\n",
       "      <td>140.0000</td>\n",
       "      <td>0.367872</td>\n",
       "      <td>28.637891</td>\n",
       "      <td>9.445762</td>\n",
       "      <td>18.516248</td>\n",
       "      <td>111.833231</td>\n",
       "      <td>21.367030</td>\n",
       "      <td>62.186612</td>\n",
       "      <td>13.182097</td>\n",
       "      <td>0.252525</td>\n",
       "      <td>6.409925</td>\n",
       "      <td>2.923812</td>\n",
       "      <td>1.989529</td>\n",
       "      <td>56.468424</td>\n",
       "      <td>9.329248</td>\n",
       "    </tr>\n",
       "  </tbody>\n",
       "</table>\n",
       "</div>"
      ],
      "text/plain": [
       "            NId         Ars         Ass          BE          DA         FMC  \\\n",
       "count  140.0000  140.000000  140.000000  140.000000  140.000000  140.000000   \n",
       "mean    70.5000    0.060806    8.057472    4.113241    2.026643   34.380419   \n",
       "std     40.5586    0.070187    4.659080    1.548878    2.146247   14.937431   \n",
       "min      1.0000    0.000000    1.739130    1.300390    0.000000   13.194722   \n",
       "25%     35.7500    0.000000    4.419568    2.947731    0.828803   25.980638   \n",
       "50%     70.5000    0.058042    7.205346    3.851444    1.497455   31.418898   \n",
       "75%    105.2500    0.094234   10.542619    5.145270    2.438344   38.636659   \n",
       "max    140.0000    0.367872   28.637891    9.445762   18.516248  111.833231   \n",
       "\n",
       "              FVI         FFA          HI           M           R          SA  \\\n",
       "count  140.000000  140.000000  140.000000  140.000000  140.000000  140.000000   \n",
       "mean     4.670153   12.966220    6.033728    0.019289    1.859598    0.958315   \n",
       "std      3.003211    8.271300    2.104366    0.037732    1.113830    0.619382   \n",
       "min      0.386349    3.798481    1.583211    0.000000    0.257400    0.089286   \n",
       "25%      2.565404    8.416467    4.673796    0.000000    1.069989    0.516434   \n",
       "50%      3.931834   10.760260    5.882035    0.000000    1.559647    0.825615   \n",
       "75%      6.124180   13.926176    7.285228    0.030836    2.382644    1.297216   \n",
       "max     21.367030   62.186612   13.182097    0.252525    6.409925    2.923812   \n",
       "\n",
       "                T        TMCI          VT  \n",
       "count  140.000000  140.000000  140.000000  \n",
       "mean     0.346375   18.899926    1.518993  \n",
       "std      0.298949    8.655682    1.194685  \n",
       "min      0.000000    7.092723    0.274600  \n",
       "25%      0.155055   12.407377    0.871931  \n",
       "50%      0.289292   17.225228    1.310282  \n",
       "75%      0.436619   22.990496    1.753712  \n",
       "max      1.989529   56.468424    9.329248  "
      ]
     },
     "execution_count": 20,
     "metadata": {},
     "output_type": "execute_result"
    }
   ],
   "source": [
    "# Get some overall statistics for 2011\n",
    "c_norm.describe()"
   ]
  },
  {
   "cell_type": "code",
   "execution_count": 21,
   "metadata": {
    "collapsed": false
   },
   "outputs": [
    {
     "data": {
      "text/html": [
       "<div>\n",
       "<table border=\"1\" class=\"dataframe\">\n",
       "  <thead>\n",
       "    <tr style=\"text-align: right;\">\n",
       "      <th></th>\n",
       "      <th>NId</th>\n",
       "      <th>AC2</th>\n",
       "      <th>AR2</th>\n",
       "      <th>Ars2</th>\n",
       "      <th>Ass2</th>\n",
       "      <th>BE2</th>\n",
       "      <th>DA2</th>\n",
       "      <th>FVI2</th>\n",
       "      <th>FI2</th>\n",
       "      <th>FFA2</th>\n",
       "      <th>HI2</th>\n",
       "      <th>M2</th>\n",
       "      <th>R2</th>\n",
       "      <th>SA2</th>\n",
       "      <th>TCHCSI2</th>\n",
       "      <th>T2</th>\n",
       "      <th>VT2</th>\n",
       "      <th>TMCI2</th>\n",
       "    </tr>\n",
       "  </thead>\n",
       "  <tbody>\n",
       "    <tr>\n",
       "      <th>count</th>\n",
       "      <td>140.0000</td>\n",
       "      <td>140.000000</td>\n",
       "      <td>140.000000</td>\n",
       "      <td>140.000000</td>\n",
       "      <td>140.000000</td>\n",
       "      <td>140.000000</td>\n",
       "      <td>140.000000</td>\n",
       "      <td>140.000000</td>\n",
       "      <td>140.000000</td>\n",
       "      <td>140.000000</td>\n",
       "      <td>140.000000</td>\n",
       "      <td>140.000000</td>\n",
       "      <td>140.000000</td>\n",
       "      <td>140.000000</td>\n",
       "      <td>140.000000</td>\n",
       "      <td>140.000000</td>\n",
       "      <td>140.000000</td>\n",
       "      <td>140.000000</td>\n",
       "    </tr>\n",
       "    <tr>\n",
       "      <th>mean</th>\n",
       "      <td>70.5000</td>\n",
       "      <td>87.741000</td>\n",
       "      <td>0.404364</td>\n",
       "      <td>0.088052</td>\n",
       "      <td>6.885194</td>\n",
       "      <td>3.740126</td>\n",
       "      <td>3.780567</td>\n",
       "      <td>4.875626</td>\n",
       "      <td>0.128540</td>\n",
       "      <td>3.569013</td>\n",
       "      <td>6.902121</td>\n",
       "      <td>0.025703</td>\n",
       "      <td>1.622161</td>\n",
       "      <td>0.568509</td>\n",
       "      <td>6.521509</td>\n",
       "      <td>0.358737</td>\n",
       "      <td>2.442250</td>\n",
       "      <td>19.423247</td>\n",
       "    </tr>\n",
       "    <tr>\n",
       "      <th>std</th>\n",
       "      <td>40.5586</td>\n",
       "      <td>44.222251</td>\n",
       "      <td>0.268568</td>\n",
       "      <td>0.107554</td>\n",
       "      <td>4.344047</td>\n",
       "      <td>2.111306</td>\n",
       "      <td>4.430225</td>\n",
       "      <td>3.782824</td>\n",
       "      <td>0.197849</td>\n",
       "      <td>1.418540</td>\n",
       "      <td>2.672502</td>\n",
       "      <td>0.050091</td>\n",
       "      <td>1.137876</td>\n",
       "      <td>0.404646</td>\n",
       "      <td>9.531093</td>\n",
       "      <td>0.349347</td>\n",
       "      <td>1.662016</td>\n",
       "      <td>11.742062</td>\n",
       "    </tr>\n",
       "    <tr>\n",
       "      <th>min</th>\n",
       "      <td>1.0000</td>\n",
       "      <td>35.134588</td>\n",
       "      <td>0.000000</td>\n",
       "      <td>0.000000</td>\n",
       "      <td>1.291513</td>\n",
       "      <td>1.023172</td>\n",
       "      <td>0.000000</td>\n",
       "      <td>0.496894</td>\n",
       "      <td>0.000000</td>\n",
       "      <td>0.566687</td>\n",
       "      <td>1.700061</td>\n",
       "      <td>0.000000</td>\n",
       "      <td>0.200736</td>\n",
       "      <td>0.000000</td>\n",
       "      <td>0.000000</td>\n",
       "      <td>0.000000</td>\n",
       "      <td>0.404776</td>\n",
       "      <td>5.716435</td>\n",
       "    </tr>\n",
       "    <tr>\n",
       "      <th>25%</th>\n",
       "      <td>35.7500</td>\n",
       "      <td>63.815593</td>\n",
       "      <td>0.232116</td>\n",
       "      <td>0.000000</td>\n",
       "      <td>3.770993</td>\n",
       "      <td>2.341697</td>\n",
       "      <td>1.134179</td>\n",
       "      <td>2.490915</td>\n",
       "      <td>0.000000</td>\n",
       "      <td>2.665424</td>\n",
       "      <td>5.102190</td>\n",
       "      <td>0.000000</td>\n",
       "      <td>0.886543</td>\n",
       "      <td>0.305505</td>\n",
       "      <td>0.000000</td>\n",
       "      <td>0.160374</td>\n",
       "      <td>1.313811</td>\n",
       "      <td>11.882192</td>\n",
       "    </tr>\n",
       "    <tr>\n",
       "      <th>50%</th>\n",
       "      <td>70.5000</td>\n",
       "      <td>78.912274</td>\n",
       "      <td>0.352334</td>\n",
       "      <td>0.068456</td>\n",
       "      <td>6.085921</td>\n",
       "      <td>3.177226</td>\n",
       "      <td>2.443936</td>\n",
       "      <td>3.608613</td>\n",
       "      <td>0.062624</td>\n",
       "      <td>3.357485</td>\n",
       "      <td>6.601917</td>\n",
       "      <td>0.000000</td>\n",
       "      <td>1.352844</td>\n",
       "      <td>0.487331</td>\n",
       "      <td>3.851822</td>\n",
       "      <td>0.262750</td>\n",
       "      <td>2.019474</td>\n",
       "      <td>16.327531</td>\n",
       "    </tr>\n",
       "    <tr>\n",
       "      <th>75%</th>\n",
       "      <td>105.2500</td>\n",
       "      <td>98.091611</td>\n",
       "      <td>0.533653</td>\n",
       "      <td>0.117326</td>\n",
       "      <td>8.923467</td>\n",
       "      <td>4.593931</td>\n",
       "      <td>4.701562</td>\n",
       "      <td>6.046208</td>\n",
       "      <td>0.177953</td>\n",
       "      <td>4.338422</td>\n",
       "      <td>8.113737</td>\n",
       "      <td>0.041946</td>\n",
       "      <td>2.083005</td>\n",
       "      <td>0.716594</td>\n",
       "      <td>9.022628</td>\n",
       "      <td>0.436383</td>\n",
       "      <td>2.954621</td>\n",
       "      <td>23.779808</td>\n",
       "    </tr>\n",
       "    <tr>\n",
       "      <th>max</th>\n",
       "      <td>140.0000</td>\n",
       "      <td>372.062663</td>\n",
       "      <td>2.111801</td>\n",
       "      <td>0.581395</td>\n",
       "      <td>28.524804</td>\n",
       "      <td>16.765453</td>\n",
       "      <td>32.105943</td>\n",
       "      <td>24.871060</td>\n",
       "      <td>1.095618</td>\n",
       "      <td>9.464752</td>\n",
       "      <td>18.472585</td>\n",
       "      <td>0.306279</td>\n",
       "      <td>6.788512</td>\n",
       "      <td>2.370872</td>\n",
       "      <td>61.531054</td>\n",
       "      <td>2.415144</td>\n",
       "      <td>10.568728</td>\n",
       "      <td>72.157623</td>\n",
       "    </tr>\n",
       "  </tbody>\n",
       "</table>\n",
       "</div>"
      ],
      "text/plain": [
       "            NId         AC2         AR2        Ars2        Ass2         BE2  \\\n",
       "count  140.0000  140.000000  140.000000  140.000000  140.000000  140.000000   \n",
       "mean    70.5000   87.741000    0.404364    0.088052    6.885194    3.740126   \n",
       "std     40.5586   44.222251    0.268568    0.107554    4.344047    2.111306   \n",
       "min      1.0000   35.134588    0.000000    0.000000    1.291513    1.023172   \n",
       "25%     35.7500   63.815593    0.232116    0.000000    3.770993    2.341697   \n",
       "50%     70.5000   78.912274    0.352334    0.068456    6.085921    3.177226   \n",
       "75%    105.2500   98.091611    0.533653    0.117326    8.923467    4.593931   \n",
       "max    140.0000  372.062663    2.111801    0.581395   28.524804   16.765453   \n",
       "\n",
       "              DA2        FVI2         FI2        FFA2         HI2          M2  \\\n",
       "count  140.000000  140.000000  140.000000  140.000000  140.000000  140.000000   \n",
       "mean     3.780567    4.875626    0.128540    3.569013    6.902121    0.025703   \n",
       "std      4.430225    3.782824    0.197849    1.418540    2.672502    0.050091   \n",
       "min      0.000000    0.496894    0.000000    0.566687    1.700061    0.000000   \n",
       "25%      1.134179    2.490915    0.000000    2.665424    5.102190    0.000000   \n",
       "50%      2.443936    3.608613    0.062624    3.357485    6.601917    0.000000   \n",
       "75%      4.701562    6.046208    0.177953    4.338422    8.113737    0.041946   \n",
       "max     32.105943   24.871060    1.095618    9.464752   18.472585    0.306279   \n",
       "\n",
       "               R2         SA2     TCHCSI2          T2         VT2       TMCI2  \n",
       "count  140.000000  140.000000  140.000000  140.000000  140.000000  140.000000  \n",
       "mean     1.622161    0.568509    6.521509    0.358737    2.442250   19.423247  \n",
       "std      1.137876    0.404646    9.531093    0.349347    1.662016   11.742062  \n",
       "min      0.200736    0.000000    0.000000    0.000000    0.404776    5.716435  \n",
       "25%      0.886543    0.305505    0.000000    0.160374    1.313811   11.882192  \n",
       "50%      1.352844    0.487331    3.851822    0.262750    2.019474   16.327531  \n",
       "75%      2.083005    0.716594    9.022628    0.436383    2.954621   23.779808  \n",
       "max      6.788512    2.370872   61.531054    2.415144   10.568728   72.157623  "
      ]
     },
     "execution_count": 21,
     "metadata": {},
     "output_type": "execute_result"
    }
   ],
   "source": [
    "# Get some overall statistics for 2008\n",
    "c2_norm.describe()"
   ]
  },
  {
   "cell_type": "markdown",
   "metadata": {},
   "source": [
    "**The mean crime across all neighbourhoods is more or less the same for both 2008 and 2011**"
   ]
  },
  {
   "cell_type": "code",
   "execution_count": 22,
   "metadata": {
    "collapsed": false
   },
   "outputs": [
    {
     "data": {
      "text/plain": [
       "56.468424279583076"
      ]
     },
     "execution_count": 22,
     "metadata": {},
     "output_type": "execute_result"
    }
   ],
   "source": [
    "c_norm['TMCI'].max()"
   ]
  },
  {
   "cell_type": "code",
   "execution_count": 23,
   "metadata": {
    "collapsed": false
   },
   "outputs": [
    {
     "data": {
      "text/plain": [
       "Ass    8.057472\n",
       "BE     4.113241\n",
       "DA     2.026643\n",
       "R      1.859598\n",
       "VT     1.518993\n",
       "SA     0.958315\n",
       "T      0.346375\n",
       "M      0.019289\n",
       "dtype: float64"
      ]
     },
     "execution_count": 23,
     "metadata": {},
     "output_type": "execute_result"
    }
   ],
   "source": [
    "# Sort all the major crimes by mean for 2011\n",
    "c_norm.loc[:,['Ass','BE','DA','M','R','SA','T','VT']].mean().sort_values(ascending=False)"
   ]
  },
  {
   "cell_type": "code",
   "execution_count": 24,
   "metadata": {
    "collapsed": false
   },
   "outputs": [
    {
     "data": {
      "text/plain": [
       "Ass2    6.885194\n",
       "DA2     3.780567\n",
       "BE2     3.740126\n",
       "VT2     2.442250\n",
       "R2      1.622161\n",
       "SA2     0.568509\n",
       "T2      0.358737\n",
       "M2      0.025703\n",
       "dtype: float64"
      ]
     },
     "execution_count": 24,
     "metadata": {},
     "output_type": "execute_result"
    }
   ],
   "source": [
    "# Sort all the major crimes by mean for 2008\n",
    "c2_norm.loc[:,['Ass2','BE2','DA2','M2','R2','SA2','T2','VT2']].mean().sort_values(ascending=False)"
   ]
  },
  {
   "cell_type": "markdown",
   "metadata": {},
   "source": [
    "**When we compare the major crimes for 2011 and 2008, we notice that Assaults, Drug Arrests, and Break & Enters are the major crime category contributors for both these years. Murders and thefts are the lowest two major crime categories, justifying why Toronto is a safe city.**"
   ]
  },
  {
   "cell_type": "markdown",
   "metadata": {},
   "source": [
    "**What are the most crime prome neighbourhoods in 2011 and in 2008 (based on major crimes reported)?**"
   ]
  },
  {
   "cell_type": "code",
   "execution_count": 25,
   "metadata": {
    "collapsed": false
   },
   "outputs": [
    {
     "data": {
      "text/html": [
       "<div>\n",
       "<table border=\"1\" class=\"dataframe\">\n",
       "  <thead>\n",
       "    <tr style=\"text-align: right;\">\n",
       "      <th></th>\n",
       "      <th>N</th>\n",
       "      <th>TMCI</th>\n",
       "    </tr>\n",
       "  </thead>\n",
       "  <tbody>\n",
       "    <tr>\n",
       "      <th>30</th>\n",
       "      <td>Yorkdale-Glen Park</td>\n",
       "      <td>37.521280</td>\n",
       "    </tr>\n",
       "    <tr>\n",
       "      <th>78</th>\n",
       "      <td>University</td>\n",
       "      <td>37.997433</td>\n",
       "    </tr>\n",
       "    <tr>\n",
       "      <th>77</th>\n",
       "      <td>Kensington-Chinatown</td>\n",
       "      <td>46.972973</td>\n",
       "    </tr>\n",
       "    <tr>\n",
       "      <th>75</th>\n",
       "      <td>Bay Street Corridor</td>\n",
       "      <td>52.571724</td>\n",
       "    </tr>\n",
       "    <tr>\n",
       "      <th>72</th>\n",
       "      <td>Moss Park</td>\n",
       "      <td>56.468424</td>\n",
       "    </tr>\n",
       "  </tbody>\n",
       "</table>\n",
       "</div>"
      ],
      "text/plain": [
       "                       N       TMCI\n",
       "30    Yorkdale-Glen Park  37.521280\n",
       "78            University  37.997433\n",
       "77  Kensington-Chinatown  46.972973\n",
       "75   Bay Street Corridor  52.571724\n",
       "72             Moss Park  56.468424"
      ]
     },
     "execution_count": 25,
     "metadata": {},
     "output_type": "execute_result"
    }
   ],
   "source": [
    "# Top 5 neighbourhoods by major crime in 2011\n",
    "t5TMCI_2011 = c_norm.sort_values(['TMCI']).tail(5)\n",
    "t5TMCI_2011[['N', 'TMCI']] # Most Total Major Crime Incidents"
   ]
  },
  {
   "cell_type": "code",
   "execution_count": 26,
   "metadata": {
    "collapsed": false
   },
   "outputs": [
    {
     "data": {
      "text/html": [
       "<div>\n",
       "<table border=\"1\" class=\"dataframe\">\n",
       "  <thead>\n",
       "    <tr style=\"text-align: right;\">\n",
       "      <th></th>\n",
       "      <th>N</th>\n",
       "      <th>TMCI2</th>\n",
       "    </tr>\n",
       "  </thead>\n",
       "  <tbody>\n",
       "    <tr>\n",
       "      <th>77</th>\n",
       "      <td>Kensington-Chinatown</td>\n",
       "      <td>52.486834</td>\n",
       "    </tr>\n",
       "    <tr>\n",
       "      <th>65</th>\n",
       "      <td>Danforth</td>\n",
       "      <td>53.577982</td>\n",
       "    </tr>\n",
       "    <tr>\n",
       "      <th>75</th>\n",
       "      <td>Bay Street Corridor</td>\n",
       "      <td>63.054830</td>\n",
       "    </tr>\n",
       "    <tr>\n",
       "      <th>78</th>\n",
       "      <td>University</td>\n",
       "      <td>71.126164</td>\n",
       "    </tr>\n",
       "    <tr>\n",
       "      <th>72</th>\n",
       "      <td>Moss Park</td>\n",
       "      <td>72.157623</td>\n",
       "    </tr>\n",
       "  </tbody>\n",
       "</table>\n",
       "</div>"
      ],
      "text/plain": [
       "                       N      TMCI2\n",
       "77  Kensington-Chinatown  52.486834\n",
       "65              Danforth  53.577982\n",
       "75   Bay Street Corridor  63.054830\n",
       "78            University  71.126164\n",
       "72             Moss Park  72.157623"
      ]
     },
     "execution_count": 26,
     "metadata": {},
     "output_type": "execute_result"
    }
   ],
   "source": [
    "# Top 5 neighbourhoods by major crime in 2008\n",
    "t5TMCI_2008 = c2_norm.sort_values(['TMCI2']).tail(5)\n",
    "t5TMCI_2008[['N', 'TMCI2']] # Most Total Major Crime Incidents"
   ]
  },
  {
   "cell_type": "markdown",
   "metadata": {},
   "source": [
    "**We notice that only four of the five neighbourhoods match in year 2008 and 2011. This is because Neighbourhood #30, Yorkdale-Glen Park, which was ranked eighth in 2008, has a slight increase in crime in 2011 when compared to other neighbourhoods and shows up in the the top 5 for 2011. Neighbourhood #65, Danforth, is still considered a high crime-prone neighbourhood in 2015. So, Danforth's drop in the 2011 list might have been temporary.**\n",
    "\n",
    "**Now let's look at the least crime prone neighbourhoods.**"
   ]
  },
  {
   "cell_type": "code",
   "execution_count": 27,
   "metadata": {
    "collapsed": false
   },
   "outputs": [
    {
     "data": {
      "text/html": [
       "<div>\n",
       "<table border=\"1\" class=\"dataframe\">\n",
       "  <thead>\n",
       "    <tr style=\"text-align: right;\">\n",
       "      <th></th>\n",
       "      <th>N</th>\n",
       "      <th>TMCI</th>\n",
       "    </tr>\n",
       "  </thead>\n",
       "  <tbody>\n",
       "    <tr>\n",
       "      <th>48</th>\n",
       "      <td>Bayview Woods-Steeles</td>\n",
       "      <td>7.092723</td>\n",
       "    </tr>\n",
       "    <tr>\n",
       "      <th>51</th>\n",
       "      <td>Bayview Village</td>\n",
       "      <td>7.468175</td>\n",
       "    </tr>\n",
       "    <tr>\n",
       "      <th>45</th>\n",
       "      <td>Pleasant View</td>\n",
       "      <td>7.866212</td>\n",
       "    </tr>\n",
       "    <tr>\n",
       "      <th>132</th>\n",
       "      <td>Centennial Scarborough</td>\n",
       "      <td>8.167939</td>\n",
       "    </tr>\n",
       "    <tr>\n",
       "      <th>116</th>\n",
       "      <td>L'Amoreaux</td>\n",
       "      <td>8.170990</td>\n",
       "    </tr>\n",
       "  </tbody>\n",
       "</table>\n",
       "</div>"
      ],
      "text/plain": [
       "                          N      TMCI\n",
       "48    Bayview Woods-Steeles  7.092723\n",
       "51          Bayview Village  7.468175\n",
       "45            Pleasant View  7.866212\n",
       "132  Centennial Scarborough  8.167939\n",
       "116              L'Amoreaux  8.170990"
      ]
     },
     "execution_count": 27,
     "metadata": {},
     "output_type": "execute_result"
    }
   ],
   "source": [
    "# Bottom 5 neighbourhoods by major crime in 2011\n",
    "b5TMCI_2011 = c_norm.sort_values(['TMCI']).head(5)\n",
    "b5TMCI_2011[['N', 'TMCI']] # Least Total Major Crime Incidents"
   ]
  },
  {
   "cell_type": "code",
   "execution_count": 28,
   "metadata": {
    "collapsed": false
   },
   "outputs": [
    {
     "data": {
      "text/html": [
       "<div>\n",
       "<table border=\"1\" class=\"dataframe\">\n",
       "  <thead>\n",
       "    <tr style=\"text-align: right;\">\n",
       "      <th></th>\n",
       "      <th>N</th>\n",
       "      <th>TMCI2</th>\n",
       "    </tr>\n",
       "  </thead>\n",
       "  <tbody>\n",
       "    <tr>\n",
       "      <th>48</th>\n",
       "      <td>Bayview Woods-Steeles</td>\n",
       "      <td>5.716435</td>\n",
       "    </tr>\n",
       "    <tr>\n",
       "      <th>45</th>\n",
       "      <td>Pleasant View</td>\n",
       "      <td>6.560337</td>\n",
       "    </tr>\n",
       "    <tr>\n",
       "      <th>51</th>\n",
       "      <td>Bayview Village</td>\n",
       "      <td>6.961614</td>\n",
       "    </tr>\n",
       "    <tr>\n",
       "      <th>132</th>\n",
       "      <td>Centennial Scarborough</td>\n",
       "      <td>7.068273</td>\n",
       "    </tr>\n",
       "    <tr>\n",
       "      <th>10</th>\n",
       "      <td>Eringate-Centennial-West Deane</td>\n",
       "      <td>7.229566</td>\n",
       "    </tr>\n",
       "  </tbody>\n",
       "</table>\n",
       "</div>"
      ],
      "text/plain": [
       "                                  N     TMCI2\n",
       "48            Bayview Woods-Steeles  5.716435\n",
       "45                    Pleasant View  6.560337\n",
       "51                  Bayview Village  6.961614\n",
       "132          Centennial Scarborough  7.068273\n",
       "10   Eringate-Centennial-West Deane  7.229566"
      ]
     },
     "execution_count": 28,
     "metadata": {},
     "output_type": "execute_result"
    }
   ],
   "source": [
    "# Bottom 5 neighbourhoods by major crime in 2008\n",
    "b5TMCI_2008 = c2_norm.sort_values(['TMCI2']).head(5)\n",
    "b5TMCI_2008[['N', 'TMCI2']] # Least Total Major Crime Incidents"
   ]
  },
  {
   "cell_type": "markdown",
   "metadata": {
    "collapsed": true
   },
   "source": [
    "**Again, we see that four of the five neighbourhoods match in for 2008 and 2011, suggesting that in three years not a lot has changed with the high and low crime prone areas in Toronto.**"
   ]
  },
  {
   "cell_type": "markdown",
   "metadata": {},
   "source": [
    "**We can now show some visualizations of all the major crimes in Toronto.**\n",
    "\n",
    "**We can compare major crimes between 2011 and 2008 as univariate distributions in seaborn - a histogram and a kernel density estimate.**"
   ]
  },
  {
   "cell_type": "code",
   "execution_count": 29,
   "metadata": {
    "collapsed": false
   },
   "outputs": [
    {
     "data": {
      "text/plain": [
       "<matplotlib.axes._subplots.AxesSubplot at 0x11295c050>"
      ]
     },
     "execution_count": 29,
     "metadata": {},
     "output_type": "execute_result"
    },
    {
     "data": {
      "image/png": "[encoded data removed]",
      "text/plain": [
       "<matplotlib.figure.Figure at 0x11293c610>"
      ]
     },
     "metadata": {},
     "output_type": "display_data"
    }
   ],
   "source": [
    "%matplotlib inline\n",
    "x = c_norm['TMCI']\n",
    "y = c2_norm['TMCI2']\n",
    "#plt.hist(x)\n",
    "plt.xlabel('Total Major Crime Incidents/1000')\n",
    "plt.ylabel('Frequency of Total Major Crime Incidents/1000')\n",
    "plt.title('Histogram of Total Major Crime Incidents for 2011')\n",
    "sns.distplot(x)"
   ]
  },
  {
   "cell_type": "code",
   "execution_count": 30,
   "metadata": {
    "collapsed": false
   },
   "outputs": [
    {
     "data": {
      "text/plain": [
       "<matplotlib.axes._subplots.AxesSubplot at 0x112a06290>"
      ]
     },
     "execution_count": 30,
     "metadata": {},
     "output_type": "execute_result"
    },
    {
     "data": {
      "image/png": "[encoded data removed]",
      "text/plain": [
       "<matplotlib.figure.Figure at 0x11293c4d0>"
      ]
     },
     "metadata": {},
     "output_type": "display_data"
    }
   ],
   "source": [
    "y = c2_norm['TMCI2']\n",
    "plt.xlabel('Total Major Crime Incidents/1000')\n",
    "plt.ylabel('Frequency of Total Major Crime Incidents/1000')\n",
    "plt.title('Histogram of Total Major Crime Incidents for 2008')\n",
    "sns.distplot(y)"
   ]
  },
  {
   "cell_type": "markdown",
   "metadata": {
    "collapsed": true
   },
   "source": [
    "**An easier way to compare both years is to show the total crimes as bivariate distributions in a scatter plot. This also shows how correlated both distributions are. The more correlated they are, the lesser the difference in total crimes between the two years. Here, 2011 total crime data is on the x-axis and 2008 total crime data is on the y-axis.**"
   ]
  },
  {
   "cell_type": "code",
   "execution_count": 31,
   "metadata": {
    "collapsed": false
   },
   "outputs": [
    {
     "data": {
      "text/plain": [
       "<seaborn.axisgrid.JointGrid at 0x112729c90>"
      ]
     },
     "execution_count": 31,
     "metadata": {},
     "output_type": "execute_result"
    },
    {
     "data": {
      "image/png": "[encoded data removed]",
      "text/plain": [
       "<matplotlib.figure.Figure at 0x112a768d0>"
      ]
     },
     "metadata": {},
     "output_type": "display_data"
    }
   ],
   "source": [
    "sns.jointplot(x=c_norm['TMCI'],y=c2_norm['TMCI2'])"
   ]
  },
  {
   "cell_type": "markdown",
   "metadata": {},
   "source": [
    "**As expected, we see a strong correlation of 0.91 for both the years.**\n",
    "**We also notice two interesting points in the plot which do not fall close to the general trend (an imaginary least squared regression line). They are not quite outliers either. These are neighbourhoods where 45 < TMCI2 < 55 and 25 < TMCI < 35. Let's find out what these neighbourhoods are. "
   ]
  },
  {
   "cell_type": "code",
   "execution_count": 32,
   "metadata": {
    "collapsed": false
   },
   "outputs": [
    {
     "data": {
      "text/html": [
       "<div>\n",
       "<table border=\"1\" class=\"dataframe\">\n",
       "  <thead>\n",
       "    <tr style=\"text-align: right;\">\n",
       "      <th></th>\n",
       "      <th>N</th>\n",
       "      <th>TMCI2</th>\n",
       "    </tr>\n",
       "  </thead>\n",
       "  <tbody>\n",
       "    <tr>\n",
       "      <th>65</th>\n",
       "      <td>Danforth</td>\n",
       "      <td>53.577982</td>\n",
       "    </tr>\n",
       "    <tr>\n",
       "      <th>76</th>\n",
       "      <td>Waterfront Communities-The Island</td>\n",
       "      <td>48.453410</td>\n",
       "    </tr>\n",
       "    <tr>\n",
       "      <th>77</th>\n",
       "      <td>Kensington-Chinatown</td>\n",
       "      <td>52.486834</td>\n",
       "    </tr>\n",
       "  </tbody>\n",
       "</table>\n",
       "</div>"
      ],
      "text/plain": [
       "                                    N      TMCI2\n",
       "65                           Danforth  53.577982\n",
       "76  Waterfront Communities-The Island  48.453410\n",
       "77               Kensington-Chinatown  52.486834"
      ]
     },
     "execution_count": 32,
     "metadata": {},
     "output_type": "execute_result"
    }
   ],
   "source": [
    "#c2_norm[['TMCI2']](c2_norm['TMCI2'] > 45) & (c2_norm['TMCI2'] < 55)\n",
    "c2_norm[['N', 'TMCI2']][(c2_norm['TMCI2'] > 45) & (c2_norm['TMCI2'] < 55)]"
   ]
  },
  {
   "cell_type": "code",
   "execution_count": 33,
   "metadata": {
    "collapsed": false
   },
   "outputs": [
    {
     "data": {
      "text/html": [
       "<div>\n",
       "<table border=\"1\" class=\"dataframe\">\n",
       "  <thead>\n",
       "    <tr style=\"text-align: right;\">\n",
       "      <th></th>\n",
       "      <th>N</th>\n",
       "      <th>TMCI</th>\n",
       "    </tr>\n",
       "  </thead>\n",
       "  <tbody>\n",
       "    <tr>\n",
       "      <th>0</th>\n",
       "      <td>West Humber-Clairville</td>\n",
       "      <td>32.815249</td>\n",
       "    </tr>\n",
       "    <tr>\n",
       "      <th>17</th>\n",
       "      <td>New Toronto</td>\n",
       "      <td>29.436039</td>\n",
       "    </tr>\n",
       "    <tr>\n",
       "      <th>22</th>\n",
       "      <td>Pelmo Park-Humberlea</td>\n",
       "      <td>25.502585</td>\n",
       "    </tr>\n",
       "    <tr>\n",
       "      <th>23</th>\n",
       "      <td>Black Creek</td>\n",
       "      <td>25.929284</td>\n",
       "    </tr>\n",
       "    <tr>\n",
       "      <th>25</th>\n",
       "      <td>Downsview-Roding-CFB</td>\n",
       "      <td>28.311688</td>\n",
       "    </tr>\n",
       "    <tr>\n",
       "      <th>26</th>\n",
       "      <td>York University Heights</td>\n",
       "      <td>27.999278</td>\n",
       "    </tr>\n",
       "    <tr>\n",
       "      <th>64</th>\n",
       "      <td>Greenwood-Coxwell</td>\n",
       "      <td>27.850799</td>\n",
       "    </tr>\n",
       "    <tr>\n",
       "      <th>65</th>\n",
       "      <td>Danforth</td>\n",
       "      <td>27.724868</td>\n",
       "    </tr>\n",
       "    <tr>\n",
       "      <th>67</th>\n",
       "      <td>North Riverdale</td>\n",
       "      <td>32.964330</td>\n",
       "    </tr>\n",
       "    <tr>\n",
       "      <th>68</th>\n",
       "      <td>Blake-Jones</td>\n",
       "      <td>28.461043</td>\n",
       "    </tr>\n",
       "    <tr>\n",
       "      <th>69</th>\n",
       "      <td>South Riverdale</td>\n",
       "      <td>25.741030</td>\n",
       "    </tr>\n",
       "    <tr>\n",
       "      <th>71</th>\n",
       "      <td>Regent Park</td>\n",
       "      <td>25.874126</td>\n",
       "    </tr>\n",
       "    <tr>\n",
       "      <th>76</th>\n",
       "      <td>Waterfront Communities-The Island</td>\n",
       "      <td>32.122680</td>\n",
       "    </tr>\n",
       "    <tr>\n",
       "      <th>82</th>\n",
       "      <td>Dufferin Grove</td>\n",
       "      <td>30.393013</td>\n",
       "    </tr>\n",
       "    <tr>\n",
       "      <th>84</th>\n",
       "      <td>South Parkdale</td>\n",
       "      <td>29.842316</td>\n",
       "    </tr>\n",
       "    <tr>\n",
       "      <th>85</th>\n",
       "      <td>Roncesvalles</td>\n",
       "      <td>25.647841</td>\n",
       "    </tr>\n",
       "    <tr>\n",
       "      <th>109</th>\n",
       "      <td>Keelesdale-Eglinton West</td>\n",
       "      <td>26.597744</td>\n",
       "    </tr>\n",
       "    <tr>\n",
       "      <th>111</th>\n",
       "      <td>Beechborough-Greenbrook</td>\n",
       "      <td>34.206471</td>\n",
       "    </tr>\n",
       "    <tr>\n",
       "      <th>112</th>\n",
       "      <td>Weston</td>\n",
       "      <td>30.489818</td>\n",
       "    </tr>\n",
       "    <tr>\n",
       "      <th>120</th>\n",
       "      <td>Oakridge</td>\n",
       "      <td>27.841540</td>\n",
       "    </tr>\n",
       "    <tr>\n",
       "      <th>123</th>\n",
       "      <td>Kennedy Park</td>\n",
       "      <td>27.038123</td>\n",
       "    </tr>\n",
       "    <tr>\n",
       "      <th>135</th>\n",
       "      <td>West Hill</td>\n",
       "      <td>28.210923</td>\n",
       "    </tr>\n",
       "    <tr>\n",
       "      <th>138</th>\n",
       "      <td>Scarborough Village</td>\n",
       "      <td>28.528438</td>\n",
       "    </tr>\n",
       "  </tbody>\n",
       "</table>\n",
       "</div>"
      ],
      "text/plain": [
       "                                     N       TMCI\n",
       "0               West Humber-Clairville  32.815249\n",
       "17                         New Toronto  29.436039\n",
       "22                Pelmo Park-Humberlea  25.502585\n",
       "23                         Black Creek  25.929284\n",
       "25                Downsview-Roding-CFB  28.311688\n",
       "26             York University Heights  27.999278\n",
       "64                   Greenwood-Coxwell  27.850799\n",
       "65                            Danforth  27.724868\n",
       "67                     North Riverdale  32.964330\n",
       "68                         Blake-Jones  28.461043\n",
       "69                     South Riverdale  25.741030\n",
       "71                         Regent Park  25.874126\n",
       "76   Waterfront Communities-The Island  32.122680\n",
       "82                      Dufferin Grove  30.393013\n",
       "84                      South Parkdale  29.842316\n",
       "85                        Roncesvalles  25.647841\n",
       "109           Keelesdale-Eglinton West  26.597744\n",
       "111            Beechborough-Greenbrook  34.206471\n",
       "112                             Weston  30.489818\n",
       "120                           Oakridge  27.841540\n",
       "123                       Kennedy Park  27.038123\n",
       "135                          West Hill  28.210923\n",
       "138                Scarborough Village  28.528438"
      ]
     },
     "execution_count": 33,
     "metadata": {},
     "output_type": "execute_result"
    }
   ],
   "source": [
    "c_norm[['N','TMCI']][(c_norm['TMCI'] > 25) & (c_norm['TMCI'] < 35)]"
   ]
  },
  {
   "cell_type": "markdown",
   "metadata": {},
   "source": [
    "**We see that the two neighbourhoods falling outside the general trend are #65, Danforth, and #76, Waterfront Communities. We have already discussed how Danforth, despite being a crime prone neighbourhood had a drop in 2011. Likewise, Waterfront Communities seems to have a drop in crime, although the reasons are unclear.**"
   ]
  },
  {
   "cell_type": "markdown",
   "metadata": {},
   "source": [
    "**We could also plot the total major crimes for both years as box plots.**"
   ]
  },
  {
   "cell_type": "code",
   "execution_count": 34,
   "metadata": {
    "collapsed": false
   },
   "outputs": [
    {
     "data": {
      "text/plain": [
       "<matplotlib.axes._subplots.AxesSubplot at 0x1131bcf10>"
      ]
     },
     "execution_count": 34,
     "metadata": {},
     "output_type": "execute_result"
    },
    {
     "data": {
      "image/png": "[encoded data removed]",
      "text/plain": [
       "<matplotlib.figure.Figure at 0x113182990>"
      ]
     },
     "metadata": {},
     "output_type": "display_data"
    }
   ],
   "source": [
    "# First let's create a new dataframe with just the Total crime data for both years.\n",
    "c_new = c_norm.loc[:,['TMCI']]\n",
    "c_new.loc[:,'TMCI2'] = c2_norm.loc[:,['TMCI2']]\n",
    "\n",
    "# Now show a box plot comparing both years\n",
    "plt.figure(figsize=(10,6)) # This allows us to set the width and height of the box plot\n",
    "plt.ylim(0,40) # This allows us to limit the range of the y-axis. This is helpful because we have a lot of outliers.\n",
    "plt.xlabel('Total Major Crime Incidents/1000')\n",
    "plt.title('Box plots comparing Total Major Crime Incidents for 2011 and 2008')\n",
    "sns.boxplot(data=c_new)"
   ]
  },
  {
   "cell_type": "markdown",
   "metadata": {
    "collapsed": true
   },
   "source": [
    "**The box plots looks approximately the same. 2008 has a slightly lower median.**\n",
    "**We can also use a violin plot instead of a box plot**"
   ]
  },
  {
   "cell_type": "code",
   "execution_count": 35,
   "metadata": {
    "collapsed": false
   },
   "outputs": [
    {
     "data": {
      "text/plain": [
       "<matplotlib.axes._subplots.AxesSubplot at 0x1131e7f50>"
      ]
     },
     "execution_count": 35,
     "metadata": {},
     "output_type": "execute_result"
    },
    {
     "data": {
      "image/png": "[encoded data removed]",
      "text/plain": [
       "<matplotlib.figure.Figure at 0x112acaa50>"
      ]
     },
     "metadata": {},
     "output_type": "display_data"
    }
   ],
   "source": [
    "# Now show a violinplot comparing both years\n",
    "plt.figure(figsize=(10,6)) # This allows us to set the width and height of the box plot\n",
    "plt.ylim(0,60) # This allows us to limit the range of the y-axis. This is helpful because we have a lot of outliers.\n",
    "plt.xlabel('Total Major Crime Incidents/1000')\n",
    "plt.title('Violin plots comparing Total Major Crime Incidents for 2011 and 2008')\n",
    "sns.violinplot(data=c_new)"
   ]
  },
  {
   "cell_type": "markdown",
   "metadata": {},
   "source": [
    "**Violin plots can show more information than box plots when the data has a bimodal distribution. In this case, we don't see that. So, the violin plots do not reveal anything beyond what the box plots already show.**"
   ]
  },
  {
   "cell_type": "markdown",
   "metadata": {},
   "source": [
    "**What is the neighbourhood with the most change in total major crimes from 2008 to 2011?**"
   ]
  },
  {
   "cell_type": "code",
   "execution_count": 36,
   "metadata": {
    "collapsed": false
   },
   "outputs": [],
   "source": [
    "# Calculate the difference in total major crimes between 2008 and 2011 as a percentage rate of increase or decrease, and store it as a column\n",
    "# A positive value indicates that the number of major crimes have increased per capita from 2008 to 2011.\n",
    "# A negative value indicates that the number of major crimes have decreased per capitat from 2008 to 2011.\n",
    "c_norm.loc[:,'TCDiff'] = ((c_new['TMCI'] - c_new['TMCI2'])/c_new['TMCI2'])*100"
   ]
  },
  {
   "cell_type": "code",
   "execution_count": 37,
   "metadata": {
    "collapsed": false
   },
   "outputs": [
    {
     "data": {
      "text/html": [
       "<div>\n",
       "<table border=\"1\" class=\"dataframe\">\n",
       "  <thead>\n",
       "    <tr style=\"text-align: right;\">\n",
       "      <th></th>\n",
       "      <th>N</th>\n",
       "      <th>TCDiff</th>\n",
       "    </tr>\n",
       "  </thead>\n",
       "  <tbody>\n",
       "    <tr>\n",
       "      <th>133</th>\n",
       "      <td>Highland Creek</td>\n",
       "      <td>57.341559</td>\n",
       "    </tr>\n",
       "    <tr>\n",
       "      <th>38</th>\n",
       "      <td>Bedford Park-Nortown</td>\n",
       "      <td>63.680435</td>\n",
       "    </tr>\n",
       "    <tr>\n",
       "      <th>9</th>\n",
       "      <td>Princess-Rosethorn</td>\n",
       "      <td>65.275058</td>\n",
       "    </tr>\n",
       "    <tr>\n",
       "      <th>134</th>\n",
       "      <td>Morningside</td>\n",
       "      <td>76.682444</td>\n",
       "    </tr>\n",
       "    <tr>\n",
       "      <th>49</th>\n",
       "      <td>Newtonbrook East</td>\n",
       "      <td>79.724978</td>\n",
       "    </tr>\n",
       "  </tbody>\n",
       "</table>\n",
       "</div>"
      ],
      "text/plain": [
       "                        N     TCDiff\n",
       "133        Highland Creek  57.341559\n",
       "38   Bedford Park-Nortown  63.680435\n",
       "9      Princess-Rosethorn  65.275058\n",
       "134           Morningside  76.682444\n",
       "49       Newtonbrook East  79.724978"
      ]
     },
     "execution_count": 37,
     "metadata": {},
     "output_type": "execute_result"
    }
   ],
   "source": [
    "# What are the top five neighbourhoods with maximum percent increase in total major crimes?\n",
    "t5TCDiff = c_norm.sort_values(['TCDiff']).tail(5)\n",
    "t5TCDiff[['N','TCDiff']]"
   ]
  },
  {
   "cell_type": "code",
   "execution_count": 38,
   "metadata": {
    "collapsed": false
   },
   "outputs": [
    {
     "data": {
      "text/html": [
       "<div>\n",
       "<table border=\"1\" class=\"dataframe\">\n",
       "  <thead>\n",
       "    <tr style=\"text-align: right;\">\n",
       "      <th></th>\n",
       "      <th>N</th>\n",
       "      <th>TCDiff</th>\n",
       "    </tr>\n",
       "  </thead>\n",
       "  <tbody>\n",
       "    <tr>\n",
       "      <th>65</th>\n",
       "      <td>Danforth</td>\n",
       "      <td>-48.253243</td>\n",
       "    </tr>\n",
       "    <tr>\n",
       "      <th>78</th>\n",
       "      <td>University</td>\n",
       "      <td>-46.577419</td>\n",
       "    </tr>\n",
       "    <tr>\n",
       "      <th>95</th>\n",
       "      <td>Casa Loma</td>\n",
       "      <td>-44.713227</td>\n",
       "    </tr>\n",
       "    <tr>\n",
       "      <th>100</th>\n",
       "      <td>Forest Hill South</td>\n",
       "      <td>-38.321479</td>\n",
       "    </tr>\n",
       "    <tr>\n",
       "      <th>76</th>\n",
       "      <td>Waterfront Communities-The Island</td>\n",
       "      <td>-33.703986</td>\n",
       "    </tr>\n",
       "  </tbody>\n",
       "</table>\n",
       "</div>"
      ],
      "text/plain": [
       "                                     N     TCDiff\n",
       "65                            Danforth -48.253243\n",
       "78                          University -46.577419\n",
       "95                           Casa Loma -44.713227\n",
       "100                  Forest Hill South -38.321479\n",
       "76   Waterfront Communities-The Island -33.703986"
      ]
     },
     "execution_count": 38,
     "metadata": {},
     "output_type": "execute_result"
    }
   ],
   "source": [
    "# What are the top five neighbourhoods with maximum decrease in total major crimes?\n",
    "b5TCDiff = c_norm.sort_values(['TCDiff']).head(5)\n",
    "b5TCDiff[['N','TCDiff']]"
   ]
  },
  {
   "cell_type": "markdown",
   "metadata": {},
   "source": [
    "**How do these neighbourhoods with most increase and decrease in total major crime compare against some of the top and bottom crime neighbourhoods for 2011?**\n",
    "\n",
    "**Well, we've already seen that Danforth, generally a high crime-prone neighbourhood, had a decrease in crime in 2011, as reflected in the 48.5% decrease from 2008 to 2011. We also noticed the decrease in crime for Waterfront Communities in the bivariate scatter plot earlier. The data reveals a 33.7% decrease from 2008.**"
   ]
  },
  {
   "cell_type": "markdown",
   "metadata": {},
   "source": [
    "**What is the difference in these neighbourhoods as regards median household income and education? Which is the most prominent age group of people? Does this in any way affect crime?**"
   ]
  },
  {
   "cell_type": "code",
   "execution_count": 39,
   "metadata": {
    "collapsed": false
   },
   "outputs": [
    {
     "data": {
      "text/plain": [
       "Index([u'N', u'NId', u'Total Area', u'TPop', u'Pop - Males', u'Pop - Females',\n",
       "       u'Pop 0 - 4 years', u'Pop 5 - 9 years', u'Pop 10 - 14 years',\n",
       "       u'Pop 15 -19 years', u'Pop 20 - 24 years', u'Pop  25 - 29 years',\n",
       "       u'Pop 30 - 34 years', u'Pop 35 - 39 years', u'Pop 40 - 44 years',\n",
       "       u'Pop 45 - 49 years', u'Pop 50 - 54 years', u'Pop 55 - 59 years',\n",
       "       u'Pop 60 - 64 years', u'Pop 65 - 69 years', u'Pop 70 - 74 years',\n",
       "       u'Pop 75 - 79 years', u'Pop 80 - 84 years', u'Pop 85 years and over',\n",
       "       u'Seniors 55 and over', u'Seniors 65 and over', u'Child 0-14',\n",
       "       u'Youth 15-24', u'Home Language Category', u'   Language - Chinese',\n",
       "       u'   Language - Italian', u'   Language - Korean',\n",
       "       u'   Language - Persian (Farsi)', u'   Language - Portuguese',\n",
       "       u'   Language - Russian', u'   Language - Spanish',\n",
       "       u'   Language - Tagalog', u'   Language - Tamil',\n",
       "       u'   Language - Urdu'],\n",
       "      dtype='object')"
      ]
     },
     "execution_count": 39,
     "metadata": {},
     "output_type": "execute_result"
    }
   ],
   "source": [
    "# Let's examine the 2011 demographics data again\n",
    "d.columns\n",
    "#d.head()"
   ]
  },
  {
   "cell_type": "markdown",
   "metadata": {},
   "source": [
    "**We can focus only on four different age groups - Children 0-14, Youth 15-24, Adults 25-54, and Seniors 55 and over. Most of these categories are already available as columns in the 2011 dataset, except Adults 25-54. We can compute this by subtracting the sum of the remaining three age groups from the total population for each neighbourhood.**"
   ]
  },
  {
   "cell_type": "code",
   "execution_count": 40,
   "metadata": {
    "collapsed": false
   },
   "outputs": [
    {
     "name": "stderr",
     "output_type": "stream",
     "text": [
      "/Users/smartlab/anaconda2/lib/python2.7/site-packages/pandas/core/indexing.py:426: SettingWithCopyWarning: \n",
      "A value is trying to be set on a copy of a slice from a DataFrame.\n",
      "Try using .loc[row_indexer,col_indexer] = value instead\n",
      "\n",
      "See the caveats in the documentation: http://pandas.pydata.org/pandas-docs/stable/indexing.html#indexing-view-versus-copy\n",
      "  self.obj[item] = s\n"
     ]
    },
    {
     "data": {
      "text/html": [
       "<div>\n",
       "<table border=\"1\" class=\"dataframe\">\n",
       "  <thead>\n",
       "    <tr style=\"text-align: right;\">\n",
       "      <th></th>\n",
       "      <th>N</th>\n",
       "      <th>NId</th>\n",
       "      <th>TPop</th>\n",
       "      <th>PM</th>\n",
       "      <th>PF</th>\n",
       "      <th>C</th>\n",
       "      <th>Y</th>\n",
       "      <th>A</th>\n",
       "      <th>S</th>\n",
       "    </tr>\n",
       "  </thead>\n",
       "  <tbody>\n",
       "    <tr>\n",
       "      <th>135</th>\n",
       "      <td>West Hill</td>\n",
       "      <td>136</td>\n",
       "      <td>26550</td>\n",
       "      <td>47.306968</td>\n",
       "      <td>52.730697</td>\n",
       "      <td>18.644068</td>\n",
       "      <td>14.802260</td>\n",
       "      <td>40.470810</td>\n",
       "      <td>26.082863</td>\n",
       "    </tr>\n",
       "    <tr>\n",
       "      <th>136</th>\n",
       "      <td>Woburn</td>\n",
       "      <td>137</td>\n",
       "      <td>53350</td>\n",
       "      <td>48.744142</td>\n",
       "      <td>51.227741</td>\n",
       "      <td>19.297095</td>\n",
       "      <td>14.217432</td>\n",
       "      <td>42.764761</td>\n",
       "      <td>23.720712</td>\n",
       "    </tr>\n",
       "    <tr>\n",
       "      <th>137</th>\n",
       "      <td>Eglinton East</td>\n",
       "      <td>138</td>\n",
       "      <td>22830</td>\n",
       "      <td>46.342532</td>\n",
       "      <td>53.613666</td>\n",
       "      <td>19.864214</td>\n",
       "      <td>13.491021</td>\n",
       "      <td>41.699518</td>\n",
       "      <td>24.945247</td>\n",
       "    </tr>\n",
       "    <tr>\n",
       "      <th>138</th>\n",
       "      <td>Scarborough Village</td>\n",
       "      <td>139</td>\n",
       "      <td>16615</td>\n",
       "      <td>47.095998</td>\n",
       "      <td>52.904002</td>\n",
       "      <td>20.975023</td>\n",
       "      <td>14.715618</td>\n",
       "      <td>40.926873</td>\n",
       "      <td>23.382486</td>\n",
       "    </tr>\n",
       "    <tr>\n",
       "      <th>139</th>\n",
       "      <td>Guildwood</td>\n",
       "      <td>140</td>\n",
       "      <td>9815</td>\n",
       "      <td>46.357616</td>\n",
       "      <td>53.693327</td>\n",
       "      <td>13.092206</td>\n",
       "      <td>10.952624</td>\n",
       "      <td>36.016302</td>\n",
       "      <td>39.938869</td>\n",
       "    </tr>\n",
       "  </tbody>\n",
       "</table>\n",
       "</div>"
      ],
      "text/plain": [
       "                       N  NId   TPop         PM         PF          C  \\\n",
       "135            West Hill  136  26550  47.306968  52.730697  18.644068   \n",
       "136               Woburn  137  53350  48.744142  51.227741  19.297095   \n",
       "137        Eglinton East  138  22830  46.342532  53.613666  19.864214   \n",
       "138  Scarborough Village  139  16615  47.095998  52.904002  20.975023   \n",
       "139            Guildwood  140   9815  46.357616  53.693327  13.092206   \n",
       "\n",
       "             Y          A          S  \n",
       "135  14.802260  40.470810  26.082863  \n",
       "136  14.217432  42.764761  23.720712  \n",
       "137  13.491021  41.699518  24.945247  \n",
       "138  14.715618  40.926873  23.382486  \n",
       "139  10.952624  36.016302  39.938869  "
      ]
     },
     "execution_count": 40,
     "metadata": {},
     "output_type": "execute_result"
    }
   ],
   "source": [
    "# 2011\n",
    "# First we rename the column titles we are interested in to simpler ones\n",
    "d.rename(columns={'Pop - Males':'PM','Pop - Females':'PF',\n",
    "       'Seniors 55 and over':'S', 'Child 0-14':'C','Youth 15-24':'Y'}, inplace=True)\n",
    "\n",
    "# Calculate the Adult age group - 25-54 years\n",
    "d['A'] = d['TPop'] - d['C'] - d['Y'] - d['S']\n",
    "\n",
    "# Now select only the columns of interest as a new dataframe\n",
    "d_pop = d[['N','NId','TPop','PM','PF','C','Y','A','S']]\n",
    "\n",
    "# To make these numbers more readable, we can convert them into percentages of the total population\n",
    "d_pop.iloc[:,3:] = d_pop.iloc[:,3:].div(d['TPop'], axis=0) * 100\n",
    "\n",
    "d_pop.tail()"
   ]
  },
  {
   "cell_type": "code",
   "execution_count": 41,
   "metadata": {
    "collapsed": false
   },
   "outputs": [
    {
     "data": {
      "text/plain": [
       "Index([u'N', u'NId', u'Total Area', u'TPop2', u'Pop - Males', u'Pop - Females',\n",
       "       u'Pop 0 - 4 years', u'Pop 5 - 9 years', u'Pop 10 - 14 years',\n",
       "       u'Pop 15 -19 years', u'Pop 20 - 24 years', u'Pop  25 - 29 years',\n",
       "       u'Pop 30 - 34 years', u'Pop 35 - 39 years', u'Pop 40 - 44 years',\n",
       "       u'Pop 45 - 49 years', u'Pop 50 - 54 years', u'Pop 55 - 59 years',\n",
       "       u'Pop 60 - 64 years', u'Pop 65 - 69 years', u'Pop 70 - 74 years',\n",
       "       u'Pop 75 - 79 years', u'Pop 80 - 84 years', u'Pop 85 years and over',\n",
       "       u'Pop 6-12 years', u'Visible Minority Category', u'   Chinese',\n",
       "       u'   South Asian', u'   Black', u'   Filipino', u'   Latin American',\n",
       "       u'   Southeast Asian', u'   Arab', u'   West Asian', u'   Korean',\n",
       "       u'   Japanese', u'   Other Visible Minority',\n",
       "       u'   Multiple Visible Minority', u'   Not a Visible Minority',\n",
       "       u'Aboriginal', u'Home Language Category', u'   Language - Chinese',\n",
       "       u'   Language - Italian', u'   Language - Korean',\n",
       "       u'   Language - Persian (Farsi)', u'   Language - Portuguese',\n",
       "       u'   Language - Russian', u'   Language - Spanish',\n",
       "       u'   Language - Tagalog', u'   Language - Tamil', u'   Language - Urdu',\n",
       "       u'Mobility Category', u'   Non-Movers', u'   Movers',\n",
       "       u'Recent Immigrants Category', u'Recent Immigrants',\n",
       "       u'   Southern Asia', u'   South East Asia', u'   Eastern Asia',\n",
       "       u'   West Asia/Middle East', u'   Africa', u'   Europe',\n",
       "       u'   Caribbean/Central/S. America', u'Labour Force Category',\n",
       "       u'   In Labour Force', u'   Unemployed', u'   Not in Labour Force',\n",
       "       u'Less than grade 9', u'With College Certificate/Diploma',\n",
       "       u'With Bachelor Degree or Higher', u'Seniors Living Alone',\n",
       "       u'Total Tenants', u'High Shelter Costs', u'Owned Dwellings',\n",
       "       u'Rented Dwellings', u'Home Repairs Needed', u'Tenant Average Rent',\n",
       "       u'Low Income Families', u'Low Income Singles', u'Low Income Children',\n",
       "       u'Family Income Category', u'   Average Family Income',\n",
       "       u'Household Income Category', u'   Pre-Tax Household Income',\n",
       "       u'   After-Tax Household Income'],\n",
       "      dtype='object')"
      ]
     },
     "execution_count": 41,
     "metadata": {},
     "output_type": "execute_result"
    }
   ],
   "source": [
    "# Now let's examine the 2008 demographics data again\n",
    "d2.columns"
   ]
  },
  {
   "cell_type": "markdown",
   "metadata": {},
   "source": [
    "**We will again focus only on the four different age groups - Children 0-14, Youth 15-24, Adults 25-54, and Seniors 55 and over. Unlike the 2011 dataset, none of these categories are available as columns in the 2008 dataset. So, we need to compute values for each of these age groups.**"
   ]
  },
  {
   "cell_type": "code",
   "execution_count": 42,
   "metadata": {
    "collapsed": false
   },
   "outputs": [
    {
     "data": {
      "text/html": [
       "<div>\n",
       "<table border=\"1\" class=\"dataframe\">\n",
       "  <thead>\n",
       "    <tr style=\"text-align: right;\">\n",
       "      <th></th>\n",
       "      <th>N</th>\n",
       "      <th>NId</th>\n",
       "      <th>TPop2</th>\n",
       "      <th>PM2</th>\n",
       "      <th>PF2</th>\n",
       "      <th>C2</th>\n",
       "      <th>Y2</th>\n",
       "      <th>A2</th>\n",
       "      <th>S2</th>\n",
       "    </tr>\n",
       "  </thead>\n",
       "  <tbody>\n",
       "    <tr>\n",
       "      <th>135</th>\n",
       "      <td>West Hill</td>\n",
       "      <td>136</td>\n",
       "      <td>25635</td>\n",
       "      <td>47.025551</td>\n",
       "      <td>52.974449</td>\n",
       "      <td>19.797152</td>\n",
       "      <td>14.238346</td>\n",
       "      <td>41.544763</td>\n",
       "      <td>24.244197</td>\n",
       "    </tr>\n",
       "    <tr>\n",
       "      <th>136</th>\n",
       "      <td>Woburn</td>\n",
       "      <td>137</td>\n",
       "      <td>40845</td>\n",
       "      <td>62.565798</td>\n",
       "      <td>65.870976</td>\n",
       "      <td>21.153140</td>\n",
       "      <td>12.841229</td>\n",
       "      <td>42.098176</td>\n",
       "      <td>23.821765</td>\n",
       "    </tr>\n",
       "    <tr>\n",
       "      <th>137</th>\n",
       "      <td>Eglinton East</td>\n",
       "      <td>138</td>\n",
       "      <td>22385</td>\n",
       "      <td>46.593701</td>\n",
       "      <td>53.428635</td>\n",
       "      <td>21.353585</td>\n",
       "      <td>13.602859</td>\n",
       "      <td>42.841188</td>\n",
       "      <td>22.224704</td>\n",
       "    </tr>\n",
       "    <tr>\n",
       "      <th>138</th>\n",
       "      <td>Scarborough Village</td>\n",
       "      <td>139</td>\n",
       "      <td>15585</td>\n",
       "      <td>47.449471</td>\n",
       "      <td>52.550529</td>\n",
       "      <td>22.264998</td>\n",
       "      <td>14.084055</td>\n",
       "      <td>40.968880</td>\n",
       "      <td>22.842477</td>\n",
       "    </tr>\n",
       "    <tr>\n",
       "      <th>139</th>\n",
       "      <td>Guildwood</td>\n",
       "      <td>140</td>\n",
       "      <td>10025</td>\n",
       "      <td>46.234414</td>\n",
       "      <td>53.715711</td>\n",
       "      <td>14.862843</td>\n",
       "      <td>11.172070</td>\n",
       "      <td>38.004988</td>\n",
       "      <td>36.259352</td>\n",
       "    </tr>\n",
       "  </tbody>\n",
       "</table>\n",
       "</div>"
      ],
      "text/plain": [
       "                       N  NId  TPop2        PM2        PF2         C2  \\\n",
       "135            West Hill  136  25635  47.025551  52.974449  19.797152   \n",
       "136               Woburn  137  40845  62.565798  65.870976  21.153140   \n",
       "137        Eglinton East  138  22385  46.593701  53.428635  21.353585   \n",
       "138  Scarborough Village  139  15585  47.449471  52.550529  22.264998   \n",
       "139            Guildwood  140  10025  46.234414  53.715711  14.862843   \n",
       "\n",
       "            Y2         A2         S2  \n",
       "135  14.238346  41.544763  24.244197  \n",
       "136  12.841229  42.098176  23.821765  \n",
       "137  13.602859  42.841188  22.224704  \n",
       "138  14.084055  40.968880  22.842477  \n",
       "139  11.172070  38.004988  36.259352  "
      ]
     },
     "execution_count": 42,
     "metadata": {},
     "output_type": "execute_result"
    }
   ],
   "source": [
    "# 2008\n",
    "# First we rename the column titles we are interested in to simpler ones\n",
    "d2.rename(columns={'Pop - Males':'PM2','Pop - Females':'PF2',\n",
    "        'Pop 0 - 4 years':'Pop4','Pop 5 - 9 years':'Pop9','Pop 10 - 14 years':'Pop14',\n",
    "        'Pop 15 -19 years':'Pop19','Pop 20 - 24 years':'Pop24','Pop  25 - 29 years':'Pop29',\n",
    "        'Pop 30 - 34 years':'Pop34','Pop 35 - 39 years':'Pop39','Pop 40 - 44 years':'Pop44',\n",
    "        'Pop 45 - 49 years':'Pop49','Pop 50 - 54 years':'Pop54','Pop 55 - 59 years':'Pop59',\n",
    "        'Pop 60 - 64 years':'Pop64','Pop 65 - 69 years':'Pop69','Pop 70 - 74 years':'Pop74',\n",
    "        'Pop 75 - 79 years':'Pop79','Pop 80 - 84 years':'Pop84','Pop 85 years and over':'Pop85plus',\n",
    "        'Pop 6-12 years':'Pop12'}, inplace=True)\n",
    "\n",
    "# Calculate the Child age group - 0-14 years\n",
    "d2['C2'] = d2['Pop4'] + d2['Pop9'] + d2['Pop14']\n",
    "\n",
    "# Calculate the Youth age group - 15-24 years\n",
    "d2['Y2'] = d2['Pop19'] + d2['Pop24']\n",
    "\n",
    "# Calculate the Adult age group - 25-54 years\n",
    "d2['A2'] = d2['Pop29'] + d2['Pop34'] + d2['Pop39'] + d2['Pop44'] + d2['Pop49'] + d2['Pop54']\n",
    "\n",
    "# Calculate the Senior age group - 55 years and over\n",
    "d2['S2'] = d2['Pop59'] + d2['Pop64'] + d2['Pop69'] + d2['Pop74'] + d2['Pop79'] + d2['Pop84'] + d2['Pop85plus']\n",
    "\n",
    "# Now select only the columns of interest as a new dataframe\n",
    "d2_pop = d2[['N','NId','TPop2','PM2','PF2','C2','Y2','A2','S2']]\n",
    "\n",
    "# To make these numbers more readable, we can convert them into percentages of the total population\n",
    "d2_pop.iloc[:,3:] = d2_pop.iloc[:,3:].div(d2['TPop2'], axis=0) * 100\n",
    "\n",
    "d2_pop.tail()"
   ]
  },
  {
   "cell_type": "markdown",
   "metadata": {
    "collapsed": true
   },
   "source": [
    "**1. Look at how to get median household income for both 2011 and 2008.**"
   ]
  },
  {
   "cell_type": "markdown",
   "metadata": {
    "collapsed": true
   },
   "source": [
    "**Although we have income data available for 2008, we do not have that for 2011 in the demographics datasets. So, an alternative is to use Economics datasets available from the Open Data portal for 2008 and 2011. While these datasets do not contain income data, they have other important variables such as number of people employed, and number of people on social assistance, which we could use.**"
   ]
  },
  {
   "cell_type": "code",
   "execution_count": 43,
   "metadata": {
    "collapsed": true
   },
   "outputs": [],
   "source": [
    "# Read in the data for both years\n",
    "e = pd.read_csv('TorontoEconomics2011.csv')\n",
    "e2 = pd.read_csv('TorontoEconomics2008.csv')"
   ]
  },
  {
   "cell_type": "code",
   "execution_count": 44,
   "metadata": {
    "collapsed": false
   },
   "outputs": [
    {
     "data": {
      "text/html": [
       "<div>\n",
       "<table border=\"1\" class=\"dataframe\">\n",
       "  <thead>\n",
       "    <tr style=\"text-align: right;\">\n",
       "      <th></th>\n",
       "      <th>Neighbourhood</th>\n",
       "      <th>Neighbourhood Id</th>\n",
       "      <th>Businesses</th>\n",
       "      <th>Child Care Spaces</th>\n",
       "      <th>Debt Risk Score</th>\n",
       "      <th>Home Prices</th>\n",
       "      <th>Local Employment</th>\n",
       "      <th>Social Assistance Recipients</th>\n",
       "    </tr>\n",
       "  </thead>\n",
       "  <tbody>\n",
       "    <tr>\n",
       "      <th>135</th>\n",
       "      <td>West Hill</td>\n",
       "      <td>136</td>\n",
       "      <td>424</td>\n",
       "      <td>153</td>\n",
       "      <td>706</td>\n",
       "      <td>308229</td>\n",
       "      <td>4500</td>\n",
       "      <td>4974</td>\n",
       "    </tr>\n",
       "    <tr>\n",
       "      <th>136</th>\n",
       "      <td>Woburn</td>\n",
       "      <td>137</td>\n",
       "      <td>1073</td>\n",
       "      <td>214</td>\n",
       "      <td>723</td>\n",
       "      <td>316584</td>\n",
       "      <td>16190</td>\n",
       "      <td>6747</td>\n",
       "    </tr>\n",
       "    <tr>\n",
       "      <th>137</th>\n",
       "      <td>Eglinton East</td>\n",
       "      <td>138</td>\n",
       "      <td>296</td>\n",
       "      <td>143</td>\n",
       "      <td>705</td>\n",
       "      <td>274020</td>\n",
       "      <td>2351</td>\n",
       "      <td>4171</td>\n",
       "    </tr>\n",
       "    <tr>\n",
       "      <th>138</th>\n",
       "      <td>Scarborough Village</td>\n",
       "      <td>139</td>\n",
       "      <td>228</td>\n",
       "      <td>217</td>\n",
       "      <td>699</td>\n",
       "      <td>356096</td>\n",
       "      <td>1851</td>\n",
       "      <td>4133</td>\n",
       "    </tr>\n",
       "    <tr>\n",
       "      <th>139</th>\n",
       "      <td>Guildwood</td>\n",
       "      <td>140</td>\n",
       "      <td>67</td>\n",
       "      <td>171</td>\n",
       "      <td>774</td>\n",
       "      <td>444309</td>\n",
       "      <td>924</td>\n",
       "      <td>309</td>\n",
       "    </tr>\n",
       "  </tbody>\n",
       "</table>\n",
       "</div>"
      ],
      "text/plain": [
       "           Neighbourhood  Neighbourhood Id  Businesses  Child Care Spaces  \\\n",
       "135            West Hill               136         424                153   \n",
       "136               Woburn               137        1073                214   \n",
       "137        Eglinton East               138         296                143   \n",
       "138  Scarborough Village               139         228                217   \n",
       "139            Guildwood               140          67                171   \n",
       "\n",
       "     Debt Risk Score  Home Prices  Local Employment  \\\n",
       "135              706       308229              4500   \n",
       "136              723       316584             16190   \n",
       "137              705       274020              2351   \n",
       "138              699       356096              1851   \n",
       "139              774       444309               924   \n",
       "\n",
       "     Social Assistance Recipients  \n",
       "135                          4974  \n",
       "136                          6747  \n",
       "137                          4171  \n",
       "138                          4133  \n",
       "139                           309  "
      ]
     },
     "execution_count": 44,
     "metadata": {},
     "output_type": "execute_result"
    }
   ],
   "source": [
    "e.tail() # Take a look at the 2011 economics data"
   ]
  },
  {
   "cell_type": "code",
   "execution_count": 45,
   "metadata": {
    "collapsed": false
   },
   "outputs": [
    {
     "data": {
      "text/html": [
       "<div>\n",
       "<table border=\"1\" class=\"dataframe\">\n",
       "  <thead>\n",
       "    <tr style=\"text-align: right;\">\n",
       "      <th></th>\n",
       "      <th>Neighbourhood</th>\n",
       "      <th>Neighbourhood Id</th>\n",
       "      <th>Access to Child Care</th>\n",
       "      <th>Business Licensing</th>\n",
       "      <th>Businesses</th>\n",
       "      <th>Child Care Spaces</th>\n",
       "      <th>Inequality (Gini coeff.)</th>\n",
       "      <th>Local Employment</th>\n",
       "      <th>Social Assistance Recipients</th>\n",
       "    </tr>\n",
       "  </thead>\n",
       "  <tbody>\n",
       "    <tr>\n",
       "      <th>135</th>\n",
       "      <td>West Hill</td>\n",
       "      <td>136</td>\n",
       "      <td>0.490647</td>\n",
       "      <td>225</td>\n",
       "      <td>439</td>\n",
       "      <td>134.00000</td>\n",
       "      <td>0.435829</td>\n",
       "      <td>4551</td>\n",
       "      <td>4448</td>\n",
       "    </tr>\n",
       "    <tr>\n",
       "      <th>136</th>\n",
       "      <td>Woburn</td>\n",
       "      <td>137</td>\n",
       "      <td>0.214933</td>\n",
       "      <td>333</td>\n",
       "      <td>1020</td>\n",
       "      <td>210.00000</td>\n",
       "      <td>0.414480</td>\n",
       "      <td>14374</td>\n",
       "      <td>6647</td>\n",
       "    </tr>\n",
       "    <tr>\n",
       "      <th>137</th>\n",
       "      <td>Eglinton East</td>\n",
       "      <td>138</td>\n",
       "      <td>0.268571</td>\n",
       "      <td>130</td>\n",
       "      <td>313</td>\n",
       "      <td>153.00000</td>\n",
       "      <td>0.399830</td>\n",
       "      <td>2440</td>\n",
       "      <td>4405</td>\n",
       "    </tr>\n",
       "    <tr>\n",
       "      <th>138</th>\n",
       "      <td>Scarborough Village</td>\n",
       "      <td>139</td>\n",
       "      <td>0.350667</td>\n",
       "      <td>127</td>\n",
       "      <td>220</td>\n",
       "      <td>220.00000</td>\n",
       "      <td>0.432119</td>\n",
       "      <td>1926</td>\n",
       "      <td>3981</td>\n",
       "    </tr>\n",
       "    <tr>\n",
       "      <th>139</th>\n",
       "      <td>Guildwood</td>\n",
       "      <td>140</td>\n",
       "      <td>41.000000</td>\n",
       "      <td>66</td>\n",
       "      <td>145</td>\n",
       "      <td>0.34834</td>\n",
       "      <td>792.000000</td>\n",
       "      <td>300</td>\n",
       "      <td>NaN</td>\n",
       "    </tr>\n",
       "  </tbody>\n",
       "</table>\n",
       "</div>"
      ],
      "text/plain": [
       "           Neighbourhood  Neighbourhood Id  Access to Child Care  \\\n",
       "135            West Hill               136              0.490647   \n",
       "136               Woburn               137              0.214933   \n",
       "137        Eglinton East               138              0.268571   \n",
       "138  Scarborough Village               139              0.350667   \n",
       "139            Guildwood               140             41.000000   \n",
       "\n",
       "     Business Licensing  Businesses  Child Care Spaces  \\\n",
       "135                 225         439          134.00000   \n",
       "136                 333        1020          210.00000   \n",
       "137                 130         313          153.00000   \n",
       "138                 127         220          220.00000   \n",
       "139                  66         145            0.34834   \n",
       "\n",
       "     Inequality (Gini coeff.)  Local Employment  Social Assistance Recipients  \n",
       "135                  0.435829              4551                          4448  \n",
       "136                  0.414480             14374                          6647  \n",
       "137                  0.399830              2440                          4405  \n",
       "138                  0.432119              1926                          3981  \n",
       "139                792.000000               300                           NaN  "
      ]
     },
     "execution_count": 45,
     "metadata": {},
     "output_type": "execute_result"
    }
   ],
   "source": [
    "e2.tail() # Take a look at the 2008 economics data"
   ]
  },
  {
   "cell_type": "markdown",
   "metadata": {},
   "source": [
    "**We are only looking at the Business, Local Employment, and Social Assistance Recipients columns from both years**"
   ]
  },
  {
   "cell_type": "code",
   "execution_count": 46,
   "metadata": {
    "collapsed": false
   },
   "outputs": [],
   "source": [
    "# Rename columns in both years to simpler ones\n",
    "#2011\n",
    "e.rename(columns={'Neighbourhood':'N','Neighbourhood Id':'NId','Businesses':'Bus',\n",
    "                 'Local Employment':'Emp','Social Assistance Recipients':'SAR'},inplace=True)\n",
    "#2008\n",
    "e2.rename(columns={'Neighbourhood':'N','Neighbourhood Id':'NId','Businesses':'Bus2',\n",
    "                 'Local Employment':'Emp2','Social Assistance Recipients':'SAR2'},inplace=True)\n",
    "\n",
    "# Select only the columns we are interested in from both years\n",
    "e_sel = e[['N','NId','Bus','Emp','SAR']] #2011\n",
    "e2_sel = e2[['N','NId','Bus2','Emp2','SAR2']] #2008\n",
    "\n",
    "# Now convert the employment and social assistance recipients into percentages of total population.\n",
    "# Also convert number of businesses into businesses per 100 people\n",
    "e_sel.iloc[:,2:] = e_sel.iloc[:,2:].div(d['TPop'], axis=0) * 100\n",
    "\n",
    "e2_sel.iloc[:,2:] = e2_sel.iloc[:,2:].div(d2['TPop2'], axis=0) * 100\n"
   ]
  },
  {
   "cell_type": "code",
   "execution_count": 47,
   "metadata": {
    "collapsed": false
   },
   "outputs": [
    {
     "data": {
      "text/html": [
       "<div>\n",
       "<table border=\"1\" class=\"dataframe\">\n",
       "  <thead>\n",
       "    <tr style=\"text-align: right;\">\n",
       "      <th></th>\n",
       "      <th>N</th>\n",
       "      <th>NId</th>\n",
       "      <th>Bus2</th>\n",
       "      <th>Emp2</th>\n",
       "      <th>SAR2</th>\n",
       "    </tr>\n",
       "  </thead>\n",
       "  <tbody>\n",
       "    <tr>\n",
       "      <th>135</th>\n",
       "      <td>West Hill</td>\n",
       "      <td>136</td>\n",
       "      <td>1.712502</td>\n",
       "      <td>17.753072</td>\n",
       "      <td>17.351278</td>\n",
       "    </tr>\n",
       "    <tr>\n",
       "      <th>136</th>\n",
       "      <td>Woburn</td>\n",
       "      <td>137</td>\n",
       "      <td>2.497246</td>\n",
       "      <td>35.191578</td>\n",
       "      <td>16.273718</td>\n",
       "    </tr>\n",
       "    <tr>\n",
       "      <th>137</th>\n",
       "      <td>Eglinton East</td>\n",
       "      <td>138</td>\n",
       "      <td>1.398258</td>\n",
       "      <td>10.900156</td>\n",
       "      <td>19.678356</td>\n",
       "    </tr>\n",
       "    <tr>\n",
       "      <th>138</th>\n",
       "      <td>Scarborough Village</td>\n",
       "      <td>139</td>\n",
       "      <td>1.411614</td>\n",
       "      <td>12.358037</td>\n",
       "      <td>25.543792</td>\n",
       "    </tr>\n",
       "    <tr>\n",
       "      <th>139</th>\n",
       "      <td>Guildwood</td>\n",
       "      <td>140</td>\n",
       "      <td>1.446384</td>\n",
       "      <td>2.992519</td>\n",
       "      <td>NaN</td>\n",
       "    </tr>\n",
       "  </tbody>\n",
       "</table>\n",
       "</div>"
      ],
      "text/plain": [
       "                       N  NId      Bus2       Emp2       SAR2\n",
       "135            West Hill  136  1.712502  17.753072  17.351278\n",
       "136               Woburn  137  2.497246  35.191578  16.273718\n",
       "137        Eglinton East  138  1.398258  10.900156  19.678356\n",
       "138  Scarborough Village  139  1.411614  12.358037  25.543792\n",
       "139            Guildwood  140  1.446384   2.992519        NaN"
      ]
     },
     "execution_count": 47,
     "metadata": {},
     "output_type": "execute_result"
    }
   ],
   "source": [
    "e_sel.tail()\n",
    "e2_sel.tail()"
   ]
  },
  {
   "cell_type": "code",
   "execution_count": 48,
   "metadata": {
    "collapsed": false
   },
   "outputs": [],
   "source": [
    "e2_sel = e2_sel.fillna(e2_sel.mean())"
   ]
  },
  {
   "cell_type": "markdown",
   "metadata": {},
   "source": [
    "**2. Combine all features of each year along with TMCI into one dataframe**"
   ]
  },
  {
   "cell_type": "code",
   "execution_count": 49,
   "metadata": {
    "collapsed": false
   },
   "outputs": [],
   "source": [
    "# 2011\n",
    "merge2011 = pd.concat([d_pop, e_sel[['Bus','Emp','SAR']]], axis = 1) # Concatenate population and economics data.\n",
    "merge2011['TMCI'] = c_norm['TMCI'] # Include the total major crimes per 1000 people\n",
    "#del merge2011['TPop'] # We can remove the total population data as we don't need it.\n",
    "\n",
    "# Same thing with 2008\n",
    "merge2008 = pd.concat([d2_pop, e2_sel[['Bus2','Emp2','SAR2']]], axis = 1) # Concatenate population and economics data\n",
    "merge2008['TMCI2'] = c2_norm['TMCI2'] # Include the total major crimes per 1000 people\n",
    "#del merge2008['TPop2']"
   ]
  },
  {
   "cell_type": "code",
   "execution_count": 50,
   "metadata": {
    "collapsed": false,
    "scrolled": false
   },
   "outputs": [
    {
     "data": {
      "text/html": [
       "<div>\n",
       "<table border=\"1\" class=\"dataframe\">\n",
       "  <thead>\n",
       "    <tr style=\"text-align: right;\">\n",
       "      <th></th>\n",
       "      <th>N</th>\n",
       "      <th>NId</th>\n",
       "      <th>TPop</th>\n",
       "      <th>PM</th>\n",
       "      <th>PF</th>\n",
       "      <th>C</th>\n",
       "      <th>Y</th>\n",
       "      <th>A</th>\n",
       "      <th>S</th>\n",
       "      <th>Bus</th>\n",
       "      <th>Emp</th>\n",
       "      <th>SAR</th>\n",
       "      <th>TMCI</th>\n",
       "    </tr>\n",
       "  </thead>\n",
       "  <tbody>\n",
       "    <tr>\n",
       "      <th>135</th>\n",
       "      <td>West Hill</td>\n",
       "      <td>136</td>\n",
       "      <td>26550</td>\n",
       "      <td>47.306968</td>\n",
       "      <td>52.730697</td>\n",
       "      <td>18.644068</td>\n",
       "      <td>14.802260</td>\n",
       "      <td>40.470810</td>\n",
       "      <td>26.082863</td>\n",
       "      <td>1.596987</td>\n",
       "      <td>16.949153</td>\n",
       "      <td>18.734463</td>\n",
       "      <td>28.210923</td>\n",
       "    </tr>\n",
       "    <tr>\n",
       "      <th>136</th>\n",
       "      <td>Woburn</td>\n",
       "      <td>137</td>\n",
       "      <td>53350</td>\n",
       "      <td>48.744142</td>\n",
       "      <td>51.227741</td>\n",
       "      <td>19.297095</td>\n",
       "      <td>14.217432</td>\n",
       "      <td>42.764761</td>\n",
       "      <td>23.720712</td>\n",
       "      <td>2.011246</td>\n",
       "      <td>30.346767</td>\n",
       "      <td>12.646673</td>\n",
       "      <td>15.145267</td>\n",
       "    </tr>\n",
       "    <tr>\n",
       "      <th>137</th>\n",
       "      <td>Eglinton East</td>\n",
       "      <td>138</td>\n",
       "      <td>22830</td>\n",
       "      <td>46.342532</td>\n",
       "      <td>53.613666</td>\n",
       "      <td>19.864214</td>\n",
       "      <td>13.491021</td>\n",
       "      <td>41.699518</td>\n",
       "      <td>24.945247</td>\n",
       "      <td>1.296540</td>\n",
       "      <td>10.297854</td>\n",
       "      <td>18.269820</td>\n",
       "      <td>21.550591</td>\n",
       "    </tr>\n",
       "    <tr>\n",
       "      <th>138</th>\n",
       "      <td>Scarborough Village</td>\n",
       "      <td>139</td>\n",
       "      <td>16615</td>\n",
       "      <td>47.095998</td>\n",
       "      <td>52.904002</td>\n",
       "      <td>20.975023</td>\n",
       "      <td>14.715618</td>\n",
       "      <td>40.926873</td>\n",
       "      <td>23.382486</td>\n",
       "      <td>1.372254</td>\n",
       "      <td>11.140536</td>\n",
       "      <td>24.875113</td>\n",
       "      <td>28.528438</td>\n",
       "    </tr>\n",
       "    <tr>\n",
       "      <th>139</th>\n",
       "      <td>Guildwood</td>\n",
       "      <td>140</td>\n",
       "      <td>9815</td>\n",
       "      <td>46.357616</td>\n",
       "      <td>53.693327</td>\n",
       "      <td>13.092206</td>\n",
       "      <td>10.952624</td>\n",
       "      <td>36.016302</td>\n",
       "      <td>39.938869</td>\n",
       "      <td>0.682629</td>\n",
       "      <td>9.414162</td>\n",
       "      <td>3.148242</td>\n",
       "      <td>11.512990</td>\n",
       "    </tr>\n",
       "  </tbody>\n",
       "</table>\n",
       "</div>"
      ],
      "text/plain": [
       "                       N  NId   TPop         PM         PF          C  \\\n",
       "135            West Hill  136  26550  47.306968  52.730697  18.644068   \n",
       "136               Woburn  137  53350  48.744142  51.227741  19.297095   \n",
       "137        Eglinton East  138  22830  46.342532  53.613666  19.864214   \n",
       "138  Scarborough Village  139  16615  47.095998  52.904002  20.975023   \n",
       "139            Guildwood  140   9815  46.357616  53.693327  13.092206   \n",
       "\n",
       "             Y          A          S       Bus        Emp        SAR  \\\n",
       "135  14.802260  40.470810  26.082863  1.596987  16.949153  18.734463   \n",
       "136  14.217432  42.764761  23.720712  2.011246  30.346767  12.646673   \n",
       "137  13.491021  41.699518  24.945247  1.296540  10.297854  18.269820   \n",
       "138  14.715618  40.926873  23.382486  1.372254  11.140536  24.875113   \n",
       "139  10.952624  36.016302  39.938869  0.682629   9.414162   3.148242   \n",
       "\n",
       "          TMCI  \n",
       "135  28.210923  \n",
       "136  15.145267  \n",
       "137  21.550591  \n",
       "138  28.528438  \n",
       "139  11.512990  "
      ]
     },
     "execution_count": 50,
     "metadata": {},
     "output_type": "execute_result"
    }
   ],
   "source": [
    "merge2011.tail()"
   ]
  },
  {
   "cell_type": "code",
   "execution_count": 51,
   "metadata": {
    "collapsed": false
   },
   "outputs": [
    {
     "data": {
      "text/html": [
       "<div>\n",
       "<table border=\"1\" class=\"dataframe\">\n",
       "  <thead>\n",
       "    <tr style=\"text-align: right;\">\n",
       "      <th></th>\n",
       "      <th>N</th>\n",
       "      <th>NId</th>\n",
       "      <th>TPop2</th>\n",
       "      <th>PM2</th>\n",
       "      <th>PF2</th>\n",
       "      <th>C2</th>\n",
       "      <th>Y2</th>\n",
       "      <th>A2</th>\n",
       "      <th>S2</th>\n",
       "      <th>Bus2</th>\n",
       "      <th>Emp2</th>\n",
       "      <th>SAR2</th>\n",
       "      <th>TMCI2</th>\n",
       "    </tr>\n",
       "  </thead>\n",
       "  <tbody>\n",
       "    <tr>\n",
       "      <th>135</th>\n",
       "      <td>West Hill</td>\n",
       "      <td>136</td>\n",
       "      <td>25635</td>\n",
       "      <td>47.025551</td>\n",
       "      <td>52.974449</td>\n",
       "      <td>19.797152</td>\n",
       "      <td>14.238346</td>\n",
       "      <td>41.544763</td>\n",
       "      <td>24.244197</td>\n",
       "      <td>1.712502</td>\n",
       "      <td>17.753072</td>\n",
       "      <td>17.351278</td>\n",
       "      <td>30.895260</td>\n",
       "    </tr>\n",
       "    <tr>\n",
       "      <th>136</th>\n",
       "      <td>Woburn</td>\n",
       "      <td>137</td>\n",
       "      <td>40845</td>\n",
       "      <td>62.565798</td>\n",
       "      <td>65.870976</td>\n",
       "      <td>21.153140</td>\n",
       "      <td>12.841229</td>\n",
       "      <td>42.098176</td>\n",
       "      <td>23.821765</td>\n",
       "      <td>2.497246</td>\n",
       "      <td>35.191578</td>\n",
       "      <td>16.273718</td>\n",
       "      <td>19.316930</td>\n",
       "    </tr>\n",
       "    <tr>\n",
       "      <th>137</th>\n",
       "      <td>Eglinton East</td>\n",
       "      <td>138</td>\n",
       "      <td>22385</td>\n",
       "      <td>46.593701</td>\n",
       "      <td>53.428635</td>\n",
       "      <td>21.353585</td>\n",
       "      <td>13.602859</td>\n",
       "      <td>42.841188</td>\n",
       "      <td>22.224704</td>\n",
       "      <td>1.398258</td>\n",
       "      <td>10.900156</td>\n",
       "      <td>19.678356</td>\n",
       "      <td>22.827786</td>\n",
       "    </tr>\n",
       "    <tr>\n",
       "      <th>138</th>\n",
       "      <td>Scarborough Village</td>\n",
       "      <td>139</td>\n",
       "      <td>15585</td>\n",
       "      <td>47.449471</td>\n",
       "      <td>52.550529</td>\n",
       "      <td>22.264998</td>\n",
       "      <td>14.084055</td>\n",
       "      <td>40.968880</td>\n",
       "      <td>22.842477</td>\n",
       "      <td>1.411614</td>\n",
       "      <td>12.358037</td>\n",
       "      <td>25.543792</td>\n",
       "      <td>25.794033</td>\n",
       "    </tr>\n",
       "    <tr>\n",
       "      <th>139</th>\n",
       "      <td>Guildwood</td>\n",
       "      <td>140</td>\n",
       "      <td>10025</td>\n",
       "      <td>46.234414</td>\n",
       "      <td>53.715711</td>\n",
       "      <td>14.862843</td>\n",
       "      <td>11.172070</td>\n",
       "      <td>38.004988</td>\n",
       "      <td>36.259352</td>\n",
       "      <td>1.446384</td>\n",
       "      <td>2.992519</td>\n",
       "      <td>9.640437</td>\n",
       "      <td>12.568579</td>\n",
       "    </tr>\n",
       "  </tbody>\n",
       "</table>\n",
       "</div>"
      ],
      "text/plain": [
       "                       N  NId  TPop2        PM2        PF2         C2  \\\n",
       "135            West Hill  136  25635  47.025551  52.974449  19.797152   \n",
       "136               Woburn  137  40845  62.565798  65.870976  21.153140   \n",
       "137        Eglinton East  138  22385  46.593701  53.428635  21.353585   \n",
       "138  Scarborough Village  139  15585  47.449471  52.550529  22.264998   \n",
       "139            Guildwood  140  10025  46.234414  53.715711  14.862843   \n",
       "\n",
       "            Y2         A2         S2      Bus2       Emp2       SAR2  \\\n",
       "135  14.238346  41.544763  24.244197  1.712502  17.753072  17.351278   \n",
       "136  12.841229  42.098176  23.821765  2.497246  35.191578  16.273718   \n",
       "137  13.602859  42.841188  22.224704  1.398258  10.900156  19.678356   \n",
       "138  14.084055  40.968880  22.842477  1.411614  12.358037  25.543792   \n",
       "139  11.172070  38.004988  36.259352  1.446384   2.992519   9.640437   \n",
       "\n",
       "         TMCI2  \n",
       "135  30.895260  \n",
       "136  19.316930  \n",
       "137  22.827786  \n",
       "138  25.794033  \n",
       "139  12.568579  "
      ]
     },
     "execution_count": 51,
     "metadata": {},
     "output_type": "execute_result"
    }
   ],
   "source": [
    "merge2008.tail()"
   ]
  },
  {
   "cell_type": "markdown",
   "metadata": {},
   "source": [
    "**3. Do diagonal correlation of these features to ensure they don't correlate with each other. This also computes pairwaise correlations with TMCI to see if there is a relationship**"
   ]
  },
  {
   "cell_type": "code",
   "execution_count": 52,
   "metadata": {
    "collapsed": false
   },
   "outputs": [
    {
     "data": {
      "text/html": [
       "<div>\n",
       "<table border=\"1\" class=\"dataframe\">\n",
       "  <thead>\n",
       "    <tr style=\"text-align: right;\">\n",
       "      <th></th>\n",
       "      <th>PM</th>\n",
       "      <th>PF</th>\n",
       "      <th>C</th>\n",
       "      <th>Y</th>\n",
       "      <th>A</th>\n",
       "      <th>S</th>\n",
       "      <th>Bus</th>\n",
       "      <th>Emp</th>\n",
       "      <th>SAR</th>\n",
       "      <th>TMCI</th>\n",
       "    </tr>\n",
       "  </thead>\n",
       "  <tbody>\n",
       "    <tr>\n",
       "      <th>PM</th>\n",
       "      <td>1.000000</td>\n",
       "      <td>-0.999708</td>\n",
       "      <td>-0.262159</td>\n",
       "      <td>0.105218</td>\n",
       "      <td>0.485240</td>\n",
       "      <td>-0.434347</td>\n",
       "      <td>0.206219</td>\n",
       "      <td>0.107014</td>\n",
       "      <td>0.218235</td>\n",
       "      <td>0.504714</td>\n",
       "    </tr>\n",
       "    <tr>\n",
       "      <th>PF</th>\n",
       "      <td>-0.999708</td>\n",
       "      <td>1.000000</td>\n",
       "      <td>0.259095</td>\n",
       "      <td>-0.106597</td>\n",
       "      <td>-0.483859</td>\n",
       "      <td>0.435686</td>\n",
       "      <td>-0.207220</td>\n",
       "      <td>-0.107741</td>\n",
       "      <td>-0.219820</td>\n",
       "      <td>-0.505878</td>\n",
       "    </tr>\n",
       "    <tr>\n",
       "      <th>C</th>\n",
       "      <td>-0.262159</td>\n",
       "      <td>0.259095</td>\n",
       "      <td>1.000000</td>\n",
       "      <td>0.101991</td>\n",
       "      <td>-0.545515</td>\n",
       "      <td>-0.166599</td>\n",
       "      <td>-0.380420</td>\n",
       "      <td>-0.321718</td>\n",
       "      <td>0.456916</td>\n",
       "      <td>-0.150601</td>\n",
       "    </tr>\n",
       "    <tr>\n",
       "      <th>Y</th>\n",
       "      <td>0.105218</td>\n",
       "      <td>-0.106597</td>\n",
       "      <td>0.101991</td>\n",
       "      <td>1.000000</td>\n",
       "      <td>-0.311823</td>\n",
       "      <td>-0.139468</td>\n",
       "      <td>0.263345</td>\n",
       "      <td>0.345554</td>\n",
       "      <td>0.236682</td>\n",
       "      <td>0.294891</td>\n",
       "    </tr>\n",
       "    <tr>\n",
       "      <th>A</th>\n",
       "      <td>0.485240</td>\n",
       "      <td>-0.483859</td>\n",
       "      <td>-0.545515</td>\n",
       "      <td>-0.311823</td>\n",
       "      <td>1.000000</td>\n",
       "      <td>-0.657665</td>\n",
       "      <td>0.327817</td>\n",
       "      <td>0.240374</td>\n",
       "      <td>0.011142</td>\n",
       "      <td>0.396014</td>\n",
       "    </tr>\n",
       "    <tr>\n",
       "      <th>S</th>\n",
       "      <td>-0.434347</td>\n",
       "      <td>0.435686</td>\n",
       "      <td>-0.166599</td>\n",
       "      <td>-0.139468</td>\n",
       "      <td>-0.657665</td>\n",
       "      <td>1.000000</td>\n",
       "      <td>-0.217517</td>\n",
       "      <td>-0.192954</td>\n",
       "      <td>-0.479418</td>\n",
       "      <td>-0.496818</td>\n",
       "    </tr>\n",
       "    <tr>\n",
       "      <th>Bus</th>\n",
       "      <td>0.206219</td>\n",
       "      <td>-0.207220</td>\n",
       "      <td>-0.380420</td>\n",
       "      <td>0.263345</td>\n",
       "      <td>0.327817</td>\n",
       "      <td>-0.217517</td>\n",
       "      <td>1.000000</td>\n",
       "      <td>0.860655</td>\n",
       "      <td>-0.102634</td>\n",
       "      <td>0.563295</td>\n",
       "    </tr>\n",
       "    <tr>\n",
       "      <th>Emp</th>\n",
       "      <td>0.107014</td>\n",
       "      <td>-0.107741</td>\n",
       "      <td>-0.321718</td>\n",
       "      <td>0.345554</td>\n",
       "      <td>0.240374</td>\n",
       "      <td>-0.192954</td>\n",
       "      <td>0.860655</td>\n",
       "      <td>1.000000</td>\n",
       "      <td>-0.120620</td>\n",
       "      <td>0.475120</td>\n",
       "    </tr>\n",
       "    <tr>\n",
       "      <th>SAR</th>\n",
       "      <td>0.218235</td>\n",
       "      <td>-0.219820</td>\n",
       "      <td>0.456916</td>\n",
       "      <td>0.236682</td>\n",
       "      <td>0.011142</td>\n",
       "      <td>-0.479418</td>\n",
       "      <td>-0.102634</td>\n",
       "      <td>-0.120620</td>\n",
       "      <td>1.000000</td>\n",
       "      <td>0.463434</td>\n",
       "    </tr>\n",
       "    <tr>\n",
       "      <th>TMCI</th>\n",
       "      <td>0.504714</td>\n",
       "      <td>-0.505878</td>\n",
       "      <td>-0.150601</td>\n",
       "      <td>0.294891</td>\n",
       "      <td>0.396014</td>\n",
       "      <td>-0.496818</td>\n",
       "      <td>0.563295</td>\n",
       "      <td>0.475120</td>\n",
       "      <td>0.463434</td>\n",
       "      <td>1.000000</td>\n",
       "    </tr>\n",
       "  </tbody>\n",
       "</table>\n",
       "</div>"
      ],
      "text/plain": [
       "            PM        PF         C         Y         A         S       Bus  \\\n",
       "PM    1.000000 -0.999708 -0.262159  0.105218  0.485240 -0.434347  0.206219   \n",
       "PF   -0.999708  1.000000  0.259095 -0.106597 -0.483859  0.435686 -0.207220   \n",
       "C    -0.262159  0.259095  1.000000  0.101991 -0.545515 -0.166599 -0.380420   \n",
       "Y     0.105218 -0.106597  0.101991  1.000000 -0.311823 -0.139468  0.263345   \n",
       "A     0.485240 -0.483859 -0.545515 -0.311823  1.000000 -0.657665  0.327817   \n",
       "S    -0.434347  0.435686 -0.166599 -0.139468 -0.657665  1.000000 -0.217517   \n",
       "Bus   0.206219 -0.207220 -0.380420  0.263345  0.327817 -0.217517  1.000000   \n",
       "Emp   0.107014 -0.107741 -0.321718  0.345554  0.240374 -0.192954  0.860655   \n",
       "SAR   0.218235 -0.219820  0.456916  0.236682  0.011142 -0.479418 -0.102634   \n",
       "TMCI  0.504714 -0.505878 -0.150601  0.294891  0.396014 -0.496818  0.563295   \n",
       "\n",
       "           Emp       SAR      TMCI  \n",
       "PM    0.107014  0.218235  0.504714  \n",
       "PF   -0.107741 -0.219820 -0.505878  \n",
       "C    -0.321718  0.456916 -0.150601  \n",
       "Y     0.345554  0.236682  0.294891  \n",
       "A     0.240374  0.011142  0.396014  \n",
       "S    -0.192954 -0.479418 -0.496818  \n",
       "Bus   0.860655 -0.102634  0.563295  \n",
       "Emp   1.000000 -0.120620  0.475120  \n",
       "SAR  -0.120620  1.000000  0.463434  \n",
       "TMCI  0.475120  0.463434  1.000000  "
      ]
     },
     "execution_count": 52,
     "metadata": {},
     "output_type": "execute_result"
    }
   ],
   "source": [
    "corrmat2011 = merge2011.iloc[:,3:]\n",
    "corr2011 = corrmat2011.corr()\n",
    "\n",
    "# First we take a look at the correlation table for 2011\n",
    "corr2011"
   ]
  },
  {
   "cell_type": "code",
   "execution_count": 53,
   "metadata": {
    "collapsed": false
   },
   "outputs": [
    {
     "data": {
      "text/plain": [
       "<matplotlib.axes._subplots.AxesSubplot at 0x115c9e2d0>"
      ]
     },
     "execution_count": 53,
     "metadata": {},
     "output_type": "execute_result"
    },
    {
     "data": {
      "image/png": "[encoded data removed]",
      "text/plain": [
       "<matplotlib.figure.Figure at 0x115c9b690>"
      ]
     },
     "metadata": {},
     "output_type": "display_data"
    }
   ],
   "source": [
    "# An easier way is to visualize the feature correlations\n",
    "# Generate a mask for the upper triangle\n",
    "mask = np.zeros_like(corr2011, dtype=np.bool)\n",
    "mask[np.triu_indices_from(mask)] = True\n",
    "\n",
    "# Set up the matplotlib figure\n",
    "f, ax = plt.subplots(figsize=(11, 9))\n",
    "\n",
    "# Generate a custom diverging colormap\n",
    "cmap = sns.diverging_palette(220, 10, as_cmap=True)\n",
    "\n",
    "# Draw the heatmap with the mask and correct aspect ratio\n",
    "sns.heatmap(corr2011, mask=mask, cmap=cmap, vmax=.3,\n",
    "            square=True,\n",
    "            linewidths=.5, cbar_kws={\"shrink\": .5}, ax=ax)"
   ]
  },
  {
   "cell_type": "markdown",
   "metadata": {},
   "source": [
    "**Here are some key takeaways.** \n",
    "\n",
    "There is a strong positive correlation between the number of people employed and the number of businesses in that neighbourhood, suggesting that one of these features could be removed when using them for prediction purposes.\n",
    "\n",
    "There is also a very strong negative correlation between the percentage of female population and the percentage of male population in that neighbourhood (TMCI). \n",
    "\n",
    "There is a moderate to high positive correlation between the number of males and TMCI, number of adults and TMCI, number of employed people and TMCI, and number of people on social assistance and TMCI. As might be expected, there is a negative correlation between the number of seniors and TMCI."
   ]
  },
  {
   "cell_type": "code",
   "execution_count": 54,
   "metadata": {
    "collapsed": false
   },
   "outputs": [
    {
     "data": {
      "text/html": [
       "<div>\n",
       "<table border=\"1\" class=\"dataframe\">\n",
       "  <thead>\n",
       "    <tr style=\"text-align: right;\">\n",
       "      <th></th>\n",
       "      <th>PM2</th>\n",
       "      <th>PF2</th>\n",
       "      <th>C2</th>\n",
       "      <th>Y2</th>\n",
       "      <th>A2</th>\n",
       "      <th>S2</th>\n",
       "      <th>Bus2</th>\n",
       "      <th>Emp2</th>\n",
       "      <th>SAR2</th>\n",
       "      <th>TMCI2</th>\n",
       "    </tr>\n",
       "  </thead>\n",
       "  <tbody>\n",
       "    <tr>\n",
       "      <th>PM2</th>\n",
       "      <td>1.000000</td>\n",
       "      <td>0.629499</td>\n",
       "      <td>-0.088499</td>\n",
       "      <td>0.007301</td>\n",
       "      <td>0.196905</td>\n",
       "      <td>-0.162688</td>\n",
       "      <td>0.212224</td>\n",
       "      <td>0.072305</td>\n",
       "      <td>0.134476</td>\n",
       "      <td>0.412011</td>\n",
       "    </tr>\n",
       "    <tr>\n",
       "      <th>PF2</th>\n",
       "      <td>0.629499</td>\n",
       "      <td>1.000000</td>\n",
       "      <td>0.096254</td>\n",
       "      <td>-0.099926</td>\n",
       "      <td>-0.176978</td>\n",
       "      <td>0.173348</td>\n",
       "      <td>0.043809</td>\n",
       "      <td>-0.029058</td>\n",
       "      <td>-0.038105</td>\n",
       "      <td>-0.015050</td>\n",
       "    </tr>\n",
       "    <tr>\n",
       "      <th>C2</th>\n",
       "      <td>-0.088499</td>\n",
       "      <td>0.096254</td>\n",
       "      <td>1.000000</td>\n",
       "      <td>0.175526</td>\n",
       "      <td>-0.545894</td>\n",
       "      <td>-0.264382</td>\n",
       "      <td>-0.402654</td>\n",
       "      <td>-0.324367</td>\n",
       "      <td>0.496280</td>\n",
       "      <td>-0.211898</td>\n",
       "    </tr>\n",
       "    <tr>\n",
       "      <th>Y2</th>\n",
       "      <td>0.007301</td>\n",
       "      <td>-0.099926</td>\n",
       "      <td>0.175526</td>\n",
       "      <td>1.000000</td>\n",
       "      <td>-0.340884</td>\n",
       "      <td>-0.146744</td>\n",
       "      <td>0.107260</td>\n",
       "      <td>0.171481</td>\n",
       "      <td>0.171874</td>\n",
       "      <td>0.146219</td>\n",
       "    </tr>\n",
       "    <tr>\n",
       "      <th>A2</th>\n",
       "      <td>0.196905</td>\n",
       "      <td>-0.176978</td>\n",
       "      <td>-0.545894</td>\n",
       "      <td>-0.340884</td>\n",
       "      <td>1.000000</td>\n",
       "      <td>-0.597055</td>\n",
       "      <td>0.390237</td>\n",
       "      <td>0.285942</td>\n",
       "      <td>-0.019473</td>\n",
       "      <td>0.432165</td>\n",
       "    </tr>\n",
       "    <tr>\n",
       "      <th>S2</th>\n",
       "      <td>-0.162688</td>\n",
       "      <td>0.173348</td>\n",
       "      <td>-0.264382</td>\n",
       "      <td>-0.146744</td>\n",
       "      <td>-0.597055</td>\n",
       "      <td>1.000000</td>\n",
       "      <td>-0.169916</td>\n",
       "      <td>-0.135863</td>\n",
       "      <td>-0.466623</td>\n",
       "      <td>-0.397451</td>\n",
       "    </tr>\n",
       "    <tr>\n",
       "      <th>Bus2</th>\n",
       "      <td>0.212224</td>\n",
       "      <td>0.043809</td>\n",
       "      <td>-0.402654</td>\n",
       "      <td>0.107260</td>\n",
       "      <td>0.390237</td>\n",
       "      <td>-0.169916</td>\n",
       "      <td>1.000000</td>\n",
       "      <td>0.885773</td>\n",
       "      <td>-0.096853</td>\n",
       "      <td>0.635169</td>\n",
       "    </tr>\n",
       "    <tr>\n",
       "      <th>Emp2</th>\n",
       "      <td>0.072305</td>\n",
       "      <td>-0.029058</td>\n",
       "      <td>-0.324367</td>\n",
       "      <td>0.171481</td>\n",
       "      <td>0.285942</td>\n",
       "      <td>-0.135863</td>\n",
       "      <td>0.885773</td>\n",
       "      <td>1.000000</td>\n",
       "      <td>-0.117931</td>\n",
       "      <td>0.499110</td>\n",
       "    </tr>\n",
       "    <tr>\n",
       "      <th>SAR2</th>\n",
       "      <td>0.134476</td>\n",
       "      <td>-0.038105</td>\n",
       "      <td>0.496280</td>\n",
       "      <td>0.171874</td>\n",
       "      <td>-0.019473</td>\n",
       "      <td>-0.466623</td>\n",
       "      <td>-0.096853</td>\n",
       "      <td>-0.117931</td>\n",
       "      <td>1.000000</td>\n",
       "      <td>0.399231</td>\n",
       "    </tr>\n",
       "    <tr>\n",
       "      <th>TMCI2</th>\n",
       "      <td>0.412011</td>\n",
       "      <td>-0.015050</td>\n",
       "      <td>-0.211898</td>\n",
       "      <td>0.146219</td>\n",
       "      <td>0.432165</td>\n",
       "      <td>-0.397451</td>\n",
       "      <td>0.635169</td>\n",
       "      <td>0.499110</td>\n",
       "      <td>0.399231</td>\n",
       "      <td>1.000000</td>\n",
       "    </tr>\n",
       "  </tbody>\n",
       "</table>\n",
       "</div>"
      ],
      "text/plain": [
       "            PM2       PF2        C2        Y2        A2        S2      Bus2  \\\n",
       "PM2    1.000000  0.629499 -0.088499  0.007301  0.196905 -0.162688  0.212224   \n",
       "PF2    0.629499  1.000000  0.096254 -0.099926 -0.176978  0.173348  0.043809   \n",
       "C2    -0.088499  0.096254  1.000000  0.175526 -0.545894 -0.264382 -0.402654   \n",
       "Y2     0.007301 -0.099926  0.175526  1.000000 -0.340884 -0.146744  0.107260   \n",
       "A2     0.196905 -0.176978 -0.545894 -0.340884  1.000000 -0.597055  0.390237   \n",
       "S2    -0.162688  0.173348 -0.264382 -0.146744 -0.597055  1.000000 -0.169916   \n",
       "Bus2   0.212224  0.043809 -0.402654  0.107260  0.390237 -0.169916  1.000000   \n",
       "Emp2   0.072305 -0.029058 -0.324367  0.171481  0.285942 -0.135863  0.885773   \n",
       "SAR2   0.134476 -0.038105  0.496280  0.171874 -0.019473 -0.466623 -0.096853   \n",
       "TMCI2  0.412011 -0.015050 -0.211898  0.146219  0.432165 -0.397451  0.635169   \n",
       "\n",
       "           Emp2      SAR2     TMCI2  \n",
       "PM2    0.072305  0.134476  0.412011  \n",
       "PF2   -0.029058 -0.038105 -0.015050  \n",
       "C2    -0.324367  0.496280 -0.211898  \n",
       "Y2     0.171481  0.171874  0.146219  \n",
       "A2     0.285942 -0.019473  0.432165  \n",
       "S2    -0.135863 -0.466623 -0.397451  \n",
       "Bus2   0.885773 -0.096853  0.635169  \n",
       "Emp2   1.000000 -0.117931  0.499110  \n",
       "SAR2  -0.117931  1.000000  0.399231  \n",
       "TMCI2  0.499110  0.399231  1.000000  "
      ]
     },
     "execution_count": 54,
     "metadata": {},
     "output_type": "execute_result"
    }
   ],
   "source": [
    "# Now, let's look at 2008\n",
    "corrmat2008 = merge2008.iloc[:,3:]\n",
    "corr2008 = corrmat2008.corr()\n",
    "\n",
    "# First we take a look at the correlation table for 2008\n",
    "corr2008"
   ]
  },
  {
   "cell_type": "code",
   "execution_count": 55,
   "metadata": {
    "collapsed": false
   },
   "outputs": [
    {
     "data": {
      "text/plain": [
       "<matplotlib.axes._subplots.AxesSubplot at 0x115d89e50>"
      ]
     },
     "execution_count": 55,
     "metadata": {},
     "output_type": "execute_result"
    },
    {
     "data": {
      "image/png": "[encoded data removed]",
      "text/plain": [
       "<matplotlib.figure.Figure at 0x113444810>"
      ]
     },
     "metadata": {},
     "output_type": "display_data"
    }
   ],
   "source": [
    "# Now let's visualize the correlations for 2008\n",
    "# Generate a mask for the upper triangle\n",
    "mask = np.zeros_like(corr2008, dtype=np.bool)\n",
    "mask[np.triu_indices_from(mask)] = True\n",
    "\n",
    "# Set up the matplotlib figure\n",
    "f, ax = plt.subplots(figsize=(11, 9))\n",
    "\n",
    "# Generate a custom diverging colormap\n",
    "cmap = sns.diverging_palette(220, 10, as_cmap=True)\n",
    "\n",
    "# Draw the heatmap with the mask and correct aspect ratio\n",
    "sns.heatmap(corr2008, mask=mask, cmap=cmap, vmax=.3,\n",
    "            square=True,\n",
    "            linewidths=.5, cbar_kws={\"shrink\": .5}, ax=ax)"
   ]
  },
  {
   "cell_type": "markdown",
   "metadata": {
    "collapsed": true
   },
   "source": [
    "Interestingly, there is a moderate positive correlation between the percentage of females and percentage of males, for the 2008 dataset, which means that the percentage of females has changed in 2011 in comparison to males.\n",
    "\n",
    "We again see the same strong correlation between number of people employed and the number of businesses in that neighbourhood, again suggesting that one of these features can be removed for prediction purposes."
   ]
  },
  {
   "cell_type": "markdown",
   "metadata": {
    "collapsed": true
   },
   "source": [
    "**4. Now compute only percentage increases and decreases between 2008 and 2011 for all features including TMCI**"
   ]
  },
  {
   "cell_type": "code",
   "execution_count": 56,
   "metadata": {
    "collapsed": false
   },
   "outputs": [],
   "source": [
    "# Compute only percentage increases and decreases between 2008 and 2011 for all features including TMCI\n",
    "# A positive value indicates an increase from 2008 to 2011.\n",
    "# A negative value indicates a decrease from 2008 to 2011.\n",
    "#merge_diff = merge2011 # Create a new dataframe\n",
    "merge_diff = merge2011.copy()\n",
    "merge_diff.loc[:,'PM'] = ((merge2011['PM'] - merge2008['PM2'])/merge2008['PM2']) * 100\n",
    "merge_diff.loc[:,'PF'] = ((merge2011['PF'] - merge2008['PF2'])/merge2008['PF2']) * 100\n",
    "merge_diff.loc[:,'C'] = ((merge2011['C'] - merge2008['C2'])/merge2008['C2']) * 100\n",
    "merge_diff.loc[:,'Y'] = ((merge2011['Y'] - merge2008['Y2'])/merge2008['Y2']) * 100\n",
    "merge_diff.loc[:,'A'] = ((merge2011['A'] - merge2008['A2'])/merge2008['A2']) * 100\n",
    "merge_diff.loc[:,'S'] = ((merge2011['S'] - merge2008['S2'])/merge2008['S2']) * 100\n",
    "merge_diff.loc[:,'Bus'] = ((merge2011['Bus'] - merge2008['Bus2'])/merge2008['Bus2']) * 100\n",
    "merge_diff.loc[:,'Emp'] = ((merge2011['Emp'] - merge2008['Emp2'])/merge2008['Emp2']) * 100\n",
    "merge_diff.loc[:,'SAR'] = ((merge2011['SAR'] - merge2008['SAR2'])/merge2008['SAR2']) * 100\n",
    "merge_diff.loc[:,'TMCI'] = ((merge2011['TMCI'] - merge2008['TMCI2'])/merge2008['TMCI2']) * 100"
   ]
  },
  {
   "cell_type": "code",
   "execution_count": 57,
   "metadata": {
    "collapsed": false
   },
   "outputs": [
    {
     "data": {
      "text/html": [
       "<div>\n",
       "<table border=\"1\" class=\"dataframe\">\n",
       "  <thead>\n",
       "    <tr style=\"text-align: right;\">\n",
       "      <th></th>\n",
       "      <th>N</th>\n",
       "      <th>NId</th>\n",
       "      <th>TPop</th>\n",
       "      <th>PM</th>\n",
       "      <th>PF</th>\n",
       "      <th>C</th>\n",
       "      <th>Y</th>\n",
       "      <th>A</th>\n",
       "      <th>S</th>\n",
       "      <th>Bus</th>\n",
       "      <th>Emp</th>\n",
       "      <th>SAR</th>\n",
       "      <th>TMCI</th>\n",
       "    </tr>\n",
       "  </thead>\n",
       "  <tbody>\n",
       "    <tr>\n",
       "      <th>135</th>\n",
       "      <td>West Hill</td>\n",
       "      <td>136</td>\n",
       "      <td>26550</td>\n",
       "      <td>0.598434</td>\n",
       "      <td>-0.460132</td>\n",
       "      <td>-5.824497</td>\n",
       "      <td>3.960529</td>\n",
       "      <td>-2.585051</td>\n",
       "      <td>7.583939</td>\n",
       "      <td>-6.745428</td>\n",
       "      <td>-4.528340</td>\n",
       "      <td>7.971665</td>\n",
       "      <td>-8.688509</td>\n",
       "    </tr>\n",
       "    <tr>\n",
       "      <th>136</th>\n",
       "      <td>Woburn</td>\n",
       "      <td>137</td>\n",
       "      <td>53350</td>\n",
       "      <td>-22.091391</td>\n",
       "      <td>-22.230177</td>\n",
       "      <td>-8.774325</td>\n",
       "      <td>10.717066</td>\n",
       "      <td>1.583406</td>\n",
       "      <td>-0.424204</td>\n",
       "      <td>-19.461409</td>\n",
       "      <td>-13.766962</td>\n",
       "      <td>-22.287746</td>\n",
       "      <td>-21.595889</td>\n",
       "    </tr>\n",
       "    <tr>\n",
       "      <th>137</th>\n",
       "      <td>Eglinton East</td>\n",
       "      <td>138</td>\n",
       "      <td>22830</td>\n",
       "      <td>-0.539063</td>\n",
       "      <td>0.346314</td>\n",
       "      <td>-6.974807</td>\n",
       "      <td>-0.822169</td>\n",
       "      <td>-2.664889</td>\n",
       "      <td>12.241078</td>\n",
       "      <td>-7.274633</td>\n",
       "      <td>-5.525633</td>\n",
       "      <td>-7.157791</td>\n",
       "      <td>-5.594915</td>\n",
       "    </tr>\n",
       "    <tr>\n",
       "      <th>138</th>\n",
       "      <td>Scarborough Village</td>\n",
       "      <td>139</td>\n",
       "      <td>16615</td>\n",
       "      <td>-0.744946</td>\n",
       "      <td>0.672635</td>\n",
       "      <td>-5.793739</td>\n",
       "      <td>4.484243</td>\n",
       "      <td>-0.102534</td>\n",
       "      <td>2.364056</td>\n",
       "      <td>-2.788280</td>\n",
       "      <td>-9.851896</td>\n",
       "      <td>-2.617776</td>\n",
       "      <td>10.600923</td>\n",
       "    </tr>\n",
       "    <tr>\n",
       "      <th>139</th>\n",
       "      <td>Guildwood</td>\n",
       "      <td>140</td>\n",
       "      <td>9815</td>\n",
       "      <td>0.266472</td>\n",
       "      <td>-0.041672</td>\n",
       "      <td>-11.913179</td>\n",
       "      <td>-1.964240</td>\n",
       "      <td>-5.232697</td>\n",
       "      <td>10.147775</td>\n",
       "      <td>-52.804469</td>\n",
       "      <td>214.589913</td>\n",
       "      <td>-67.343363</td>\n",
       "      <td>-8.398629</td>\n",
       "    </tr>\n",
       "  </tbody>\n",
       "</table>\n",
       "</div>"
      ],
      "text/plain": [
       "                       N  NId   TPop         PM         PF          C  \\\n",
       "135            West Hill  136  26550   0.598434  -0.460132  -5.824497   \n",
       "136               Woburn  137  53350 -22.091391 -22.230177  -8.774325   \n",
       "137        Eglinton East  138  22830  -0.539063   0.346314  -6.974807   \n",
       "138  Scarborough Village  139  16615  -0.744946   0.672635  -5.793739   \n",
       "139            Guildwood  140   9815   0.266472  -0.041672 -11.913179   \n",
       "\n",
       "             Y         A          S        Bus         Emp        SAR  \\\n",
       "135   3.960529 -2.585051   7.583939  -6.745428   -4.528340   7.971665   \n",
       "136  10.717066  1.583406  -0.424204 -19.461409  -13.766962 -22.287746   \n",
       "137  -0.822169 -2.664889  12.241078  -7.274633   -5.525633  -7.157791   \n",
       "138   4.484243 -0.102534   2.364056  -2.788280   -9.851896  -2.617776   \n",
       "139  -1.964240 -5.232697  10.147775 -52.804469  214.589913 -67.343363   \n",
       "\n",
       "          TMCI  \n",
       "135  -8.688509  \n",
       "136 -21.595889  \n",
       "137  -5.594915  \n",
       "138  10.600923  \n",
       "139  -8.398629  "
      ]
     },
     "execution_count": 57,
     "metadata": {},
     "output_type": "execute_result"
    }
   ],
   "source": [
    "merge_diff.tail()"
   ]
  },
  {
   "cell_type": "markdown",
   "metadata": {
    "collapsed": true
   },
   "source": [
    "**5. Use all the percentage difference features in a linear regression to predict increase or decrease in crime as a percentage in comparison with 2008. Use linear regression as an ML model**"
   ]
  },
  {
   "cell_type": "code",
   "execution_count": 58,
   "metadata": {
    "collapsed": false
   },
   "outputs": [],
   "source": [
    "# We will remove the percentage of females as the percentage of males is correlated with TMCI for both 2008 and 2011\n",
    "# and is a better predictor. \n",
    "# Let's leave the remaining features as is and use them for prediction using linear regression.\n",
    "merge_forreg = merge_diff[['PM','C','Y','A','S','Bus','Emp','SAR','TMCI']]\n",
    "\n",
    "# Let's define our independent and dependent variables for regression\n",
    "X = merge_forreg.iloc[:,0:8].values\n",
    "Y = merge_forreg['TMCI'].values"
   ]
  },
  {
   "cell_type": "markdown",
   "metadata": {},
   "source": [
    "**Let's recall what we are predicting here using machine learning. Using all the features that show percentages of increase or decrease from 2008 to 2011, we want to predict the percentage of increase or decrease in major crimes within each neighbourhood**"
   ]
  },
  {
   "cell_type": "code",
   "execution_count": 59,
   "metadata": {
    "collapsed": false
   },
   "outputs": [
    {
     "name": "stdout",
     "output_type": "stream",
     "text": [
      "(98, 8)\n",
      "(42, 8)\n",
      "(98,)\n",
      "(42,)\n"
     ]
    }
   ],
   "source": [
    "# Before we train the model, we need to make sure we can test it with unseen data to validate the model for generalizability. \n",
    "# There are different ways of doing train-test splits. \n",
    "# Let's use a random 70:30 split for training:testing\n",
    "\n",
    "import sklearn\n",
    "from sklearn.linear_model import LinearRegression\n",
    "\n",
    "X_train, X_test, Y_train, Y_test = sklearn.cross_validation.train_test_split(\n",
    "    X, Y, test_size=0.30, random_state = 5)\n",
    "print X_train.shape\n",
    "print X_test.shape\n",
    "print Y_train.shape\n",
    "print Y_test.shape"
   ]
  },
  {
   "cell_type": "code",
   "execution_count": 60,
   "metadata": {
    "collapsed": false
   },
   "outputs": [
    {
     "name": "stdout",
     "output_type": "stream",
     "text": [
      "R-squared: \n",
      "0.272947014798\n",
      "\n",
      "Total crime increase/decrease percentage predictions for 5 five neighbourhoods in the test set:\n",
      "[ 0.43404765  2.78757374  8.21302575  6.44711317  6.92137319]\n",
      "\n",
      "Mean squared error on the test set: \n",
      "439.045207314\n",
      "Mean squared error on the training set: \n",
      "404.948232772\n"
     ]
    }
   ],
   "source": [
    "# Create an instance of the linear regression model.\n",
    "lm = LinearRegression()\n",
    "\n",
    "# Now, train the model with all the 8 predictors only using the training set\n",
    "lm.fit(X_train, Y_train)\n",
    "\n",
    "# First, we can check to see how much of the variance in the training data is captured by the model.\n",
    "# We can compute R-squared for this.\n",
    "from sklearn.metrics import r2_score\n",
    "print \"R-squared: \"\n",
    "print r2_score(Y_train, lm.predict(X_train)) \n",
    "print\n",
    "\n",
    "# Predict the output on the test set and print the first five values\n",
    "print \"Total crime increase/decrease percentage predictions for 5 five neighbourhoods in the test set:\"\n",
    "print lm.predict(X_test)[0:5]\n",
    "print\n",
    "\n",
    "# Look at the mean squared error on the test set first and then on the training set.\n",
    "from sklearn.metrics import mean_squared_error\n",
    "print \"Mean squared error on the test set: \"\n",
    "print mean_squared_error(Y_test, lm.predict(X_test))\n",
    "print \"Mean squared error on the training set: \"\n",
    "print mean_squared_error(Y_train, lm.predict(X_train))"
   ]
  },
  {
   "cell_type": "markdown",
   "metadata": {
    "collapsed": true
   },
   "source": [
    "**We notice that the linear regression model explains only 27.3% of the variance in the model. So, this indicates that the model is not a flexible one. We have to keep in mind that we are not using features (i.e., # of businesses, people employed, percentage of males, percentage of adults etc.) to predict crime rates. Instead, we are using percentage changes of these attributes (between 2008 and 2011) as features for predicting percentage change in crime. So, some of the linear relationships between the features and the dependent variable may be lost.**\n",
    "\n",
    "**This is also quite clear from the extremely high MSE values not just for the test set but also for the training set.**"
   ]
  },
  {
   "cell_type": "code",
   "execution_count": 61,
   "metadata": {
    "collapsed": false
   },
   "outputs": [
    {
     "data": {
      "text/plain": [
       "<matplotlib.text.Text at 0x1172b1c50>"
      ]
     },
     "execution_count": 61,
     "metadata": {},
     "output_type": "execute_result"
    },
    {
     "data": {
      "image/png": "[encoded data removed]",
      "text/plain": [
       "<matplotlib.figure.Figure at 0x117289950>"
      ]
     },
     "metadata": {},
     "output_type": "display_data"
    }
   ],
   "source": [
    "plt.figure(figsize=(10,6))\n",
    "plt.scatter(lm.predict(X_train), lm.predict(X_train) - Y_train, c='b', s=40, alpha=0.5)\n",
    "plt.scatter(lm.predict(X_test), lm.predict(X_test) - Y_test, c='g', s=40)\n",
    "plt.hlines(y = 0, xmin=-30, xmax = 50)\n",
    "plt.title('Residual Plot using training (blue) and test (green) data')\n",
    "plt.ylabel('Residuals')"
   ]
  },
  {
   "cell_type": "markdown",
   "metadata": {
    "collapsed": true
   },
   "source": [
    "**The residual plot clearly does not show homoscedasticity.**\n",
    "\n",
    "**We need a more flexible/powerful model.** \n",
    "\n",
    "**Let's use random forests.**"
   ]
  },
  {
   "cell_type": "code",
   "execution_count": 62,
   "metadata": {
    "collapsed": false
   },
   "outputs": [
    {
     "name": "stdout",
     "output_type": "stream",
     "text": [
      "R-squared for training data: \n",
      "0.851056671712\n",
      "\n",
      "R-squared for test data: \n",
      "0.0923972904706\n",
      "\n",
      "Total crime increase/decrease percentage predictions for 5 five neighbourhoods in the test set:\n",
      "[ 0.74107366 -4.94824578  3.52266184  2.46348065  0.83022161]\n",
      "\n",
      "Mean squared error on the test set: \n",
      "437.883925485\n",
      "Mean squared error on the training set: \n",
      "82.9572793196\n"
     ]
    }
   ],
   "source": [
    "from sklearn.ensemble import RandomForestRegressor\n",
    "\n",
    "# Create an instance of the Random Forest model.\n",
    "rf = RandomForestRegressor(random_state = 1)\n",
    "\n",
    "# Now, train the model with all the 8 predictors only using the training set\n",
    "rf.fit(X_train, Y_train)\n",
    "#rf.predict(X_train)\n",
    "\n",
    "# First, we can check to see how much of the variance in the training data is captured by the model.\n",
    "# We can compute R-squared for this (also referred to as the coefficient of determination).\n",
    "print \"R-squared for training data: \"\n",
    "print rf.score(X_train,Y_train) \n",
    "print\n",
    "print \"R-squared for test data: \"\n",
    "print rf.score(X_test,Y_test) \n",
    "print\n",
    "\n",
    "# Predict the output on the test set and print the first five values\n",
    "print \"Total crime increase/decrease percentage predictions for 5 five neighbourhoods in the test set:\"\n",
    "print rf.predict(X_test)[0:5]\n",
    "print\n",
    "\n",
    "# Look at the mean squared error on the test set first and then on the training set.\n",
    "from sklearn.metrics import mean_squared_error\n",
    "print \"Mean squared error on the test set: \"\n",
    "print mean_squared_error(Y_test, rf.predict(X_test))\n",
    "print \"Mean squared error on the training set: \"\n",
    "print mean_squared_error(Y_train, rf.predict(X_train))"
   ]
  },
  {
   "cell_type": "markdown",
   "metadata": {},
   "source": [
    "**We notice that the random forest regression model explains 85.1% of the variance in the training data, which is a big improvement over the linear regression model. However, it performs poorly with the test data.**\n",
    "\n",
    "**This is also quite clear from the improvement in the MSE value for just the training set: 404.9 with linear regression to 83 with random forest. But we still notice the high MSE value for the test set.**\n",
    "\n",
    "**The model may be too overfitted with the training data. So, we can mitigate some overfitting using cross-validation.**"
   ]
  },
  {
   "cell_type": "code",
   "execution_count": 63,
   "metadata": {
    "collapsed": false
   },
   "outputs": [
    {
     "name": "stdout",
     "output_type": "stream",
     "text": [
      "Average mean squared error across all 5 folds is: \n",
      "571.601880054\n"
     ]
    }
   ],
   "source": [
    "from sklearn.ensemble import RandomForestRegressor\n",
    "rf = RandomForestRegressor(random_state = 1)\n",
    "\n",
    "# import KFold from sklearn\n",
    "from sklearn.cross_validation import KFold\n",
    "\n",
    "# Split the dataset into 5 folds using the iterator\n",
    "kf = KFold(len(X), n_folds=5)\n",
    "\n",
    "# Now use the iterator to get indices of all 5 folds\n",
    "# Initialize mse_test\n",
    "mse_test = 0\n",
    "for train_indices, test_indices in kf:\n",
    "    #print('Train: %s | test: %s' % (train_indices, test_indices))\n",
    "    # Fit a random forest model with all 8 predictors to the training set\n",
    "    rf.fit(X[train_indices], Y[train_indices])\n",
    "    results = rf.predict(X[test_indices])\n",
    "    # Find the mean squared error of each split (test fold) and add it to the previous one\n",
    "    mse_test = mse_test + mean_squared_error(Y[test_indices], rf.predict(X[test_indices]))\n",
    "    \n",
    "print \"Average mean squared error across all 5 folds is: \"\n",
    "print mse_test/5"
   ]
  },
  {
   "cell_type": "markdown",
   "metadata": {},
   "source": [
    "**Our results show that cross-validation does not help in reducing overall MSE. This indicates that there is something missing in the data with respect to salient features. We could not use income data, which might have made a big difference, and allowed to track percentage increase and decrease in crime.**\n",
    "\n",
    "**As an alternative, we can create a predictive model of major crimes for each year using the actual 8 features instead of their percentage differences between 2008 and 2011.**"
   ]
  },
  {
   "cell_type": "code",
   "execution_count": 64,
   "metadata": {
    "collapsed": false
   },
   "outputs": [],
   "source": [
    "# We will remove the percentage of females as the percentage of males is correlated with TMCI for both 2008 and 2011\n",
    "# and is a better predictor. \n",
    "# Let's leave the remaining features as is and use them for prediction using linear regression.\n",
    "forreg2011 = merge2011[['PM','C','Y','A','S','Bus','Emp','SAR','TMCI']]\n",
    "forreg2008 = merge2008[['PM2','C2','Y2','A2','S2','Bus2','Emp2','SAR2','TMCI2']]\n",
    "\n",
    "# Let's define our independent and dependent variables for regression\n",
    "X2011 = forreg2011.iloc[:,0:8].values\n",
    "Y2011 = forreg2011['TMCI'].values\n",
    "\n",
    "X2008 = forreg2008.iloc[:,0:8].values\n",
    "Y2008 = forreg2008['TMCI2'].values"
   ]
  },
  {
   "cell_type": "markdown",
   "metadata": {},
   "source": [
    "**Let's recall what we are predicting here using machine learning. Using all the features, we want to predict the major crimes within each neighbourhood. We are creating two prediction models - one for 2011 and one for 2008**"
   ]
  },
  {
   "cell_type": "code",
   "execution_count": 65,
   "metadata": {
    "collapsed": false
   },
   "outputs": [
    {
     "name": "stdout",
     "output_type": "stream",
     "text": [
      "(98, 8)\n",
      "(42, 8)\n",
      "(98,)\n",
      "(42,)\n"
     ]
    }
   ],
   "source": [
    "# Again, we are using a random split of 70:30 for training vs. test\n",
    "X2011_train, X2011_test, Y2011_train, Y2011_test = sklearn.cross_validation.train_test_split(\n",
    "    X2011, Y2011, test_size=0.30, random_state = 5)\n",
    "print X2011_train.shape\n",
    "print X2011_test.shape\n",
    "print Y2011_train.shape\n",
    "print Y2011_test.shape"
   ]
  },
  {
   "cell_type": "code",
   "execution_count": 66,
   "metadata": {
    "collapsed": false
   },
   "outputs": [
    {
     "name": "stdout",
     "output_type": "stream",
     "text": [
      "(98, 8)\n",
      "(42, 8)\n",
      "(98,)\n",
      "(42,)\n"
     ]
    }
   ],
   "source": [
    "# Likewise, for the 2008 data\n",
    "X2008_train, X2008_test, Y2008_train, Y2008_test = sklearn.cross_validation.train_test_split(\n",
    "    X2008, Y2008, test_size=0.30, random_state = 5)\n",
    "print X2008_train.shape\n",
    "print X2008_test.shape\n",
    "print Y2008_train.shape\n",
    "print Y2008_test.shape"
   ]
  },
  {
   "cell_type": "code",
   "execution_count": 67,
   "metadata": {
    "collapsed": false
   },
   "outputs": [
    {
     "name": "stdout",
     "output_type": "stream",
     "text": [
      "R-squared for 2011 model training data: \n",
      "0.707429445364\n",
      "\n",
      "R-squared for 2008 model training data: \n",
      "0.715766205168\n",
      "\n",
      "Total major crime per 1000 for 5 five neighbourhoods in the 2011 test set:\n",
      "[ 22.49129055  22.90672117   8.74006945  12.55049037  26.20295548]\n",
      "\n",
      "Total major crime per 1000 for 5 five neighbourhoods in the 2008 test set:\n",
      "[ 23.05906907  20.92184533   9.87536331  11.26654225  19.82301645]\n",
      "\n",
      "Mean squared error on the test set for 2011: \n",
      "40.6697421551\n",
      "Mean squared error on the training set for 2011: \n",
      "22.3433271651\n",
      "\n",
      "Mean squared error on the test set for 2008: \n",
      "46.589053144\n",
      "Mean squared error on the training set for 2008: \n",
      "40.8675396717\n"
     ]
    }
   ],
   "source": [
    "# Let's create two instances of the linear regression model.\n",
    "lm2011 = LinearRegression()\n",
    "lm2008 = LinearRegression()\n",
    "\n",
    "# Now, train the model with all the 8 predictors only using the training set\n",
    "lm2011.fit(X2011_train, Y2011_train)\n",
    "lm2008.fit(X2008_train, Y2008_train)\n",
    "\n",
    "# First, we can check to see how much of the variance in the training data is captured by the models.\n",
    "# We can compute R-squared for this.\n",
    "from sklearn.metrics import r2_score\n",
    "print \"R-squared for 2011 model training data: \"\n",
    "print r2_score(Y2011_train, lm2011.predict(X2011_train)) \n",
    "print\n",
    "print \"R-squared for 2008 model training data: \"\n",
    "print r2_score(Y2008_train, lm2008.predict(X2008_train)) \n",
    "print\n",
    "\n",
    "# Predict the output on the test set and print the first five values\n",
    "print \"Total major crime per 1000 for 5 five neighbourhoods in the 2011 test set:\"\n",
    "print lm2011.predict(X2011_test)[0:5]\n",
    "print\n",
    "print \"Total major crime per 1000 for 5 five neighbourhoods in the 2008 test set:\"\n",
    "print lm2008.predict(X2008_test)[0:5]\n",
    "print\n",
    "\n",
    "# Look at the mean squared error on the test set first and then on the training set.\n",
    "from sklearn.metrics import mean_squared_error\n",
    "print \"Mean squared error on the test set for 2011: \"\n",
    "print mean_squared_error(Y2011_test, lm2011.predict(X2011_test))\n",
    "print \"Mean squared error on the training set for 2011: \"\n",
    "print mean_squared_error(Y2011_train, lm2011.predict(X2011_train))\n",
    "print\n",
    "print \"Mean squared error on the test set for 2008: \"\n",
    "print mean_squared_error(Y2008_test, lm2008.predict(X2008_test))\n",
    "print \"Mean squared error on the training set for 2008: \"\n",
    "print mean_squared_error(Y2008_train, lm2008.predict(X2008_train))"
   ]
  },
  {
   "cell_type": "markdown",
   "metadata": {},
   "source": [
    "**We notice that both models for years 2011 and 2008 explain variance (R-squared) in the training data about the same - 0.71 and 0.72 respectively for 2011 and 2008.**\n",
    "\n",
    "**This difference is reflected in the MSE values for training and test data as well. We notice that the 2011 model has much bigger difference in MSE values between the training and test data, although it seems to be performing better than the 2008 model on the test data. So, with the features that we have used, we seem to have a superior predictive model for major crime for year 2011 rather than 2008. However, we cannot confirm this as it seems to be overfitted based on MSE values.**\n",
    "\n",
    "**Let's look at the residual plots for both these models.**"
   ]
  },
  {
   "cell_type": "code",
   "execution_count": 68,
   "metadata": {
    "collapsed": false
   },
   "outputs": [
    {
     "data": {
      "text/plain": [
       "<matplotlib.text.Text at 0x117acd150>"
      ]
     },
     "execution_count": 68,
     "metadata": {},
     "output_type": "execute_result"
    },
    {
     "data": {
      "image/png": "[encoded data removed]",
      "text/plain": [
       "<matplotlib.figure.Figure at 0x117aab050>"
      ]
     },
     "metadata": {},
     "output_type": "display_data"
    }
   ],
   "source": [
    "# 2011\n",
    "plt.figure(figsize=(8,8))\n",
    "plt.scatter(lm2011.predict(X2011_train), lm2011.predict(X2011_train) - Y2011_train, c='b', s=60, alpha=0.5)\n",
    "plt.scatter(lm2011.predict(X2011_test), lm2011.predict(X2011_test) - Y2011_test, c='r', s=60)\n",
    "plt.hlines(y = 0, xmin=0, xmax = 60)\n",
    "plt.title('Residual Plot using training (blue) and test (green) data for 2011')\n",
    "plt.ylabel('Residuals')"
   ]
  },
  {
   "cell_type": "code",
   "execution_count": 69,
   "metadata": {
    "collapsed": false
   },
   "outputs": [
    {
     "data": {
      "text/plain": [
       "<matplotlib.text.Text at 0x117b42210>"
      ]
     },
     "execution_count": 69,
     "metadata": {},
     "output_type": "execute_result"
    },
    {
     "data": {
      "image/png": "[encoded data removed]",
      "text/plain": [
       "<matplotlib.figure.Figure at 0x117b33ed0>"
      ]
     },
     "metadata": {},
     "output_type": "display_data"
    }
   ],
   "source": [
    "# 2008\n",
    "plt.figure(figsize=(8,8))\n",
    "plt.scatter(lm2008.predict(X2008_train), lm2008.predict(X2008_train) - Y2008_train, c='b', s=60, alpha=0.5)\n",
    "plt.scatter(lm2008.predict(X2008_test), lm2008.predict(X2008_test) - Y2008_test, c='r', s=60)\n",
    "plt.hlines(y = 0, xmin=0, xmax = 60)\n",
    "plt.title('Residual Plot using training (blue) and test (green) data for 2008')\n",
    "plt.ylabel('Residuals')"
   ]
  },
  {
   "cell_type": "markdown",
   "metadata": {},
   "source": [
    "**Although for the most part, the models are homoscedastic, both models show a small amount of heterscedasticity and some ceiling effects.**\n",
    "\n",
    "**Let's see how these models behave with a more flexible model - Random Forest Regression.**"
   ]
  },
  {
   "cell_type": "code",
   "execution_count": 70,
   "metadata": {
    "collapsed": false
   },
   "outputs": [
    {
     "name": "stdout",
     "output_type": "stream",
     "text": [
      "R-squared for training data - Year 2011: \n",
      "0.90810209001\n",
      "R-squared for test data - Year 2011: \n",
      "0.433081455561\n",
      "\n",
      "R-squared for training data - Year 2008: \n",
      "0.924488927523\n",
      "R-squared for test data - Year 2008: \n",
      "0.611645600706\n",
      "\n",
      "Total major crime per 1000 for 5 five neighbourhoods in the test set - Year 2011:\n",
      "[ 19.36443642  24.00261533   9.47139405  12.75184862  24.39843898]\n",
      "\n",
      "Total major crime per 1000 for 5 five neighbourhoods in the test set - Year 2008:\n",
      "[ 21.6176344   22.65527017  10.94419173  12.39006113  24.35623476]\n",
      "\n",
      "Mean squared error on the test set - Year 2011: \n",
      "118.422510495\n",
      "Mean squared error on the training set - Year 2011: \n",
      "153.26885331\n",
      "\n",
      "Mean squared error on the test set - Year 2008: \n",
      "156.427779532\n",
      "Mean squared error on the training set - Year 2008: \n",
      "10.8570895024\n"
     ]
    }
   ],
   "source": [
    "from sklearn.ensemble import RandomForestRegressor\n",
    "\n",
    "# Create two instances of the Random Forest model.\n",
    "rf2011 = RandomForestRegressor(random_state = 1)\n",
    "rf2008 = RandomForestRegressor(random_state = 1)\n",
    "\n",
    "# Now, train the model with all the 8 predictors only using the training set\n",
    "rf2011.fit(X2011_train, Y2011_train)\n",
    "rf2008.fit(X2008_train, Y2008_train)\n",
    "\n",
    "# First, we can check to see how much of the variance in the training data is captured by the model.\n",
    "# We can compute R-squared for this (also referred to as the coefficient of determination).\n",
    "print \"R-squared for training data - Year 2011: \"\n",
    "print rf2011.score(X2011_train,Y2011_train) \n",
    "print \"R-squared for test data - Year 2011: \"\n",
    "print rf2011.score(X2011_test,Y2011_test) \n",
    "print\n",
    "print \"R-squared for training data - Year 2008: \"\n",
    "print rf2008.score(X2008_train,Y2008_train) \n",
    "print \"R-squared for test data - Year 2008: \"\n",
    "print rf2008.score(X2008_test,Y2008_test) \n",
    "print\n",
    "\n",
    "# Predict the output on the test set and print the first five values\n",
    "print \"Total major crime per 1000 for 5 five neighbourhoods in the test set - Year 2011:\"\n",
    "print rf2011.predict(X2011_test)[0:5]\n",
    "print\n",
    "print \"Total major crime per 1000 for 5 five neighbourhoods in the test set - Year 2008:\"\n",
    "print rf2011.predict(X2008_test)[0:5]\n",
    "print\n",
    "\n",
    "# Look at the mean squared error on the test set first and then on the training set.\n",
    "from sklearn.metrics import mean_squared_error\n",
    "print \"Mean squared error on the test set - Year 2011: \"\n",
    "print mean_squared_error(Y2011_test, rf2011.predict(X_test))\n",
    "print \"Mean squared error on the training set - Year 2011: \"\n",
    "print mean_squared_error(Y2011_train, rf2011.predict(X_train))\n",
    "print\n",
    "print \"Mean squared error on the test set - Year 2008: \"\n",
    "print mean_squared_error(Y2008_test, rf2008.predict(X_test))\n",
    "print \"Mean squared error on the training set - Year 2008: \"\n",
    "print mean_squared_error(Y2008_train, rf2008.predict(X2008_train))"
   ]
  },
  {
   "cell_type": "markdown",
   "metadata": {},
   "source": [
    "**The evaluation results show some interesting points:**\n",
    "\n",
    "**1. Random Forest models for both years fit well with the training data, based on the R-squared values.**\n",
    "\n",
    "**2. The 2008 model seems to perform better with test data than the 2011 model, based on explained variance (R-squared).**\n",
    "\n",
    "**3. But when we look at the MSE values for models from both years, the 2011 model performs better with the test data than the 2008 model.**\n",
    "\n",
    "**4. From the MSE values on the training data, it looks like the 2008 model is overfitted.**\n",
    "\n",
    "**5. Various interesting extensions are possible for future work. Income data of some form should be included. Additional metrics that quantify urbanization should also be included. Both these variables can affect the crime within each neighbourhood. Also, the population of Toronto is estimated to grow by 30% within the next 25 years. So, some measure accounting for population growth should be included.**"
   ]
  },
  {
   "cell_type": "code",
   "execution_count": 78,
   "metadata": {
    "collapsed": false
   },
   "outputs": [
    {
     "data": {
      "text/plain": [
       "array([ 0.19496693,  0.08830489,  0.05899666,  0.03671232,  0.04459215,\n",
       "        0.20660158,  0.06922025,  0.30060522])"
      ]
     },
     "execution_count": 78,
     "metadata": {},
     "output_type": "execute_result"
    }
   ],
   "source": [
    "# One additional thing we can do is find the most important features in the prediction models for 2008 and 2011.\n",
    "rf2011.feature_importances_"
   ]
  },
  {
   "cell_type": "code",
   "execution_count": 79,
   "metadata": {
    "collapsed": false
   },
   "outputs": [
    {
     "data": {
      "image/png": "[encoded data removed]",
      "text/plain": [
       "<matplotlib.figure.Figure at 0x118307450>"
      ]
     },
     "metadata": {},
     "output_type": "display_data"
    },
    {
     "data": {
      "text/plain": [
       "<matplotlib.figure.Figure at 0x118307210>"
      ]
     },
     "metadata": {},
     "output_type": "display_data"
    }
   ],
   "source": [
    "N = 8\n",
    "fimp2008 = rf2008.feature_importances_\n",
    "\n",
    "ind = np.arange(N)  # the x locations for the groups\n",
    "width = 0.35       # the width of the bars\n",
    "\n",
    "\n",
    "fig, ax = plt.subplots()\n",
    "fig = plt.figure(figsize=(8,8))\n",
    "rects1 = ax.bar(ind, fimp2008, width, color='g', yerr=None)\n",
    "\n",
    "fimp2011 = rf2011.feature_importances_\n",
    "rects2 = ax.bar(ind + width, fimp2011, width, color='y', yerr=None)\n",
    "\n",
    "# add some text for labels, title and axes ticks\n",
    "\n",
    "ax.set_ylabel('Feature importance')\n",
    "ax.set_title('Feature importance for crime prediction')\n",
    "ax.set_xticks(ind + width)\n",
    "ax.set_xticklabels(('PM', 'C', 'Y', 'A', 'S', 'Bus', 'Emp', 'SAR'))\n",
    "\n",
    "ax.legend((rects1[0], rects2[0]), ('2008', '2011'))\n",
    "\n",
    "def autolabel(rects):\n",
    "    # attach some text labels\n",
    "    for rect in rects:\n",
    "        height = rect.get_height()\n",
    "        ax.text(rect.get_x() + rect.get_width()/2., 1.05*height,\n",
    "                '%d' % int(height),\n",
    "                ha='center', va='bottom')\n",
    "\n",
    "autolabel(rects1)\n",
    "autolabel(rects2)\n",
    "\n",
    "plt.show()"
   ]
  },
  {
   "cell_type": "code",
   "execution_count": null,
   "metadata": {
    "collapsed": true
   },
   "outputs": [],
   "source": []
  }
 ],
 "metadata": {
  "kernelspec": {
   "display_name": "Python 2",
   "language": "python",
   "name": "python2"
  },
  "language_info": {
   "codemirror_mode": {
    "name": "ipython",
    "version": 2
   },
   "file_extension": ".py",
   "mimetype": "text/x-python",
   "name": "python",
   "nbconvert_exporter": "python",
   "pygments_lexer": "ipython2",
   "version": "2.7.12"
  }
 },
 "nbformat": 4,
 "nbformat_minor": 0
}
