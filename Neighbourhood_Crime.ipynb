{
 "cells": [
  {
   "cell_type": "markdown",
   "metadata": {},
   "source": [
    "# Crime in Toronto's Neighbourhoods\n",
    "\n",
    "This is an ongoing project that uses data from Toronto's [Open Data](http://www1.toronto.ca/wps/portal/contentonly?vgnextoid=9e56e03bb8d1e310VgnVCM10000071d60f89RCRD), which consists of over 200 datasets provided by the City of Toronto. These datasets are organized into 15 different categories.\n",
    "\n",
    "For this project, I will focus only on crime in Toronto's neighbourhoods and will likely use two or three datasets. I downloaded the raw datasets as excel sheets and converted them into csv files. Toronto is considered to be a safe city in comparison to other big cities. In a 2015 article in the Economist, Toronto was ranked as the safest major city in North America and the eighth safest major city in the world, as cited in [Wikipedia](https://en.wikipedia.org/wiki/Crime_in_Toronto). Nevertheless, crime trends in a major city such as Toronto are still worth exploring.\n",
    "\n",
    "For the current project, I am exploring the following topics in no particular order. These topics are dynamic and might change on an ongoing basis.\n",
    "\n",
    "1) Provide a summarized visualization of all the major crimes in Toronto\n",
    "(May need to do this with number of crimes divided by the population of that neighbourhood to normalize)\n",
    "\n",
    "2) Compare 2008 data against 2011 data. Do a box plot comparison of years side by side. How have things changed?\n",
    "\n",
    "3) Compare 3 most crime prone neighbourhoods against 3 least crime prone neighbourhoods.\n",
    "\n",
    "4) What is the difference in these neighbourhoods wrt median household income (look into demographics table), and education? Which is the most prominent age group of people? Does this in any way affect crime? (Plot some correlations)\n",
    "\n",
    "5) Get standardized scores of \"total major crime incidents\" in each neighbourhood (z-scores). What is the neighbourhood with the most change?\n",
    "\n",
    "6) What is the reason for number 5. Can the data give us an answer?\n",
    "\n",
    "7) Finally, come up with something predictive (preferably using machine learning).\n",
    "\n",
    "#### Import all the libraries"
   ]
  },
  {
   "cell_type": "code",
   "execution_count": 1,
   "metadata": {
    "collapsed": true
   },
   "outputs": [],
   "source": [
    "import numpy as np\n",
    "import pandas as pd\n",
    "import matplotlib.pyplot as plt\n",
    "import seaborn as sns"
   ]
  },
  {
   "cell_type": "markdown",
   "metadata": {},
   "source": [
    "#### Seaborn settings"
   ]
  },
  {
   "cell_type": "code",
   "execution_count": 2,
   "metadata": {
    "collapsed": true
   },
   "outputs": [],
   "source": [
    "# seaborn setting\n",
    "sns.set_palette(\"deep\", desat=.6)\n",
    "sns.set_context(rc={\"figure.figsize\": (8,4)})"
   ]
  },
  {
   "cell_type": "markdown",
   "metadata": {},
   "source": [
    "#### Read the data files as pandas dataframes"
   ]
  },
  {
   "cell_type": "code",
   "execution_count": 3,
   "metadata": {
    "collapsed": false
   },
   "outputs": [],
   "source": [
    "c = pd.read_csv('TorontoCrime2011.csv')\n",
    "d = pd.read_csv('TorontoDemographics2011.csv')\n",
    "\n",
    "# Also read in the 2008 data files\n",
    "c2 = pd.read_csv('TorontoCrime2008.csv')\n",
    "d2 = pd.read_csv('TorontoDemographics2008.csv')"
   ]
  },
  {
   "cell_type": "markdown",
   "metadata": {},
   "source": [
    "#### Let's take a quick look at the top few rows of the 2011 and 2008 Toronto Crime dataframes."
   ]
  },
  {
   "cell_type": "code",
   "execution_count": 4,
   "metadata": {
    "collapsed": false
   },
   "outputs": [
    {
     "data": {
      "text/html": [
       "<div>\n",
       "<table border=\"1\" class=\"dataframe\">\n",
       "  <thead>\n",
       "    <tr style=\"text-align: right;\">\n",
       "      <th></th>\n",
       "      <th>Neighbourhood</th>\n",
       "      <th>Neighbourhood Id</th>\n",
       "      <th>Arsons</th>\n",
       "      <th>Assaults</th>\n",
       "      <th>Break &amp; Enters</th>\n",
       "      <th>Drug Arrests</th>\n",
       "      <th>Fire Medical Calls</th>\n",
       "      <th>Fire Vehicle Incidents</th>\n",
       "      <th>Fires &amp; Fire Alarms</th>\n",
       "      <th>Hazardous Incidents</th>\n",
       "      <th>Murders</th>\n",
       "      <th>Robberies</th>\n",
       "      <th>Sexual Assaults</th>\n",
       "      <th>Thefts</th>\n",
       "      <th>Total Major Crime Incidents</th>\n",
       "      <th>Vehicle Thefts</th>\n",
       "    </tr>\n",
       "  </thead>\n",
       "  <tbody>\n",
       "    <tr>\n",
       "      <th>0</th>\n",
       "      <td>West Humber-Clairville</td>\n",
       "      <td>1</td>\n",
       "      <td>4</td>\n",
       "      <td>390</td>\n",
       "      <td>175</td>\n",
       "      <td>62</td>\n",
       "      <td>1321</td>\n",
       "      <td>502</td>\n",
       "      <td>705</td>\n",
       "      <td>210</td>\n",
       "      <td>0</td>\n",
       "      <td>82</td>\n",
       "      <td>68</td>\n",
       "      <td>54</td>\n",
       "      <td>1119</td>\n",
       "      <td>288</td>\n",
       "    </tr>\n",
       "    <tr>\n",
       "      <th>1</th>\n",
       "      <td>Mount Olive-Silverstone-Jamestown</td>\n",
       "      <td>2</td>\n",
       "      <td>3</td>\n",
       "      <td>316</td>\n",
       "      <td>61</td>\n",
       "      <td>90</td>\n",
       "      <td>1016</td>\n",
       "      <td>59</td>\n",
       "      <td>361</td>\n",
       "      <td>176</td>\n",
       "      <td>1</td>\n",
       "      <td>78</td>\n",
       "      <td>75</td>\n",
       "      <td>7</td>\n",
       "      <td>690</td>\n",
       "      <td>62</td>\n",
       "    </tr>\n",
       "    <tr>\n",
       "      <th>2</th>\n",
       "      <td>Thistletown-Beaumond Heights</td>\n",
       "      <td>3</td>\n",
       "      <td>0</td>\n",
       "      <td>85</td>\n",
       "      <td>36</td>\n",
       "      <td>16</td>\n",
       "      <td>323</td>\n",
       "      <td>48</td>\n",
       "      <td>90</td>\n",
       "      <td>34</td>\n",
       "      <td>0</td>\n",
       "      <td>17</td>\n",
       "      <td>24</td>\n",
       "      <td>2</td>\n",
       "      <td>192</td>\n",
       "      <td>12</td>\n",
       "    </tr>\n",
       "    <tr>\n",
       "      <th>3</th>\n",
       "      <td>Rexdale-Kipling</td>\n",
       "      <td>4</td>\n",
       "      <td>0</td>\n",
       "      <td>59</td>\n",
       "      <td>32</td>\n",
       "      <td>15</td>\n",
       "      <td>305</td>\n",
       "      <td>34</td>\n",
       "      <td>94</td>\n",
       "      <td>55</td>\n",
       "      <td>1</td>\n",
       "      <td>16</td>\n",
       "      <td>20</td>\n",
       "      <td>3</td>\n",
       "      <td>164</td>\n",
       "      <td>18</td>\n",
       "    </tr>\n",
       "    <tr>\n",
       "      <th>4</th>\n",
       "      <td>Elms-Old Rexdale</td>\n",
       "      <td>5</td>\n",
       "      <td>1</td>\n",
       "      <td>77</td>\n",
       "      <td>25</td>\n",
       "      <td>14</td>\n",
       "      <td>321</td>\n",
       "      <td>71</td>\n",
       "      <td>107</td>\n",
       "      <td>43</td>\n",
       "      <td>0</td>\n",
       "      <td>23</td>\n",
       "      <td>5</td>\n",
       "      <td>19</td>\n",
       "      <td>185</td>\n",
       "      <td>22</td>\n",
       "    </tr>\n",
       "  </tbody>\n",
       "</table>\n",
       "</div>"
      ],
      "text/plain": [
       "                       Neighbourhood  Neighbourhood Id  Arsons  Assaults  \\\n",
       "0             West Humber-Clairville                 1       4       390   \n",
       "1  Mount Olive-Silverstone-Jamestown                 2       3       316   \n",
       "2       Thistletown-Beaumond Heights                 3       0        85   \n",
       "3                    Rexdale-Kipling                 4       0        59   \n",
       "4                   Elms-Old Rexdale                 5       1        77   \n",
       "\n",
       "   Break & Enters  Drug Arrests  Fire Medical Calls  Fire Vehicle Incidents  \\\n",
       "0             175            62                1321                     502   \n",
       "1              61            90                1016                      59   \n",
       "2              36            16                 323                      48   \n",
       "3              32            15                 305                      34   \n",
       "4              25            14                 321                      71   \n",
       "\n",
       "   Fires & Fire Alarms  Hazardous Incidents  Murders  Robberies  \\\n",
       "0                  705                  210        0         82   \n",
       "1                  361                  176        1         78   \n",
       "2                   90                   34        0         17   \n",
       "3                   94                   55        1         16   \n",
       "4                  107                   43        0         23   \n",
       "\n",
       "   Sexual Assaults  Thefts  Total Major Crime Incidents  Vehicle Thefts  \n",
       "0               68      54                         1119             288  \n",
       "1               75       7                          690              62  \n",
       "2               24       2                          192              12  \n",
       "3               20       3                          164              18  \n",
       "4                5      19                          185              22  "
      ]
     },
     "execution_count": 4,
     "metadata": {},
     "output_type": "execute_result"
    }
   ],
   "source": [
    "#2011 dataframe\n",
    "c.head()"
   ]
  },
  {
   "cell_type": "code",
   "execution_count": 5,
   "metadata": {
    "collapsed": false
   },
   "outputs": [
    {
     "data": {
      "text/html": [
       "<div>\n",
       "<table border=\"1\" class=\"dataframe\">\n",
       "  <thead>\n",
       "    <tr style=\"text-align: right;\">\n",
       "      <th></th>\n",
       "      <th>Neighbourhood</th>\n",
       "      <th>Neighbourhood Id</th>\n",
       "      <th>Ambulance Calls</th>\n",
       "      <th>Ambulance Referrals</th>\n",
       "      <th>Arsons</th>\n",
       "      <th>Assaults</th>\n",
       "      <th>Break &amp; Enters</th>\n",
       "      <th>Drug Arrests</th>\n",
       "      <th>Fire Vehicle Incidents</th>\n",
       "      <th>Firearms Incidents</th>\n",
       "      <th>Fires &amp; Fire Alarms</th>\n",
       "      <th>Hazardous Incidents</th>\n",
       "      <th>Murders</th>\n",
       "      <th>Robberies</th>\n",
       "      <th>Sexual Assaults</th>\n",
       "      <th>TCHC Safety Incidents</th>\n",
       "      <th>Thefts</th>\n",
       "      <th>Vehicle Thefts</th>\n",
       "    </tr>\n",
       "  </thead>\n",
       "  <tbody>\n",
       "    <tr>\n",
       "      <th>0</th>\n",
       "      <td>West Humber-Clairville</td>\n",
       "      <td>1</td>\n",
       "      <td>3613</td>\n",
       "      <td>10</td>\n",
       "      <td>4</td>\n",
       "      <td>272</td>\n",
       "      <td>193</td>\n",
       "      <td>88</td>\n",
       "      <td>674</td>\n",
       "      <td>3</td>\n",
       "      <td>135</td>\n",
       "      <td>269</td>\n",
       "      <td>1</td>\n",
       "      <td>85</td>\n",
       "      <td>21</td>\n",
       "      <td>62</td>\n",
       "      <td>42</td>\n",
       "      <td>341</td>\n",
       "    </tr>\n",
       "    <tr>\n",
       "      <th>1</th>\n",
       "      <td>Mount Olive-Silverstone-Jamestown</td>\n",
       "      <td>2</td>\n",
       "      <td>2229</td>\n",
       "      <td>5</td>\n",
       "      <td>0</td>\n",
       "      <td>269</td>\n",
       "      <td>88</td>\n",
       "      <td>145</td>\n",
       "      <td>52</td>\n",
       "      <td>11</td>\n",
       "      <td>70</td>\n",
       "      <td>163</td>\n",
       "      <td>0</td>\n",
       "      <td>80</td>\n",
       "      <td>23</td>\n",
       "      <td>426</td>\n",
       "      <td>6</td>\n",
       "      <td>113</td>\n",
       "    </tr>\n",
       "    <tr>\n",
       "      <th>2</th>\n",
       "      <td>Thistletown-Beaumond Heights</td>\n",
       "      <td>3</td>\n",
       "      <td>793</td>\n",
       "      <td>5</td>\n",
       "      <td>0</td>\n",
       "      <td>66</td>\n",
       "      <td>30</td>\n",
       "      <td>27</td>\n",
       "      <td>20</td>\n",
       "      <td>0</td>\n",
       "      <td>26</td>\n",
       "      <td>48</td>\n",
       "      <td>0</td>\n",
       "      <td>23</td>\n",
       "      <td>5</td>\n",
       "      <td>89</td>\n",
       "      <td>2</td>\n",
       "      <td>16</td>\n",
       "    </tr>\n",
       "    <tr>\n",
       "      <th>3</th>\n",
       "      <td>Rexdale-Kipling</td>\n",
       "      <td>4</td>\n",
       "      <td>664</td>\n",
       "      <td>5</td>\n",
       "      <td>0</td>\n",
       "      <td>49</td>\n",
       "      <td>28</td>\n",
       "      <td>17</td>\n",
       "      <td>14</td>\n",
       "      <td>0</td>\n",
       "      <td>26</td>\n",
       "      <td>64</td>\n",
       "      <td>0</td>\n",
       "      <td>16</td>\n",
       "      <td>6</td>\n",
       "      <td>48</td>\n",
       "      <td>0</td>\n",
       "      <td>25</td>\n",
       "    </tr>\n",
       "    <tr>\n",
       "      <th>4</th>\n",
       "      <td>Elms-Old Rexdale</td>\n",
       "      <td>5</td>\n",
       "      <td>836</td>\n",
       "      <td>3</td>\n",
       "      <td>2</td>\n",
       "      <td>49</td>\n",
       "      <td>22</td>\n",
       "      <td>8</td>\n",
       "      <td>45</td>\n",
       "      <td>1</td>\n",
       "      <td>23</td>\n",
       "      <td>52</td>\n",
       "      <td>0</td>\n",
       "      <td>26</td>\n",
       "      <td>3</td>\n",
       "      <td>138</td>\n",
       "      <td>2</td>\n",
       "      <td>17</td>\n",
       "    </tr>\n",
       "  </tbody>\n",
       "</table>\n",
       "</div>"
      ],
      "text/plain": [
       "                       Neighbourhood  Neighbourhood Id  Ambulance Calls  \\\n",
       "0             West Humber-Clairville                 1             3613   \n",
       "1  Mount Olive-Silverstone-Jamestown                 2             2229   \n",
       "2       Thistletown-Beaumond Heights                 3              793   \n",
       "3                    Rexdale-Kipling                 4              664   \n",
       "4                   Elms-Old Rexdale                 5              836   \n",
       "\n",
       "   Ambulance Referrals  Arsons  Assaults  Break & Enters  Drug Arrests  \\\n",
       "0                   10       4       272             193            88   \n",
       "1                    5       0       269              88           145   \n",
       "2                    5       0        66              30            27   \n",
       "3                    5       0        49              28            17   \n",
       "4                    3       2        49              22             8   \n",
       "\n",
       "   Fire Vehicle Incidents  Firearms Incidents  Fires & Fire Alarms  \\\n",
       "0                     674                   3                  135   \n",
       "1                      52                  11                   70   \n",
       "2                      20                   0                   26   \n",
       "3                      14                   0                   26   \n",
       "4                      45                   1                   23   \n",
       "\n",
       "   Hazardous Incidents  Murders  Robberies  Sexual Assaults  \\\n",
       "0                  269        1         85               21   \n",
       "1                  163        0         80               23   \n",
       "2                   48        0         23                5   \n",
       "3                   64        0         16                6   \n",
       "4                   52        0         26                3   \n",
       "\n",
       "   TCHC Safety Incidents  Thefts  Vehicle Thefts  \n",
       "0                     62      42             341  \n",
       "1                    426       6             113  \n",
       "2                     89       2              16  \n",
       "3                     48       0              25  \n",
       "4                    138       2              17  "
      ]
     },
     "execution_count": 5,
     "metadata": {},
     "output_type": "execute_result"
    }
   ],
   "source": [
    "#2008 dataframe\n",
    "c2.head()"
   ]
  },
  {
   "cell_type": "markdown",
   "metadata": {},
   "source": [
    "We notice a few differences between the crime datasets for 2008 and 2011, where 2008 does not have a column for total major crimes. Now, let's take a look at the top few rows of the 2011 and 2008 Toronto Demographics dataframes."
   ]
  },
  {
   "cell_type": "code",
   "execution_count": 6,
   "metadata": {
    "collapsed": false
   },
   "outputs": [
    {
     "data": {
      "text/html": [
       "<div>\n",
       "<table border=\"1\" class=\"dataframe\">\n",
       "  <thead>\n",
       "    <tr style=\"text-align: right;\">\n",
       "      <th></th>\n",
       "      <th>Neighbourhood</th>\n",
       "      <th>Neighbourhood Id</th>\n",
       "      <th>Total Area</th>\n",
       "      <th>Total Population</th>\n",
       "      <th>Pop - Males</th>\n",
       "      <th>Pop - Females</th>\n",
       "      <th>Pop 0 - 4 years</th>\n",
       "      <th>Pop 5 - 9 years</th>\n",
       "      <th>Pop 10 - 14 years</th>\n",
       "      <th>Pop 15 -19 years</th>\n",
       "      <th>...</th>\n",
       "      <th>Language - Chinese</th>\n",
       "      <th>Language - Italian</th>\n",
       "      <th>Language - Korean</th>\n",
       "      <th>Language - Persian (Farsi)</th>\n",
       "      <th>Language - Portuguese</th>\n",
       "      <th>Language - Russian</th>\n",
       "      <th>Language - Spanish</th>\n",
       "      <th>Language - Tagalog</th>\n",
       "      <th>Language - Tamil</th>\n",
       "      <th>Language - Urdu</th>\n",
       "    </tr>\n",
       "  </thead>\n",
       "  <tbody>\n",
       "    <tr>\n",
       "      <th>0</th>\n",
       "      <td>West Humber-Clairville</td>\n",
       "      <td>1</td>\n",
       "      <td>30.09</td>\n",
       "      <td>34100</td>\n",
       "      <td>17095</td>\n",
       "      <td>17000</td>\n",
       "      <td>1865</td>\n",
       "      <td>1950</td>\n",
       "      <td>2155</td>\n",
       "      <td>2550</td>\n",
       "      <td>...</td>\n",
       "      <td>475</td>\n",
       "      <td>925</td>\n",
       "      <td>95</td>\n",
       "      <td>160</td>\n",
       "      <td>205</td>\n",
       "      <td>15</td>\n",
       "      <td>1100</td>\n",
       "      <td>850</td>\n",
       "      <td>715</td>\n",
       "      <td>715</td>\n",
       "    </tr>\n",
       "    <tr>\n",
       "      <th>1</th>\n",
       "      <td>Mount Olive-Silverstone-Jamestown</td>\n",
       "      <td>2</td>\n",
       "      <td>4.60</td>\n",
       "      <td>32790</td>\n",
       "      <td>16015</td>\n",
       "      <td>16765</td>\n",
       "      <td>2575</td>\n",
       "      <td>2535</td>\n",
       "      <td>2555</td>\n",
       "      <td>2620</td>\n",
       "      <td>...</td>\n",
       "      <td>275</td>\n",
       "      <td>750</td>\n",
       "      <td>60</td>\n",
       "      <td>350</td>\n",
       "      <td>115</td>\n",
       "      <td>50</td>\n",
       "      <td>820</td>\n",
       "      <td>345</td>\n",
       "      <td>1420</td>\n",
       "      <td>1075</td>\n",
       "    </tr>\n",
       "    <tr>\n",
       "      <th>2</th>\n",
       "      <td>Thistletown-Beaumond Heights</td>\n",
       "      <td>3</td>\n",
       "      <td>3.40</td>\n",
       "      <td>10140</td>\n",
       "      <td>4920</td>\n",
       "      <td>5225</td>\n",
       "      <td>575</td>\n",
       "      <td>580</td>\n",
       "      <td>670</td>\n",
       "      <td>675</td>\n",
       "      <td>...</td>\n",
       "      <td>95</td>\n",
       "      <td>705</td>\n",
       "      <td>35</td>\n",
       "      <td>115</td>\n",
       "      <td>105</td>\n",
       "      <td>15</td>\n",
       "      <td>570</td>\n",
       "      <td>130</td>\n",
       "      <td>120</td>\n",
       "      <td>300</td>\n",
       "    </tr>\n",
       "    <tr>\n",
       "      <th>3</th>\n",
       "      <td>Rexdale-Kipling</td>\n",
       "      <td>4</td>\n",
       "      <td>2.50</td>\n",
       "      <td>10485</td>\n",
       "      <td>5035</td>\n",
       "      <td>5455</td>\n",
       "      <td>495</td>\n",
       "      <td>520</td>\n",
       "      <td>570</td>\n",
       "      <td>665</td>\n",
       "      <td>...</td>\n",
       "      <td>95</td>\n",
       "      <td>475</td>\n",
       "      <td>30</td>\n",
       "      <td>95</td>\n",
       "      <td>145</td>\n",
       "      <td>30</td>\n",
       "      <td>700</td>\n",
       "      <td>180</td>\n",
       "      <td>70</td>\n",
       "      <td>215</td>\n",
       "    </tr>\n",
       "    <tr>\n",
       "      <th>4</th>\n",
       "      <td>Elms-Old Rexdale</td>\n",
       "      <td>5</td>\n",
       "      <td>2.90</td>\n",
       "      <td>9550</td>\n",
       "      <td>4615</td>\n",
       "      <td>4935</td>\n",
       "      <td>670</td>\n",
       "      <td>720</td>\n",
       "      <td>720</td>\n",
       "      <td>725</td>\n",
       "      <td>...</td>\n",
       "      <td>90</td>\n",
       "      <td>510</td>\n",
       "      <td>55</td>\n",
       "      <td>285</td>\n",
       "      <td>80</td>\n",
       "      <td>30</td>\n",
       "      <td>670</td>\n",
       "      <td>195</td>\n",
       "      <td>60</td>\n",
       "      <td>140</td>\n",
       "    </tr>\n",
       "  </tbody>\n",
       "</table>\n",
       "<p>5 rows × 39 columns</p>\n",
       "</div>"
      ],
      "text/plain": [
       "                       Neighbourhood  Neighbourhood Id  Total Area  \\\n",
       "0             West Humber-Clairville                 1       30.09   \n",
       "1  Mount Olive-Silverstone-Jamestown                 2        4.60   \n",
       "2       Thistletown-Beaumond Heights                 3        3.40   \n",
       "3                    Rexdale-Kipling                 4        2.50   \n",
       "4                   Elms-Old Rexdale                 5        2.90   \n",
       "\n",
       "   Total Population  Pop - Males  Pop - Females  Pop 0 - 4 years  \\\n",
       "0             34100        17095          17000             1865   \n",
       "1             32790        16015          16765             2575   \n",
       "2             10140         4920           5225              575   \n",
       "3             10485         5035           5455              495   \n",
       "4              9550         4615           4935              670   \n",
       "\n",
       "   Pop 5 - 9 years  Pop 10 - 14 years  Pop 15 -19 years         ...          \\\n",
       "0             1950               2155              2550         ...           \n",
       "1             2535               2555              2620         ...           \n",
       "2              580                670               675         ...           \n",
       "3              520                570               665         ...           \n",
       "4              720                720               725         ...           \n",
       "\n",
       "      Language - Chinese     Language - Italian     Language - Korean  \\\n",
       "0                    475                    925                    95   \n",
       "1                    275                    750                    60   \n",
       "2                     95                    705                    35   \n",
       "3                     95                    475                    30   \n",
       "4                     90                    510                    55   \n",
       "\n",
       "      Language - Persian (Farsi)     Language - Portuguese  \\\n",
       "0                            160                       205   \n",
       "1                            350                       115   \n",
       "2                            115                       105   \n",
       "3                             95                       145   \n",
       "4                            285                        80   \n",
       "\n",
       "      Language - Russian     Language - Spanish     Language - Tagalog  \\\n",
       "0                     15                   1100                    850   \n",
       "1                     50                    820                    345   \n",
       "2                     15                    570                    130   \n",
       "3                     30                    700                    180   \n",
       "4                     30                    670                    195   \n",
       "\n",
       "      Language - Tamil     Language - Urdu  \n",
       "0                  715                 715  \n",
       "1                 1420                1075  \n",
       "2                  120                 300  \n",
       "3                   70                 215  \n",
       "4                   60                 140  \n",
       "\n",
       "[5 rows x 39 columns]"
      ]
     },
     "execution_count": 6,
     "metadata": {},
     "output_type": "execute_result"
    }
   ],
   "source": [
    "# 2011 dataframe\n",
    "d.head()"
   ]
  },
  {
   "cell_type": "code",
   "execution_count": 7,
   "metadata": {
    "collapsed": false
   },
   "outputs": [
    {
     "data": {
      "text/html": [
       "<div>\n",
       "<table border=\"1\" class=\"dataframe\">\n",
       "  <thead>\n",
       "    <tr style=\"text-align: right;\">\n",
       "      <th></th>\n",
       "      <th>Neighbourhood</th>\n",
       "      <th>Neighbourhood Id</th>\n",
       "      <th>Total Area</th>\n",
       "      <th>Total Population</th>\n",
       "      <th>Pop - Males</th>\n",
       "      <th>Pop - Females</th>\n",
       "      <th>Pop 0 - 4 years</th>\n",
       "      <th>Pop 5 - 9 years</th>\n",
       "      <th>Pop 10 - 14 years</th>\n",
       "      <th>Pop 15 -19 years</th>\n",
       "      <th>...</th>\n",
       "      <th>Home Repairs Needed</th>\n",
       "      <th>Tenant Average Rent</th>\n",
       "      <th>Low Income Families</th>\n",
       "      <th>Low Income Singles</th>\n",
       "      <th>Low Income Children</th>\n",
       "      <th>Family Income Category</th>\n",
       "      <th>Average Family Income</th>\n",
       "      <th>Household Income Category</th>\n",
       "      <th>Pre-Tax Household Income</th>\n",
       "      <th>After-Tax Household Income</th>\n",
       "    </tr>\n",
       "  </thead>\n",
       "  <tbody>\n",
       "    <tr>\n",
       "      <th>0</th>\n",
       "      <td>West Humber-Clairville</td>\n",
       "      <td>1</td>\n",
       "      <td>30.09</td>\n",
       "      <td>32265</td>\n",
       "      <td>16295</td>\n",
       "      <td>15960</td>\n",
       "      <td>2005</td>\n",
       "      <td>2135</td>\n",
       "      <td>2325</td>\n",
       "      <td>2180</td>\n",
       "      <td>...</td>\n",
       "      <td>365</td>\n",
       "      <td>850</td>\n",
       "      <td>7720</td>\n",
       "      <td>725</td>\n",
       "      <td>643</td>\n",
       "      <td>7720</td>\n",
       "      <td>67240</td>\n",
       "      <td>8960</td>\n",
       "      <td>63415</td>\n",
       "      <td>63977</td>\n",
       "    </tr>\n",
       "    <tr>\n",
       "      <th>1</th>\n",
       "      <td>Mount Olive-Silverstone-Jamestown</td>\n",
       "      <td>2</td>\n",
       "      <td>4.60</td>\n",
       "      <td>32130</td>\n",
       "      <td>15900</td>\n",
       "      <td>16230</td>\n",
       "      <td>2680</td>\n",
       "      <td>2680</td>\n",
       "      <td>2685</td>\n",
       "      <td>2285</td>\n",
       "      <td>...</td>\n",
       "      <td>980</td>\n",
       "      <td>875</td>\n",
       "      <td>7715</td>\n",
       "      <td>1177</td>\n",
       "      <td>1206</td>\n",
       "      <td>7720</td>\n",
       "      <td>52745</td>\n",
       "      <td>9265</td>\n",
       "      <td>48145</td>\n",
       "      <td>49601</td>\n",
       "    </tr>\n",
       "    <tr>\n",
       "      <th>2</th>\n",
       "      <td>Thistletown-Beaumond Heights</td>\n",
       "      <td>3</td>\n",
       "      <td>3.40</td>\n",
       "      <td>9925</td>\n",
       "      <td>4900</td>\n",
       "      <td>5035</td>\n",
       "      <td>615</td>\n",
       "      <td>625</td>\n",
       "      <td>645</td>\n",
       "      <td>630</td>\n",
       "      <td>...</td>\n",
       "      <td>185</td>\n",
       "      <td>875</td>\n",
       "      <td>2520</td>\n",
       "      <td>305</td>\n",
       "      <td>161</td>\n",
       "      <td>2520</td>\n",
       "      <td>71300</td>\n",
       "      <td>3150</td>\n",
       "      <td>55030</td>\n",
       "      <td>54910</td>\n",
       "    </tr>\n",
       "    <tr>\n",
       "      <th>3</th>\n",
       "      <td>Rexdale-Kipling</td>\n",
       "      <td>4</td>\n",
       "      <td>2.50</td>\n",
       "      <td>10725</td>\n",
       "      <td>5205</td>\n",
       "      <td>5525</td>\n",
       "      <td>580</td>\n",
       "      <td>645</td>\n",
       "      <td>665</td>\n",
       "      <td>640</td>\n",
       "      <td>...</td>\n",
       "      <td>300</td>\n",
       "      <td>835</td>\n",
       "      <td>2780</td>\n",
       "      <td>653</td>\n",
       "      <td>135</td>\n",
       "      <td>2775</td>\n",
       "      <td>65215</td>\n",
       "      <td>3880</td>\n",
       "      <td>52430</td>\n",
       "      <td>53779</td>\n",
       "    </tr>\n",
       "    <tr>\n",
       "      <th>4</th>\n",
       "      <td>Elms-Old Rexdale</td>\n",
       "      <td>5</td>\n",
       "      <td>2.90</td>\n",
       "      <td>9440</td>\n",
       "      <td>4615</td>\n",
       "      <td>4820</td>\n",
       "      <td>725</td>\n",
       "      <td>700</td>\n",
       "      <td>745</td>\n",
       "      <td>655</td>\n",
       "      <td>...</td>\n",
       "      <td>320</td>\n",
       "      <td>895</td>\n",
       "      <td>2560</td>\n",
       "      <td>255</td>\n",
       "      <td>328</td>\n",
       "      <td>2555</td>\n",
       "      <td>56515</td>\n",
       "      <td>3130</td>\n",
       "      <td>53780</td>\n",
       "      <td>55054</td>\n",
       "    </tr>\n",
       "  </tbody>\n",
       "</table>\n",
       "<p>5 rows × 85 columns</p>\n",
       "</div>"
      ],
      "text/plain": [
       "                       Neighbourhood  Neighbourhood Id  Total Area  \\\n",
       "0             West Humber-Clairville                 1       30.09   \n",
       "1  Mount Olive-Silverstone-Jamestown                 2        4.60   \n",
       "2       Thistletown-Beaumond Heights                 3        3.40   \n",
       "3                    Rexdale-Kipling                 4        2.50   \n",
       "4                   Elms-Old Rexdale                 5        2.90   \n",
       "\n",
       "   Total Population  Pop - Males  Pop - Females  Pop 0 - 4 years  \\\n",
       "0             32265        16295          15960             2005   \n",
       "1             32130        15900          16230             2680   \n",
       "2              9925         4900           5035              615   \n",
       "3             10725         5205           5525              580   \n",
       "4              9440         4615           4820              725   \n",
       "\n",
       "   Pop 5 - 9 years  Pop 10 - 14 years  Pop 15 -19 years  \\\n",
       "0             2135               2325              2180   \n",
       "1             2680               2685              2285   \n",
       "2              625                645               630   \n",
       "3              645                665               640   \n",
       "4              700                745               655   \n",
       "\n",
       "               ...                Home Repairs Needed  Tenant Average Rent  \\\n",
       "0              ...                                365                  850   \n",
       "1              ...                                980                  875   \n",
       "2              ...                                185                  875   \n",
       "3              ...                                300                  835   \n",
       "4              ...                                320                  895   \n",
       "\n",
       "   Low Income Families  Low Income Singles  Low Income Children  \\\n",
       "0                 7720                 725                  643   \n",
       "1                 7715                1177                 1206   \n",
       "2                 2520                 305                  161   \n",
       "3                 2780                 653                  135   \n",
       "4                 2560                 255                  328   \n",
       "\n",
       "   Family Income Category     Average Family Income  \\\n",
       "0                    7720                     67240   \n",
       "1                    7720                     52745   \n",
       "2                    2520                     71300   \n",
       "3                    2775                     65215   \n",
       "4                    2555                     56515   \n",
       "\n",
       "   Household Income Category     Pre-Tax Household Income  \\\n",
       "0                       8960                        63415   \n",
       "1                       9265                        48145   \n",
       "2                       3150                        55030   \n",
       "3                       3880                        52430   \n",
       "4                       3130                        53780   \n",
       "\n",
       "      After-Tax Household Income  \n",
       "0                          63977  \n",
       "1                          49601  \n",
       "2                          54910  \n",
       "3                          53779  \n",
       "4                          55054  \n",
       "\n",
       "[5 rows x 85 columns]"
      ]
     },
     "execution_count": 7,
     "metadata": {},
     "output_type": "execute_result"
    }
   ],
   "source": [
    "# 2008 dataframe\n",
    "# We notice that the 2008 dataset had more columns\n",
    "d2.head()"
   ]
  },
  {
   "cell_type": "markdown",
   "metadata": {},
   "source": [
    "We can take a quick look at all the columns to get an idea. We noticed a difference between the crime datasets in 2011 and 2008, which is reflected in the column names."
   ]
  },
  {
   "cell_type": "code",
   "execution_count": 8,
   "metadata": {
    "collapsed": false
   },
   "outputs": [
    {
     "data": {
      "text/plain": [
       "Index([u'Neighbourhood', u'Neighbourhood Id', u'Arsons', u'Assaults',\n",
       "       u'Break & Enters', u'Drug Arrests', u'Fire Medical Calls',\n",
       "       u'Fire Vehicle Incidents', u'Fires & Fire Alarms',\n",
       "       u'Hazardous Incidents', u'Murders', u'Robberies', u'Sexual Assaults',\n",
       "       u'Thefts', u'Total Major Crime Incidents', u'Vehicle Thefts'],\n",
       "      dtype='object')"
      ]
     },
     "execution_count": 8,
     "metadata": {},
     "output_type": "execute_result"
    }
   ],
   "source": [
    "c.columns #2011"
   ]
  },
  {
   "cell_type": "code",
   "execution_count": 9,
   "metadata": {
    "collapsed": false
   },
   "outputs": [
    {
     "data": {
      "text/plain": [
       "Index([u'Neighbourhood', u'Neighbourhood Id', u'Ambulance Calls',\n",
       "       u'Ambulance Referrals', u'Arsons', u'Assaults', u'Break & Enters',\n",
       "       u'Drug Arrests', u'Fire Vehicle Incidents', u'Firearms Incidents',\n",
       "       u'Fires & Fire Alarms', u'Hazardous Incidents', u'Murders',\n",
       "       u'Robberies', u'Sexual Assaults', u'TCHC Safety Incidents', u'Thefts',\n",
       "       u'Vehicle Thefts'],\n",
       "      dtype='object')"
      ]
     },
     "execution_count": 9,
     "metadata": {},
     "output_type": "execute_result"
    }
   ],
   "source": [
    "c2.columns #2008"
   ]
  },
  {
   "cell_type": "code",
   "execution_count": 10,
   "metadata": {
    "collapsed": true
   },
   "outputs": [],
   "source": [
    "# We can add a column called \"Total Major Crime Incidents\" in the 2008 dataframe to facilitate comparisons\n",
    "c2['Total Major Crime Incidents'] = c2['Assaults'] + c2['Break & Enters'] + c2['Drug Arrests'] + c2['Murders'] + c2['Robberies'] + c2['Sexual Assaults'] + c2['Thefts'] + c2['Vehicle Thefts'] "
   ]
  },
  {
   "cell_type": "code",
   "execution_count": 11,
   "metadata": {
    "collapsed": false
   },
   "outputs": [
    {
     "data": {
      "text/html": [
       "<div>\n",
       "<table border=\"1\" class=\"dataframe\">\n",
       "  <thead>\n",
       "    <tr style=\"text-align: right;\">\n",
       "      <th></th>\n",
       "      <th>Neighbourhood</th>\n",
       "      <th>Neighbourhood Id</th>\n",
       "      <th>Ambulance Calls</th>\n",
       "      <th>Ambulance Referrals</th>\n",
       "      <th>Arsons</th>\n",
       "      <th>Assaults</th>\n",
       "      <th>Break &amp; Enters</th>\n",
       "      <th>Drug Arrests</th>\n",
       "      <th>Fire Vehicle Incidents</th>\n",
       "      <th>Firearms Incidents</th>\n",
       "      <th>Fires &amp; Fire Alarms</th>\n",
       "      <th>Hazardous Incidents</th>\n",
       "      <th>Murders</th>\n",
       "      <th>Robberies</th>\n",
       "      <th>Sexual Assaults</th>\n",
       "      <th>TCHC Safety Incidents</th>\n",
       "      <th>Thefts</th>\n",
       "      <th>Vehicle Thefts</th>\n",
       "      <th>Total Major Crime Incidents</th>\n",
       "    </tr>\n",
       "  </thead>\n",
       "  <tbody>\n",
       "    <tr>\n",
       "      <th>0</th>\n",
       "      <td>West Humber-Clairville</td>\n",
       "      <td>1</td>\n",
       "      <td>3613</td>\n",
       "      <td>10</td>\n",
       "      <td>4</td>\n",
       "      <td>272</td>\n",
       "      <td>193</td>\n",
       "      <td>88</td>\n",
       "      <td>674</td>\n",
       "      <td>3</td>\n",
       "      <td>135</td>\n",
       "      <td>269</td>\n",
       "      <td>1</td>\n",
       "      <td>85</td>\n",
       "      <td>21</td>\n",
       "      <td>62</td>\n",
       "      <td>42</td>\n",
       "      <td>341</td>\n",
       "      <td>1043</td>\n",
       "    </tr>\n",
       "    <tr>\n",
       "      <th>1</th>\n",
       "      <td>Mount Olive-Silverstone-Jamestown</td>\n",
       "      <td>2</td>\n",
       "      <td>2229</td>\n",
       "      <td>5</td>\n",
       "      <td>0</td>\n",
       "      <td>269</td>\n",
       "      <td>88</td>\n",
       "      <td>145</td>\n",
       "      <td>52</td>\n",
       "      <td>11</td>\n",
       "      <td>70</td>\n",
       "      <td>163</td>\n",
       "      <td>0</td>\n",
       "      <td>80</td>\n",
       "      <td>23</td>\n",
       "      <td>426</td>\n",
       "      <td>6</td>\n",
       "      <td>113</td>\n",
       "      <td>724</td>\n",
       "    </tr>\n",
       "    <tr>\n",
       "      <th>2</th>\n",
       "      <td>Thistletown-Beaumond Heights</td>\n",
       "      <td>3</td>\n",
       "      <td>793</td>\n",
       "      <td>5</td>\n",
       "      <td>0</td>\n",
       "      <td>66</td>\n",
       "      <td>30</td>\n",
       "      <td>27</td>\n",
       "      <td>20</td>\n",
       "      <td>0</td>\n",
       "      <td>26</td>\n",
       "      <td>48</td>\n",
       "      <td>0</td>\n",
       "      <td>23</td>\n",
       "      <td>5</td>\n",
       "      <td>89</td>\n",
       "      <td>2</td>\n",
       "      <td>16</td>\n",
       "      <td>169</td>\n",
       "    </tr>\n",
       "    <tr>\n",
       "      <th>3</th>\n",
       "      <td>Rexdale-Kipling</td>\n",
       "      <td>4</td>\n",
       "      <td>664</td>\n",
       "      <td>5</td>\n",
       "      <td>0</td>\n",
       "      <td>49</td>\n",
       "      <td>28</td>\n",
       "      <td>17</td>\n",
       "      <td>14</td>\n",
       "      <td>0</td>\n",
       "      <td>26</td>\n",
       "      <td>64</td>\n",
       "      <td>0</td>\n",
       "      <td>16</td>\n",
       "      <td>6</td>\n",
       "      <td>48</td>\n",
       "      <td>0</td>\n",
       "      <td>25</td>\n",
       "      <td>141</td>\n",
       "    </tr>\n",
       "    <tr>\n",
       "      <th>4</th>\n",
       "      <td>Elms-Old Rexdale</td>\n",
       "      <td>5</td>\n",
       "      <td>836</td>\n",
       "      <td>3</td>\n",
       "      <td>2</td>\n",
       "      <td>49</td>\n",
       "      <td>22</td>\n",
       "      <td>8</td>\n",
       "      <td>45</td>\n",
       "      <td>1</td>\n",
       "      <td>23</td>\n",
       "      <td>52</td>\n",
       "      <td>0</td>\n",
       "      <td>26</td>\n",
       "      <td>3</td>\n",
       "      <td>138</td>\n",
       "      <td>2</td>\n",
       "      <td>17</td>\n",
       "      <td>127</td>\n",
       "    </tr>\n",
       "  </tbody>\n",
       "</table>\n",
       "</div>"
      ],
      "text/plain": [
       "                       Neighbourhood  Neighbourhood Id  Ambulance Calls  \\\n",
       "0             West Humber-Clairville                 1             3613   \n",
       "1  Mount Olive-Silverstone-Jamestown                 2             2229   \n",
       "2       Thistletown-Beaumond Heights                 3              793   \n",
       "3                    Rexdale-Kipling                 4              664   \n",
       "4                   Elms-Old Rexdale                 5              836   \n",
       "\n",
       "   Ambulance Referrals  Arsons  Assaults  Break & Enters  Drug Arrests  \\\n",
       "0                   10       4       272             193            88   \n",
       "1                    5       0       269              88           145   \n",
       "2                    5       0        66              30            27   \n",
       "3                    5       0        49              28            17   \n",
       "4                    3       2        49              22             8   \n",
       "\n",
       "   Fire Vehicle Incidents  Firearms Incidents  Fires & Fire Alarms  \\\n",
       "0                     674                   3                  135   \n",
       "1                      52                  11                   70   \n",
       "2                      20                   0                   26   \n",
       "3                      14                   0                   26   \n",
       "4                      45                   1                   23   \n",
       "\n",
       "   Hazardous Incidents  Murders  Robberies  Sexual Assaults  \\\n",
       "0                  269        1         85               21   \n",
       "1                  163        0         80               23   \n",
       "2                   48        0         23                5   \n",
       "3                   64        0         16                6   \n",
       "4                   52        0         26                3   \n",
       "\n",
       "   TCHC Safety Incidents  Thefts  Vehicle Thefts  Total Major Crime Incidents  \n",
       "0                     62      42             341                         1043  \n",
       "1                    426       6             113                          724  \n",
       "2                     89       2              16                          169  \n",
       "3                     48       0              25                          141  \n",
       "4                    138       2              17                          127  "
      ]
     },
     "execution_count": 11,
     "metadata": {},
     "output_type": "execute_result"
    }
   ],
   "source": [
    "c2.head()"
   ]
  },
  {
   "cell_type": "markdown",
   "metadata": {},
   "source": [
    "#### Let's see how many official neighbourhoods Toronto is broken down into. Also, this helps us check to see whether the neighbourhood IDs are the same in both data sets to enable easy merging of rows."
   ]
  },
  {
   "cell_type": "code",
   "execution_count": 12,
   "metadata": {
    "collapsed": false
   },
   "outputs": [
    {
     "data": {
      "text/plain": [
       "140"
      ]
     },
     "execution_count": 12,
     "metadata": {},
     "output_type": "execute_result"
    }
   ],
   "source": [
    "len(c)"
   ]
  },
  {
   "cell_type": "code",
   "execution_count": 13,
   "metadata": {
    "collapsed": false
   },
   "outputs": [
    {
     "data": {
      "text/plain": [
       "140"
      ]
     },
     "execution_count": 13,
     "metadata": {},
     "output_type": "execute_result"
    }
   ],
   "source": [
    "len(d)"
   ]
  },
  {
   "cell_type": "markdown",
   "metadata": {},
   "source": [
    "#### Let's take a look now at all the columns in the demographics data set. "
   ]
  },
  {
   "cell_type": "code",
   "execution_count": 14,
   "metadata": {
    "collapsed": false
   },
   "outputs": [
    {
     "data": {
      "text/plain": [
       "Index([u'Neighbourhood', u'Neighbourhood Id', u'Total Area',\n",
       "       u'Total Population', u'Pop - Males', u'Pop - Females',\n",
       "       u'Pop 0 - 4 years', u'Pop 5 - 9 years', u'Pop 10 - 14 years',\n",
       "       u'Pop 15 -19 years', u'Pop 20 - 24 years', u'Pop  25 - 29 years',\n",
       "       u'Pop 30 - 34 years', u'Pop 35 - 39 years', u'Pop 40 - 44 years',\n",
       "       u'Pop 45 - 49 years', u'Pop 50 - 54 years', u'Pop 55 - 59 years',\n",
       "       u'Pop 60 - 64 years', u'Pop 65 - 69 years', u'Pop 70 - 74 years',\n",
       "       u'Pop 75 - 79 years', u'Pop 80 - 84 years', u'Pop 85 years and over',\n",
       "       u'Seniors 55 and over', u'Seniors 65 and over', u'Child 0-14',\n",
       "       u'Youth 15-24', u'Home Language Category', u'   Language - Chinese',\n",
       "       u'   Language - Italian', u'   Language - Korean',\n",
       "       u'   Language - Persian (Farsi)', u'   Language - Portuguese',\n",
       "       u'   Language - Russian', u'   Language - Spanish',\n",
       "       u'   Language - Tagalog', u'   Language - Tamil',\n",
       "       u'   Language - Urdu'],\n",
       "      dtype='object')"
      ]
     },
     "execution_count": 14,
     "metadata": {},
     "output_type": "execute_result"
    }
   ],
   "source": [
    "d.columns #2011"
   ]
  },
  {
   "cell_type": "code",
   "execution_count": 15,
   "metadata": {
    "collapsed": false
   },
   "outputs": [
    {
     "data": {
      "text/plain": [
       "Index([u'Neighbourhood', u'Neighbourhood Id', u'Total Area',\n",
       "       u'Total Population', u'Pop - Males', u'Pop - Females',\n",
       "       u'Pop 0 - 4 years', u'Pop 5 - 9 years', u'Pop 10 - 14 years',\n",
       "       u'Pop 15 -19 years', u'Pop 20 - 24 years', u'Pop  25 - 29 years',\n",
       "       u'Pop 30 - 34 years', u'Pop 35 - 39 years', u'Pop 40 - 44 years',\n",
       "       u'Pop 45 - 49 years', u'Pop 50 - 54 years', u'Pop 55 - 59 years',\n",
       "       u'Pop 60 - 64 years', u'Pop 65 - 69 years', u'Pop 70 - 74 years',\n",
       "       u'Pop 75 - 79 years', u'Pop 80 - 84 years', u'Pop 85 years and over',\n",
       "       u'Pop 6-12 years', u'Visible Minority Category', u'   Chinese',\n",
       "       u'   South Asian', u'   Black', u'   Filipino', u'   Latin American',\n",
       "       u'   Southeast Asian', u'   Arab', u'   West Asian', u'   Korean',\n",
       "       u'   Japanese', u'   Other Visible Minority',\n",
       "       u'   Multiple Visible Minority', u'   Not a Visible Minority',\n",
       "       u'Aboriginal', u'Home Language Category', u'   Language - Chinese',\n",
       "       u'   Language - Italian', u'   Language - Korean',\n",
       "       u'   Language - Persian (Farsi)', u'   Language - Portuguese',\n",
       "       u'   Language - Russian', u'   Language - Spanish',\n",
       "       u'   Language - Tagalog', u'   Language - Tamil', u'   Language - Urdu',\n",
       "       u'Mobility Category', u'   Non-Movers', u'   Movers',\n",
       "       u'Recent Immigrants Category', u'Recent Immigrants',\n",
       "       u'   Southern Asia', u'   South East Asia', u'   Eastern Asia',\n",
       "       u'   West Asia/Middle East', u'   Africa', u'   Europe',\n",
       "       u'   Caribbean/Central/S. America', u'Labour Force Category',\n",
       "       u'   In Labour Force', u'   Unemployed', u'   Not in Labour Force',\n",
       "       u'Less than grade 9', u'With College Certificate/Diploma',\n",
       "       u'With Bachelor Degree or Higher', u'Seniors Living Alone',\n",
       "       u'Total Tenants', u'High Shelter Costs', u'Owned Dwellings',\n",
       "       u'Rented Dwellings', u'Home Repairs Needed', u'Tenant Average Rent',\n",
       "       u'Low Income Families', u'Low Income Singles', u'Low Income Children',\n",
       "       u'Family Income Category', u'   Average Family Income',\n",
       "       u'Household Income Category', u'   Pre-Tax Household Income',\n",
       "       u'   After-Tax Household Income'],\n",
       "      dtype='object')"
      ]
     },
     "execution_count": 15,
     "metadata": {},
     "output_type": "execute_result"
    }
   ],
   "source": [
    "d2.columns #2008"
   ]
  },
  {
   "cell_type": "markdown",
   "metadata": {},
   "source": [
    "We notice several other columns in the 2008 demographics dataset. These additional columns cannot be used to make comparisons between 2008 and 2011.\n",
    "\n",
    "#### Our focus for this data story will only be on major crime incidents. Eight categories of crimes fall under major crime - Assaults, Break & Enters, Drug Arrests, Murders, Robberies, Sexual Assaults, Thefts (over 5k), and Vehicle Thefts"
   ]
  },
  {
   "cell_type": "code",
   "execution_count": 16,
   "metadata": {
    "collapsed": false
   },
   "outputs": [
    {
     "data": {
      "text/plain": [
       "1393"
      ]
     },
     "execution_count": 16,
     "metadata": {},
     "output_type": "execute_result"
    }
   ],
   "source": [
    "#max(c)\n",
    "c['Total Major Crime Incidents'].max()\n",
    "#c.min().sort_values(ascending=False)\n",
    "#c.max().sort_values(ascending=False)"
   ]
  },
  {
   "cell_type": "markdown",
   "metadata": {},
   "source": []
  },
  {
   "cell_type": "code",
   "execution_count": 17,
   "metadata": {
    "collapsed": false
   },
   "outputs": [
    {
     "data": {
      "text/plain": [
       "Murders                          0.350000\n",
       "Thefts                           6.478571\n",
       "Sexual Assaults                 17.621429\n",
       "Vehicle Thefts                  29.821429\n",
       "Robberies                       34.442857\n",
       "Drug Arrests                    36.542857\n",
       "Break & Enters                  75.250000\n",
       "Assaults                       150.621429\n",
       "Total Major Crime Incidents    351.128571\n",
       "dtype: float64"
      ]
     },
     "execution_count": 17,
     "metadata": {},
     "output_type": "execute_result"
    }
   ],
   "source": [
    "# Selecting just the major crime incidents in 2011 as a dataframe. Find the mean\n",
    "c_box = c.iloc[:,[3,4,5,10,11,12,13,14,15]]#[:,2:]\n",
    "c_box.mean().sort_values()"
   ]
  },
  {
   "cell_type": "markdown",
   "metadata": {},
   "source": [
    "When we look at the means, we notice that murders and thefts occur lesser than the remaining six categories."
   ]
  },
  {
   "cell_type": "code",
   "execution_count": 18,
   "metadata": {
    "collapsed": false
   },
   "outputs": [],
   "source": [
    "#c_box.median().sort_values()"
   ]
  },
  {
   "cell_type": "markdown",
   "metadata": {},
   "source": [
    "We can compare the top three major crime incidents and the total major crime incidents visually using a box plot."
   ]
  },
  {
   "cell_type": "code",
   "execution_count": 19,
   "metadata": {
    "collapsed": false
   },
   "outputs": [
    {
     "data": {
      "text/html": [
       "<div>\n",
       "<table border=\"1\" class=\"dataframe\">\n",
       "  <thead>\n",
       "    <tr style=\"text-align: right;\">\n",
       "      <th></th>\n",
       "      <th>Assaults</th>\n",
       "      <th>Break &amp; Enters</th>\n",
       "      <th>Drug Arrests</th>\n",
       "      <th>Murders</th>\n",
       "      <th>Robberies</th>\n",
       "      <th>Sexual Assaults</th>\n",
       "      <th>Thefts</th>\n",
       "      <th>Total Major Crime Incidents</th>\n",
       "      <th>Vehicle Thefts</th>\n",
       "    </tr>\n",
       "  </thead>\n",
       "  <tbody>\n",
       "    <tr>\n",
       "      <th>0</th>\n",
       "      <td>390</td>\n",
       "      <td>175</td>\n",
       "      <td>62</td>\n",
       "      <td>0</td>\n",
       "      <td>82</td>\n",
       "      <td>68</td>\n",
       "      <td>54</td>\n",
       "      <td>1119</td>\n",
       "      <td>288</td>\n",
       "    </tr>\n",
       "    <tr>\n",
       "      <th>1</th>\n",
       "      <td>316</td>\n",
       "      <td>61</td>\n",
       "      <td>90</td>\n",
       "      <td>1</td>\n",
       "      <td>78</td>\n",
       "      <td>75</td>\n",
       "      <td>7</td>\n",
       "      <td>690</td>\n",
       "      <td>62</td>\n",
       "    </tr>\n",
       "    <tr>\n",
       "      <th>2</th>\n",
       "      <td>85</td>\n",
       "      <td>36</td>\n",
       "      <td>16</td>\n",
       "      <td>0</td>\n",
       "      <td>17</td>\n",
       "      <td>24</td>\n",
       "      <td>2</td>\n",
       "      <td>192</td>\n",
       "      <td>12</td>\n",
       "    </tr>\n",
       "    <tr>\n",
       "      <th>3</th>\n",
       "      <td>59</td>\n",
       "      <td>32</td>\n",
       "      <td>15</td>\n",
       "      <td>1</td>\n",
       "      <td>16</td>\n",
       "      <td>20</td>\n",
       "      <td>3</td>\n",
       "      <td>164</td>\n",
       "      <td>18</td>\n",
       "    </tr>\n",
       "    <tr>\n",
       "      <th>4</th>\n",
       "      <td>77</td>\n",
       "      <td>25</td>\n",
       "      <td>14</td>\n",
       "      <td>0</td>\n",
       "      <td>23</td>\n",
       "      <td>5</td>\n",
       "      <td>19</td>\n",
       "      <td>185</td>\n",
       "      <td>22</td>\n",
       "    </tr>\n",
       "  </tbody>\n",
       "</table>\n",
       "</div>"
      ],
      "text/plain": [
       "   Assaults  Break & Enters  Drug Arrests  Murders  Robberies  \\\n",
       "0       390             175            62        0         82   \n",
       "1       316              61            90        1         78   \n",
       "2        85              36            16        0         17   \n",
       "3        59              32            15        1         16   \n",
       "4        77              25            14        0         23   \n",
       "\n",
       "   Sexual Assaults  Thefts  Total Major Crime Incidents  Vehicle Thefts  \n",
       "0               68      54                         1119             288  \n",
       "1               75       7                          690              62  \n",
       "2               24       2                          192              12  \n",
       "3               20       3                          164              18  \n",
       "4                5      19                          185              22  "
      ]
     },
     "execution_count": 19,
     "metadata": {},
     "output_type": "execute_result"
    }
   ],
   "source": [
    "c_box.head()"
   ]
  },
  {
   "cell_type": "code",
   "execution_count": 20,
   "metadata": {
    "collapsed": false
   },
   "outputs": [
    {
     "data": {
      "text/plain": [
       "<matplotlib.axes._subplots.AxesSubplot at 0x112772610>"
      ]
     },
     "execution_count": 20,
     "metadata": {},
     "output_type": "execute_result"
    },
    {
     "data": {
      "image/png": "[encoded data removed]",
      "text/plain": [
       "<matplotlib.figure.Figure at 0x112772650>"
      ]
     },
     "metadata": {},
     "output_type": "display_data"
    }
   ],
   "source": [
    "%matplotlib inline\n",
    "sns.set_style(\"whitegrid\")\n",
    "plt.figure(figsize=(10,5)) # This allows us to set the width and height of the box plot\n",
    "plt.ylim(0,800) # This allows us to limit the range of the y-axis. This is helpful because we have a lot of outliers.\n",
    "sns.boxplot(data=c_box.iloc[:,[0,1,2,7]])"
   ]
  },
  {
   "cell_type": "markdown",
   "metadata": {},
   "source": [
    "From the box plot, we see that \"Assaults\" vary the most between neighbourhoods, in comparison to \"Break & Enters\" and \"Drug Arrests\". Has anything changed from 2008? Let's take a look at the 2008 data."
   ]
  },
  {
   "cell_type": "code",
   "execution_count": 21,
   "metadata": {
    "collapsed": false
   },
   "outputs": [
    {
     "data": {
      "text/plain": [
       "Murders                          0.457143\n",
       "Thefts                           6.657143\n",
       "Sexual Assaults                 10.021429\n",
       "Robberies                       28.650000\n",
       "Vehicle Thefts                  45.321429\n",
       "Drug Arrests                    64.350000\n",
       "Break & Enters                  64.757143\n",
       "Assaults                       121.285714\n",
       "Total Major Crime Incidents    341.500000\n",
       "dtype: float64"
      ]
     },
     "execution_count": 21,
     "metadata": {},
     "output_type": "execute_result"
    }
   ],
   "source": [
    "# Selecting just the major crime incidents in 2008 as a dataframe. Find the mean\n",
    "c2_box = c2.iloc[:,[5,6,7,12,13,14,16,17,18]]\n",
    "c2_box.mean().sort_values()"
   ]
  },
  {
   "cell_type": "markdown",
   "metadata": {
    "collapsed": false
   },
   "source": [
    "The pattern is more or less the same, however, the number of drug arrests have increased."
   ]
  },
  {
   "cell_type": "code",
   "execution_count": 22,
   "metadata": {
    "collapsed": false
   },
   "outputs": [
    {
     "data": {
      "text/html": [
       "<div>\n",
       "<table border=\"1\" class=\"dataframe\">\n",
       "  <thead>\n",
       "    <tr style=\"text-align: right;\">\n",
       "      <th></th>\n",
       "      <th>Assaults</th>\n",
       "      <th>Break &amp; Enters</th>\n",
       "      <th>Drug Arrests</th>\n",
       "      <th>Murders</th>\n",
       "      <th>Robberies</th>\n",
       "      <th>Sexual Assaults</th>\n",
       "      <th>Thefts</th>\n",
       "      <th>Vehicle Thefts</th>\n",
       "      <th>Total Major Crime Incidents</th>\n",
       "    </tr>\n",
       "  </thead>\n",
       "  <tbody>\n",
       "    <tr>\n",
       "      <th>0</th>\n",
       "      <td>272</td>\n",
       "      <td>193</td>\n",
       "      <td>88</td>\n",
       "      <td>1</td>\n",
       "      <td>85</td>\n",
       "      <td>21</td>\n",
       "      <td>42</td>\n",
       "      <td>341</td>\n",
       "      <td>1043</td>\n",
       "    </tr>\n",
       "    <tr>\n",
       "      <th>1</th>\n",
       "      <td>269</td>\n",
       "      <td>88</td>\n",
       "      <td>145</td>\n",
       "      <td>0</td>\n",
       "      <td>80</td>\n",
       "      <td>23</td>\n",
       "      <td>6</td>\n",
       "      <td>113</td>\n",
       "      <td>724</td>\n",
       "    </tr>\n",
       "    <tr>\n",
       "      <th>2</th>\n",
       "      <td>66</td>\n",
       "      <td>30</td>\n",
       "      <td>27</td>\n",
       "      <td>0</td>\n",
       "      <td>23</td>\n",
       "      <td>5</td>\n",
       "      <td>2</td>\n",
       "      <td>16</td>\n",
       "      <td>169</td>\n",
       "    </tr>\n",
       "    <tr>\n",
       "      <th>3</th>\n",
       "      <td>49</td>\n",
       "      <td>28</td>\n",
       "      <td>17</td>\n",
       "      <td>0</td>\n",
       "      <td>16</td>\n",
       "      <td>6</td>\n",
       "      <td>0</td>\n",
       "      <td>25</td>\n",
       "      <td>141</td>\n",
       "    </tr>\n",
       "    <tr>\n",
       "      <th>4</th>\n",
       "      <td>49</td>\n",
       "      <td>22</td>\n",
       "      <td>8</td>\n",
       "      <td>0</td>\n",
       "      <td>26</td>\n",
       "      <td>3</td>\n",
       "      <td>2</td>\n",
       "      <td>17</td>\n",
       "      <td>127</td>\n",
       "    </tr>\n",
       "  </tbody>\n",
       "</table>\n",
       "</div>"
      ],
      "text/plain": [
       "   Assaults  Break & Enters  Drug Arrests  Murders  Robberies  \\\n",
       "0       272             193            88        1         85   \n",
       "1       269              88           145        0         80   \n",
       "2        66              30            27        0         23   \n",
       "3        49              28            17        0         16   \n",
       "4        49              22             8        0         26   \n",
       "\n",
       "   Sexual Assaults  Thefts  Vehicle Thefts  Total Major Crime Incidents  \n",
       "0               21      42             341                         1043  \n",
       "1               23       6             113                          724  \n",
       "2                5       2              16                          169  \n",
       "3                6       0              25                          141  \n",
       "4                3       2              17                          127  "
      ]
     },
     "execution_count": 22,
     "metadata": {},
     "output_type": "execute_result"
    }
   ],
   "source": [
    "c2_box.head()"
   ]
  },
  {
   "cell_type": "code",
   "execution_count": 23,
   "metadata": {
    "collapsed": false
   },
   "outputs": [
    {
     "data": {
      "text/plain": [
       "<matplotlib.axes._subplots.AxesSubplot at 0x114d1ab10>"
      ]
     },
     "execution_count": 23,
     "metadata": {},
     "output_type": "execute_result"
    },
    {
     "data": {
      "image/png": "[encoded data removed]",
      "text/plain": [
       "<matplotlib.figure.Figure at 0x114d1a990>"
      ]
     },
     "metadata": {},
     "output_type": "display_data"
    }
   ],
   "source": [
    "%matplotlib inline\n",
    "sns.set_style(\"whitegrid\")\n",
    "plt.figure(figsize=(10,6)) # This allows us to set the width and height of the box plot\n",
    "plt.ylim(0,800) # This allows us to limit the range of the y-axis. This is helpful because we have a lot of outliers.\n",
    "sns.boxplot(data=c2_box.iloc[:,[0,1,2,8]])"
   ]
  },
  {
   "cell_type": "markdown",
   "metadata": {},
   "source": [
    "We notice an increase in the range and variance of drug arrests. But we do not see any major changes in the order of mean frequency of the types of crimes when comparing 2008 and 2011.\n",
    "\n",
    "We can also plot these comparisons between types of crimes and years, as violin plots. One advantage of the violin plot is that it shows a kernel density plot instead of a box. So, we get probability density without the need for a histogram (killing two birds with one stone!). Plots for 2011 and 2008 are provided below."
   ]
  },
  {
   "cell_type": "code",
   "execution_count": 24,
   "metadata": {
    "collapsed": false
   },
   "outputs": [
    {
     "data": {
      "text/plain": [
       "<matplotlib.axes._subplots.AxesSubplot at 0x11547c210>"
      ]
     },
     "execution_count": 24,
     "metadata": {},
     "output_type": "execute_result"
    },
    {
     "data": {
      "image/png": "[encoded data removed]",
      "text/plain": [
       "<matplotlib.figure.Figure at 0x11547c350>"
      ]
     },
     "metadata": {},
     "output_type": "display_data"
    }
   ],
   "source": [
    "%matplotlib inline\n",
    "sns.set_style(\"whitegrid\")\n",
    "plt.figure(figsize=(10,6)) # This allows us to set the width and height of the box plot\n",
    "plt.ylim(0,800) # This allows us to limit the range of the y-axis. This is helpful because we have a lot of outliers.\n",
    "sns.violinplot(data=c_box.iloc[:,[0,1,2,7]])"
   ]
  },
  {
   "cell_type": "code",
   "execution_count": 25,
   "metadata": {
    "collapsed": false
   },
   "outputs": [
    {
     "data": {
      "text/plain": [
       "<matplotlib.axes._subplots.AxesSubplot at 0x1154af910>"
      ]
     },
     "execution_count": 25,
     "metadata": {},
     "output_type": "execute_result"
    },
    {
     "data": {
      "image/png": "[encoded data removed]",
      "text/plain": [
       "<matplotlib.figure.Figure at 0x1154af7d0>"
      ]
     },
     "metadata": {},
     "output_type": "display_data"
    }
   ],
   "source": [
    "%matplotlib inline\n",
    "sns.set_style(\"whitegrid\")\n",
    "plt.figure(figsize=(10,6)) # This allows us to set the width and height of the box plot\n",
    "plt.ylim(0,800) # This allows us to limit the range of the y-axis. This is helpful because we have a lot of outliers.\n",
    "sns.violinplot(data=c2_box.iloc[:,[0,1,2,8]])"
   ]
  },
  {
   "cell_type": "markdown",
   "metadata": {},
   "source": [
    "Perhaps a better way to compare crimes between both years is to normalize crimes in each neighbourhood based on the population of that neighbourhood."
   ]
  },
  {
   "cell_type": "code",
   "execution_count": 26,
   "metadata": {
    "collapsed": false
   },
   "outputs": [],
   "source": [
    "c_box_norm = c_box.iloc[:,0:].div(d['Total Population'], axis=0)\n",
    "c2_box_norm = c2_box.iloc[:,0:].div(d2['Total Population'], axis=0)"
   ]
  },
  {
   "cell_type": "code",
   "execution_count": 27,
   "metadata": {
    "collapsed": false
   },
   "outputs": [
    {
     "data": {
      "text/html": [
       "<div>\n",
       "<table border=\"1\" class=\"dataframe\">\n",
       "  <thead>\n",
       "    <tr style=\"text-align: right;\">\n",
       "      <th></th>\n",
       "      <th>Assaults</th>\n",
       "      <th>Break &amp; Enters</th>\n",
       "      <th>Drug Arrests</th>\n",
       "      <th>Murders</th>\n",
       "      <th>Robberies</th>\n",
       "      <th>Sexual Assaults</th>\n",
       "      <th>Thefts</th>\n",
       "      <th>Total Major Crime Incidents</th>\n",
       "      <th>Vehicle Thefts</th>\n",
       "    </tr>\n",
       "  </thead>\n",
       "  <tbody>\n",
       "    <tr>\n",
       "      <th>0</th>\n",
       "      <td>0.011437</td>\n",
       "      <td>0.005132</td>\n",
       "      <td>0.001818</td>\n",
       "      <td>0.000000</td>\n",
       "      <td>0.002405</td>\n",
       "      <td>0.001994</td>\n",
       "      <td>0.001584</td>\n",
       "      <td>0.032815</td>\n",
       "      <td>0.008446</td>\n",
       "    </tr>\n",
       "    <tr>\n",
       "      <th>1</th>\n",
       "      <td>0.009637</td>\n",
       "      <td>0.001860</td>\n",
       "      <td>0.002745</td>\n",
       "      <td>0.000030</td>\n",
       "      <td>0.002379</td>\n",
       "      <td>0.002287</td>\n",
       "      <td>0.000213</td>\n",
       "      <td>0.021043</td>\n",
       "      <td>0.001891</td>\n",
       "    </tr>\n",
       "    <tr>\n",
       "      <th>2</th>\n",
       "      <td>0.008383</td>\n",
       "      <td>0.003550</td>\n",
       "      <td>0.001578</td>\n",
       "      <td>0.000000</td>\n",
       "      <td>0.001677</td>\n",
       "      <td>0.002367</td>\n",
       "      <td>0.000197</td>\n",
       "      <td>0.018935</td>\n",
       "      <td>0.001183</td>\n",
       "    </tr>\n",
       "    <tr>\n",
       "      <th>3</th>\n",
       "      <td>0.005627</td>\n",
       "      <td>0.003052</td>\n",
       "      <td>0.001431</td>\n",
       "      <td>0.000095</td>\n",
       "      <td>0.001526</td>\n",
       "      <td>0.001907</td>\n",
       "      <td>0.000286</td>\n",
       "      <td>0.015641</td>\n",
       "      <td>0.001717</td>\n",
       "    </tr>\n",
       "    <tr>\n",
       "      <th>4</th>\n",
       "      <td>0.008063</td>\n",
       "      <td>0.002618</td>\n",
       "      <td>0.001466</td>\n",
       "      <td>0.000000</td>\n",
       "      <td>0.002408</td>\n",
       "      <td>0.000524</td>\n",
       "      <td>0.001990</td>\n",
       "      <td>0.019372</td>\n",
       "      <td>0.002304</td>\n",
       "    </tr>\n",
       "  </tbody>\n",
       "</table>\n",
       "</div>"
      ],
      "text/plain": [
       "   Assaults  Break & Enters  Drug Arrests   Murders  Robberies  \\\n",
       "0  0.011437        0.005132      0.001818  0.000000   0.002405   \n",
       "1  0.009637        0.001860      0.002745  0.000030   0.002379   \n",
       "2  0.008383        0.003550      0.001578  0.000000   0.001677   \n",
       "3  0.005627        0.003052      0.001431  0.000095   0.001526   \n",
       "4  0.008063        0.002618      0.001466  0.000000   0.002408   \n",
       "\n",
       "   Sexual Assaults    Thefts  Total Major Crime Incidents  Vehicle Thefts  \n",
       "0         0.001994  0.001584                     0.032815        0.008446  \n",
       "1         0.002287  0.000213                     0.021043        0.001891  \n",
       "2         0.002367  0.000197                     0.018935        0.001183  \n",
       "3         0.001907  0.000286                     0.015641        0.001717  \n",
       "4         0.000524  0.001990                     0.019372        0.002304  "
      ]
     },
     "execution_count": 27,
     "metadata": {},
     "output_type": "execute_result"
    }
   ],
   "source": [
    "c_box_norm.head()"
   ]
  },
  {
   "cell_type": "code",
   "execution_count": 28,
   "metadata": {
    "collapsed": false
   },
   "outputs": [
    {
     "data": {
      "text/html": [
       "<div>\n",
       "<table border=\"1\" class=\"dataframe\">\n",
       "  <thead>\n",
       "    <tr style=\"text-align: right;\">\n",
       "      <th></th>\n",
       "      <th>Assaults</th>\n",
       "      <th>Break &amp; Enters</th>\n",
       "      <th>Drug Arrests</th>\n",
       "      <th>Murders</th>\n",
       "      <th>Robberies</th>\n",
       "      <th>Sexual Assaults</th>\n",
       "      <th>Thefts</th>\n",
       "      <th>Vehicle Thefts</th>\n",
       "      <th>Total Major Crime Incidents</th>\n",
       "    </tr>\n",
       "  </thead>\n",
       "  <tbody>\n",
       "    <tr>\n",
       "      <th>0</th>\n",
       "      <td>0.008430</td>\n",
       "      <td>0.005982</td>\n",
       "      <td>0.002727</td>\n",
       "      <td>0.000031</td>\n",
       "      <td>0.002634</td>\n",
       "      <td>0.000651</td>\n",
       "      <td>0.001302</td>\n",
       "      <td>0.010569</td>\n",
       "      <td>0.032326</td>\n",
       "    </tr>\n",
       "    <tr>\n",
       "      <th>1</th>\n",
       "      <td>0.008372</td>\n",
       "      <td>0.002739</td>\n",
       "      <td>0.004513</td>\n",
       "      <td>0.000000</td>\n",
       "      <td>0.002490</td>\n",
       "      <td>0.000716</td>\n",
       "      <td>0.000187</td>\n",
       "      <td>0.003517</td>\n",
       "      <td>0.022533</td>\n",
       "    </tr>\n",
       "    <tr>\n",
       "      <th>2</th>\n",
       "      <td>0.006650</td>\n",
       "      <td>0.003023</td>\n",
       "      <td>0.002720</td>\n",
       "      <td>0.000000</td>\n",
       "      <td>0.002317</td>\n",
       "      <td>0.000504</td>\n",
       "      <td>0.000202</td>\n",
       "      <td>0.001612</td>\n",
       "      <td>0.017028</td>\n",
       "    </tr>\n",
       "    <tr>\n",
       "      <th>3</th>\n",
       "      <td>0.004569</td>\n",
       "      <td>0.002611</td>\n",
       "      <td>0.001585</td>\n",
       "      <td>0.000000</td>\n",
       "      <td>0.001492</td>\n",
       "      <td>0.000559</td>\n",
       "      <td>0.000000</td>\n",
       "      <td>0.002331</td>\n",
       "      <td>0.013147</td>\n",
       "    </tr>\n",
       "    <tr>\n",
       "      <th>4</th>\n",
       "      <td>0.005191</td>\n",
       "      <td>0.002331</td>\n",
       "      <td>0.000847</td>\n",
       "      <td>0.000000</td>\n",
       "      <td>0.002754</td>\n",
       "      <td>0.000318</td>\n",
       "      <td>0.000212</td>\n",
       "      <td>0.001801</td>\n",
       "      <td>0.013453</td>\n",
       "    </tr>\n",
       "  </tbody>\n",
       "</table>\n",
       "</div>"
      ],
      "text/plain": [
       "   Assaults  Break & Enters  Drug Arrests   Murders  Robberies  \\\n",
       "0  0.008430        0.005982      0.002727  0.000031   0.002634   \n",
       "1  0.008372        0.002739      0.004513  0.000000   0.002490   \n",
       "2  0.006650        0.003023      0.002720  0.000000   0.002317   \n",
       "3  0.004569        0.002611      0.001585  0.000000   0.001492   \n",
       "4  0.005191        0.002331      0.000847  0.000000   0.002754   \n",
       "\n",
       "   Sexual Assaults    Thefts  Vehicle Thefts  Total Major Crime Incidents  \n",
       "0         0.000651  0.001302        0.010569                     0.032326  \n",
       "1         0.000716  0.000187        0.003517                     0.022533  \n",
       "2         0.000504  0.000202        0.001612                     0.017028  \n",
       "3         0.000559  0.000000        0.002331                     0.013147  \n",
       "4         0.000318  0.000212        0.001801                     0.013453  "
      ]
     },
     "execution_count": 28,
     "metadata": {},
     "output_type": "execute_result"
    }
   ],
   "source": [
    "c2_box_norm.head()"
   ]
  },
  {
   "cell_type": "markdown",
   "metadata": {
    "collapsed": true
   },
   "source": [
    "Now, we can compare the means of all major crimes again."
   ]
  },
  {
   "cell_type": "code",
   "execution_count": 29,
   "metadata": {
    "collapsed": false
   },
   "outputs": [
    {
     "data": {
      "text/plain": [
       "Murders                        0.000019\n",
       "Thefts                         0.000346\n",
       "Sexual Assaults                0.000958\n",
       "Vehicle Thefts                 0.001519\n",
       "Robberies                      0.001860\n",
       "Drug Arrests                   0.002027\n",
       "Break & Enters                 0.004113\n",
       "Assaults                       0.008057\n",
       "Total Major Crime Incidents    0.018900\n",
       "dtype: float64"
      ]
     },
     "execution_count": 29,
     "metadata": {},
     "output_type": "execute_result"
    }
   ],
   "source": [
    "# Selecting just the normalized major crime incidents in 2011 as a dataframe.\n",
    "c_box_norm.mean().sort_values()"
   ]
  },
  {
   "cell_type": "code",
   "execution_count": 30,
   "metadata": {
    "collapsed": false
   },
   "outputs": [
    {
     "data": {
      "text/plain": [
       "Murders                        0.000026\n",
       "Thefts                         0.000359\n",
       "Sexual Assaults                0.000569\n",
       "Robberies                      0.001622\n",
       "Vehicle Thefts                 0.002442\n",
       "Break & Enters                 0.003740\n",
       "Drug Arrests                   0.003781\n",
       "Assaults                       0.006885\n",
       "Total Major Crime Incidents    0.019423\n",
       "dtype: float64"
      ]
     },
     "execution_count": 30,
     "metadata": {},
     "output_type": "execute_result"
    }
   ],
   "source": [
    "# Selecting just the normalized major crime incidents in 2008 as a dataframe.\n",
    "c2_box_norm.mean().sort_values()"
   ]
  },
  {
   "cell_type": "markdown",
   "metadata": {},
   "source": [
    "We notice that total major crime incidents per person are approximately the same for both years, suggesting that major crime has not increased in Toronto with every year. "
   ]
  },
  {
   "cell_type": "code",
   "execution_count": null,
   "metadata": {
    "collapsed": true
   },
   "outputs": [],
   "source": []
  },
  {
   "cell_type": "code",
   "execution_count": null,
   "metadata": {
    "collapsed": true
   },
   "outputs": [],
   "source": []
  },
  {
   "cell_type": "code",
   "execution_count": null,
   "metadata": {
    "collapsed": true
   },
   "outputs": [],
   "source": []
  },
  {
   "cell_type": "code",
   "execution_count": 31,
   "metadata": {
    "collapsed": true
   },
   "outputs": [],
   "source": [
    "%matplotlib inline"
   ]
  },
  {
   "cell_type": "code",
   "execution_count": 32,
   "metadata": {
    "collapsed": false
   },
   "outputs": [],
   "source": [
    "#plt.scatter(c.Robberies, c['Sexual Assaults'])"
   ]
  },
  {
   "cell_type": "code",
   "execution_count": null,
   "metadata": {
    "collapsed": true
   },
   "outputs": [],
   "source": []
  },
  {
   "cell_type": "code",
   "execution_count": 33,
   "metadata": {
    "collapsed": false
   },
   "outputs": [],
   "source": [
    "#c['Robberies']"
   ]
  },
  {
   "cell_type": "code",
   "execution_count": 34,
   "metadata": {
    "collapsed": false
   },
   "outputs": [],
   "source": [
    "# t5 is the Top 5, b5 is for Bottom 5; Rob = Robberies; SA = Sexual Assaults; \n",
    "# VT = Vehicle Thefts; TMCI = Total Major Crime Incidents\n",
    "#t5Rob = c.sort_values(['Robberies']).tail(5)\n",
    "#b5Rob = c.sort_values(['Robberies']).head(5)\n",
    "#t5SA = c.sort_values(['Sexual Assaults']).tail(5)\n",
    "#b5SA = c.sort_values(['Sexual Assaults']).head(5)\n",
    "#t5VT = c.sort_values(['Vehicle Thefts']).tail(5)\n",
    "#b5VT = c.sort_values(['Vehicle Thefts']).head(5)\n",
    "t5TMCI_2011 = c.sort_values(['Total Major Crime Incidents']).tail(5)\n",
    "b5TMCI_2011 = c.sort_values(['Total Major Crime Incidents']).head(5)"
   ]
  },
  {
   "cell_type": "code",
   "execution_count": 35,
   "metadata": {
    "collapsed": false
   },
   "outputs": [
    {
     "data": {
      "text/html": [
       "<div>\n",
       "<table border=\"1\" class=\"dataframe\">\n",
       "  <thead>\n",
       "    <tr style=\"text-align: right;\">\n",
       "      <th></th>\n",
       "      <th>Neighbourhood</th>\n",
       "      <th>Total Major Crime Incidents</th>\n",
       "    </tr>\n",
       "  </thead>\n",
       "  <tbody>\n",
       "    <tr>\n",
       "      <th>25</th>\n",
       "      <td>Downsview-Roding-CFB</td>\n",
       "      <td>981</td>\n",
       "    </tr>\n",
       "    <tr>\n",
       "      <th>74</th>\n",
       "      <td>Church-Yonge Corridor</td>\n",
       "      <td>1006</td>\n",
       "    </tr>\n",
       "    <tr>\n",
       "      <th>75</th>\n",
       "      <td>Bay Street Corridor</td>\n",
       "      <td>1017</td>\n",
       "    </tr>\n",
       "    <tr>\n",
       "      <th>0</th>\n",
       "      <td>West Humber-Clairville</td>\n",
       "      <td>1119</td>\n",
       "    </tr>\n",
       "    <tr>\n",
       "      <th>76</th>\n",
       "      <td>Waterfront Communities-The Island</td>\n",
       "      <td>1393</td>\n",
       "    </tr>\n",
       "  </tbody>\n",
       "</table>\n",
       "</div>"
      ],
      "text/plain": [
       "                        Neighbourhood  Total Major Crime Incidents\n",
       "25               Downsview-Roding-CFB                          981\n",
       "74              Church-Yonge Corridor                         1006\n",
       "75                Bay Street Corridor                         1017\n",
       "0              West Humber-Clairville                         1119\n",
       "76  Waterfront Communities-The Island                         1393"
      ]
     },
     "execution_count": 35,
     "metadata": {},
     "output_type": "execute_result"
    }
   ],
   "source": [
    "t5TMCI_2011[['Neighbourhood', 'Total Major Crime Incidents']] # Most Total Major Crime Incidents"
   ]
  },
  {
   "cell_type": "code",
   "execution_count": 36,
   "metadata": {
    "collapsed": false
   },
   "outputs": [],
   "source": [
    "c_norm = c.iloc[:,2:16].div(d['Total Population'], axis=0)\n",
    "c_norm['Neighbourhood'] = c.Neighbourhood\n",
    "c_norm['NID'] = c['Neighbourhood Id']"
   ]
  },
  {
   "cell_type": "code",
   "execution_count": 37,
   "metadata": {
    "collapsed": false
   },
   "outputs": [
    {
     "data": {
      "text/html": [
       "<div>\n",
       "<table border=\"1\" class=\"dataframe\">\n",
       "  <thead>\n",
       "    <tr style=\"text-align: right;\">\n",
       "      <th></th>\n",
       "      <th>Neighbourhood</th>\n",
       "      <th>Total Major Crime Incidents</th>\n",
       "    </tr>\n",
       "  </thead>\n",
       "  <tbody>\n",
       "    <tr>\n",
       "      <th>30</th>\n",
       "      <td>Yorkdale-Glen Park</td>\n",
       "      <td>0.037521</td>\n",
       "    </tr>\n",
       "    <tr>\n",
       "      <th>78</th>\n",
       "      <td>University</td>\n",
       "      <td>0.037997</td>\n",
       "    </tr>\n",
       "    <tr>\n",
       "      <th>77</th>\n",
       "      <td>Kensington-Chinatown</td>\n",
       "      <td>0.046973</td>\n",
       "    </tr>\n",
       "    <tr>\n",
       "      <th>75</th>\n",
       "      <td>Bay Street Corridor</td>\n",
       "      <td>0.052572</td>\n",
       "    </tr>\n",
       "    <tr>\n",
       "      <th>72</th>\n",
       "      <td>Moss Park</td>\n",
       "      <td>0.056468</td>\n",
       "    </tr>\n",
       "  </tbody>\n",
       "</table>\n",
       "</div>"
      ],
      "text/plain": [
       "           Neighbourhood  Total Major Crime Incidents\n",
       "30    Yorkdale-Glen Park                     0.037521\n",
       "78            University                     0.037997\n",
       "77  Kensington-Chinatown                     0.046973\n",
       "75   Bay Street Corridor                     0.052572\n",
       "72             Moss Park                     0.056468"
      ]
     },
     "execution_count": 37,
     "metadata": {},
     "output_type": "execute_result"
    }
   ],
   "source": [
    "t5TMCI_2011 = c_norm.sort_values(['Total Major Crime Incidents']).tail(5)\n",
    "t5TMCI_2011[['Neighbourhood', 'Total Major Crime Incidents']] # Most Total Major Crime Incidents"
   ]
  },
  {
   "cell_type": "code",
   "execution_count": null,
   "metadata": {
    "collapsed": true
   },
   "outputs": [],
   "source": []
  },
  {
   "cell_type": "code",
   "execution_count": null,
   "metadata": {
    "collapsed": true
   },
   "outputs": [],
   "source": []
  },
  {
   "cell_type": "code",
   "execution_count": null,
   "metadata": {
    "collapsed": true
   },
   "outputs": [],
   "source": []
  },
  {
   "cell_type": "code",
   "execution_count": null,
   "metadata": {
    "collapsed": true
   },
   "outputs": [],
   "source": []
  },
  {
   "cell_type": "code",
   "execution_count": null,
   "metadata": {
    "collapsed": true
   },
   "outputs": [],
   "source": []
  }
 ],
 "metadata": {
  "kernelspec": {
   "display_name": "Python 2",
   "language": "python",
   "name": "python2"
  },
  "language_info": {
   "codemirror_mode": {
    "name": "ipython",
    "version": 2
   },
   "file_extension": ".py",
   "mimetype": "text/x-python",
   "name": "python",
   "nbconvert_exporter": "python",
   "pygments_lexer": "ipython2",
   "version": "2.7.12"
  }
 },
 "nbformat": 4,
 "nbformat_minor": 0
}
